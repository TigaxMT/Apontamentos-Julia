{
 "cells": [
  {
   "cell_type": "markdown",
   "id": "dba11157-1432-4699-9d93-8a746b33dd47",
   "metadata": {},
   "source": [
    "# Escopo de variáveis\n",
    "\n",
    "***DISCLAIMER: Este notebook foi escrito com base no que li [neste](https://docs.julialang.org/en/v1/manual/variables-and-scoping/) capítulo do manual***.\n",
    "\n",
    "\n",
    "O escopo de uma variável permite-nos criar diferentes variáveis com o mesmo nome em partes diferentes do código. Normalmente ouvimos falar do *escopo global* onde as variáveis são declaradas fora de funções, loops e structs. E o *escopo local* onde as variáveis são criadas dentro de funções, structs ou loops.\n",
    "\n",
    "Os *escopos locais* ainda se subdividem em: *soft* e *hard*.\n",
    "\n",
    "Deixo [aqui](https://docs.julialang.org/en/v1/manual/variables-and-scoping/#man-scope-table) a lista de construtores que criam estes 3 tipos de escopos.\n",
    "\n",
    "***Nota*** &#8595;\n",
    "\n",
    "<hr>\n",
    "\n",
    "Os blocos `if` e `begin` não criam escopos, eles mantêm as variáveis criadas dentro deles, acessíveis fora deles. Vejamos uma exemplo entre `if` e o `for` (este já cria um escopo local).\n",
    "\n",
    "<hr>"
   ]
  },
  {
   "cell_type": "code",
   "execution_count": 3,
   "id": "2523a220-9ff2-4bba-a99d-8573628511d8",
   "metadata": {},
   "outputs": [
    {
     "data": {
      "text/plain": [
       "3"
      ]
     },
     "execution_count": 3,
     "metadata": {},
     "output_type": "execute_result"
    }
   ],
   "source": [
    "x = 1\n",
    "\n",
    "if x == 1\n",
    "    # Vamos criar uma nova variável\n",
    "    y =3\n",
    "end\n",
    "# Vamos tentar aceder à nova variável (vai funcionar)\n",
    "y"
   ]
  },
  {
   "cell_type": "code",
   "execution_count": 5,
   "id": "2e694851-3f22-41b7-9b12-83e03172660c",
   "metadata": {},
   "outputs": [
    {
     "ename": "LoadError",
     "evalue": "UndefVarError: b not defined",
     "output_type": "error",
     "traceback": [
      "UndefVarError: b not defined",
      "",
      "Stacktrace:",
      " [1] top-level scope",
      "   @ :0",
      " [2] eval",
      "   @ .\\boot.jl:360 [inlined]",
      " [3] include_string(mapexpr::typeof(REPL.softscope), mod::Module, code::String, filename::String)",
      "   @ Base .\\loading.jl:1094"
     ]
    }
   ],
   "source": [
    "a = 4\n",
    "\n",
    "for i in 1:a\n",
    "    # Criar constamente uma nova variável\n",
    "    b = 1\n",
    "end\n",
    "\n",
    "# Vamos tentar aceder à nova variável\n",
    "# Vai falar que não está definida, isto porque, ela foi\n",
    "# criada no for e eliminada após o término do mesmo\n",
    "b"
   ]
  },
  {
   "cell_type": "markdown",
   "id": "83dde0c6-2c4d-4b6d-b7f9-782380efb3c9",
   "metadata": {},
   "source": [
    "O **escopo lexical** que Julia utiliza permite que quando estamos dentro de um escopo local, o programa utilize as variáveis definidas nesse escopo (mesmo que haja variáveis globais definidas com os mesmos nomes).\n",
    "\n",
    "Além disso variáveis dentro de um escopo interno (como de um `for`) conseguem ver todas as variáveis dentro desse escopo e fora dele. Já as variáveis fora desse escopo interno, não conseguem aceder às variáveis dentro do escopo interno."
   ]
  },
  {
   "cell_type": "code",
   "execution_count": 6,
   "id": "9911c490-e08b-4db8-b47b-0453f46382de",
   "metadata": {},
   "outputs": [],
   "source": [
    "module Test\n",
    "    x = 3\n",
    "    foo() = x\n",
    "end;"
   ]
  },
  {
   "cell_type": "code",
   "execution_count": 8,
   "id": "5476a1d3-5d4d-457d-8670-f0dfaf13570b",
   "metadata": {},
   "outputs": [
    {
     "data": {
      "text/plain": [
       "3"
      ]
     },
     "execution_count": 8,
     "metadata": {},
     "output_type": "execute_result"
    }
   ],
   "source": [
    "import .Test\n",
    "\n",
    "# Variável global\n",
    "x = -1\n",
    "\n",
    "# Irá utilizar a variável x utilizada dentro do escopo\n",
    "# do module\n",
    "Test.foo()"
   ]
  },
  {
   "cell_type": "markdown",
   "id": "793db440-4aa1-4c93-be97-f8ec173233f6",
   "metadata": {},
   "source": [
    "## Escopo Global\n",
    "\n",
    "Como devem ter visto na tabela os `module` criam variáveis globais (variáveis globais dentro do escopo deles).\n",
    "\n",
    "Podemos importar `modules` dentro de outros `modules`, porém as variáveis desses `modules` importados são apenas *read-only*."
   ]
  },
  {
   "cell_type": "code",
   "execution_count": 10,
   "id": "1e948351-7863-4cc4-9dbf-40d0e03331ee",
   "metadata": {},
   "outputs": [
    {
     "name": "stdout",
     "output_type": "stream",
     "text": [
      "Valor de mod_a = 45\n"
     ]
    },
    {
     "name": "stderr",
     "output_type": "stream",
     "text": [
      "WARNING: replacing module A.\n",
      "WARNING: replacing module B.\n"
     ]
    },
    {
     "ename": "LoadError",
     "evalue": "cannot assign variables in other modules",
     "output_type": "error",
     "traceback": [
      "cannot assign variables in other modules",
      "",
      "Stacktrace:",
      " [1] setproperty!(x::Module, f::Symbol, v::Int64)",
      "   @ Base .\\Base.jl:27",
      " [2] top-level scope",
      "   @ In[10]:13",
      " [3] eval",
      "   @ .\\boot.jl:360 [inlined]",
      " [4] include_string(mapexpr::typeof(REPL.softscope), mod::Module, code::String, filename::String)",
      "   @ Base .\\loading.jl:1094"
     ]
    }
   ],
   "source": [
    "module A\n",
    "    mod_a = 45\n",
    "end;\n",
    "\n",
    "\n",
    "module B\n",
    "    import ..A\n",
    "    \n",
    "    # Posso ler a variável mod_a de A\n",
    "    println(\"Valor de mod_a = \", A.mod_a)\n",
    "\n",
    "    # Mas não vou poder modificar\n",
    "    A.mod_a = 12\n",
    "end;"
   ]
  },
  {
   "cell_type": "code",
   "execution_count": 12,
   "id": "d728faef-cc99-413f-82c4-27c7a39848b2",
   "metadata": {},
   "outputs": [
    {
     "name": "stdout",
     "output_type": "stream",
     "text": [
      "souglobal Global\n",
      "souglobal Local\n"
     ]
    },
    {
     "name": "stderr",
     "output_type": "stream",
     "text": [
      "WARNING: replacing module C.\n"
     ]
    }
   ],
   "source": [
    "# Verificar o escopo global de um module\n",
    "module C\n",
    "    souglobal = \"Global\"\n",
    "\n",
    "    function copia()\n",
    "        souglobal = \"Local\"\n",
    "        println(\"souglobal $souglobal\")\n",
    "    end\n",
    "    \n",
    "    # A modificação dentro da função, não foi uma modificação à variável global\n",
    "    # mas sim a criação de uma variável local dentro da função copia\n",
    "    println(\"souglobal $souglobal\")\n",
    "    copia()\n",
    "end;"
   ]
  },
  {
   "cell_type": "markdown",
   "id": "fb127c28-eaf8-4269-8174-41e107bc004c",
   "metadata": {},
   "source": [
    "## Escopo Local\n",
    "\n",
    "Já vimos no exemplo acima (na função `copia`) que para criar variáveis locais não precisamos de colocar nada antes do nome da variável, o que significa que Julia faz **implicitamente** a declaração da nova variável local.\n",
    "\n",
    "Porém podemos colocar `local` antes de uma variável local, para fazê-lo explicitamente: `local soulocal = \"Local\"`"
   ]
  },
  {
   "cell_type": "markdown",
   "id": "1c181eaa-df14-4878-96c2-6e2705fb40b1",
   "metadata": {},
   "source": [
    "Vamos passar por algumas situações que podem ocorrer:\n",
    "\n",
    "* [1] Se eu definir uma variável local `x` e ela já existir? Então na realidade eu vou apenas modificar o valor da variável `x` que já existe.\n",
    "\n",
    "* [2] Se eu definir uma variável `x` que ainda não existe no *hard scope*, ou seja, dentro de um bloco `function`, `macro` etc ... Julia vai criar essa variável local `x` para mim.\n",
    "\n",
    "* [3] Se eu definir uma variável `x` que ainda não existe no *soft scope*, ou seja, dentro de um bloco `try/catch`, `struct` etc ... Então pode acontecer 2 coisas:\n",
    "    \n",
    "    * Se `x` ainda não existir no escopo global, então será criada uma variável `x` local no soft scope.\n",
    "    * Se `x` já existir no escopo global, então caso estejamos em um modo não interativo, receberemos um warning de ambiguidade, MAS `x` é criado localmente no soft scope. No caso de um ambiente interativo (REPL) iremos modificar a variável `x` global."
   ]
  },
  {
   "cell_type": "code",
   "execution_count": null,
   "id": "9c67bcf3-3c1d-4207-abbc-a85d0ba8c030",
   "metadata": {},
   "outputs": [],
   "source": []
  }
 ],
 "metadata": {
  "kernelspec": {
   "display_name": "Julia 1.6.1",
   "language": "julia",
   "name": "julia-1.6"
  },
  "language_info": {
   "file_extension": ".jl",
   "mimetype": "application/julia",
   "name": "julia",
   "version": "1.6.1"
  }
 },
 "nbformat": 4,
 "nbformat_minor": 5
}
