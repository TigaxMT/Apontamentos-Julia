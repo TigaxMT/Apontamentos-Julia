{
 "cells": [
  {
   "cell_type": "markdown",
   "id": "87986572-3825-4576-8f85-ef8b1560227d",
   "metadata": {},
   "source": [
    "# Funções\n",
    "\n",
    "***DISCLAIMER: Este notebook foi escrito com base no que li [neste](https://docs.julialang.org/en/v1/manual/functions/) capítulo do manual***\n",
    "\n",
    "\n",
    "Em Julia as funções são tradicionalmente definidas de forma similar ao Ruby:"
   ]
  },
  {
   "cell_type": "code",
   "execution_count": null,
   "id": "48f53fda-3fb6-4e47-bb36-66a410dd3950",
   "metadata": {},
   "outputs": [],
   "source": [
    "function f(x,y)\n",
    "    x * y\n",
    "end"
   ]
  },
  {
   "cell_type": "markdown",
   "id": "6eee6fd5-e249-4fec-837c-a22b7ec2d41e",
   "metadata": {},
   "source": [
    "Porém há uma forma mais simples de definir uma função:"
   ]
  },
  {
   "cell_type": "code",
   "execution_count": null,
   "id": "df2f4636-6ea4-4083-b1b3-c6f2a30bbc15",
   "metadata": {},
   "outputs": [],
   "source": [
    "f(x,y) = x * y"
   ]
  },
  {
   "cell_type": "markdown",
   "id": "07190276-4b32-4076-a144-362e7ffb13cf",
   "metadata": {},
   "source": [
    "Ambas fazem a mesma coisa e para funções que fazem coisas simples, como a nossa função `f`, usar esse formato mais simples é bem mais prático."
   ]
  },
  {
   "cell_type": "markdown",
   "id": "fd0033c7-d629-425d-b8aa-b9f48c0cc189",
   "metadata": {},
   "source": [
    "Assim como nas variáveis, podemos definir nomes de funções com Unicode e LaTeX:"
   ]
  },
  {
   "cell_type": "code",
   "execution_count": null,
   "id": "fe4e1ee9-051d-48c5-a67f-039c5bde7446",
   "metadata": {},
   "outputs": [],
   "source": [
    "λ(x,y) = x * y\n",
    "\n",
    "λ(5,5)"
   ]
  },
  {
   "cell_type": "markdown",
   "id": "0ec23edb-895d-4496-bdc5-8f371092bc55",
   "metadata": {},
   "source": [
    "E no caso de não chamarmos a função, podemos passar a referência para outra variável:\n"
   ]
  },
  {
   "cell_type": "code",
   "execution_count": null,
   "id": "95e4e2a3-b0e7-455e-9336-8af26bd2d6df",
   "metadata": {},
   "outputs": [],
   "source": [
    "Σ = λ\n",
    "\n",
    "Σ(5,5)"
   ]
  },
  {
   "cell_type": "markdown",
   "id": "4770f51f-9560-4594-9e37-c3a5d8c4bfef",
   "metadata": {},
   "source": [
    "## Como os argumentos são passados?\n",
    "\n",
    "Antes demais vamos relembrar 2 formas de passar um argumento, muito comuns na linguagem C: **por valor** e **por referência**.\n",
    "\n",
    "Quando um argumento era passado **por valor**, então a linguagem fazia uma cópia exata dos dados e se esse dado fosse uma variável, significava que as alterações feitas a essa variável no escopo da função, não impactavam na variável que fora passada como argumento.\n",
    "\n",
    "&#8595; Código em C &#8595;\n",
    "```\n",
    "int funcao(int x){\n",
    "   x = 2;\n",
    "   \n",
    "   return;\n",
    "}\n",
    "\n",
    "int x = 3;\n",
    "\n",
    "funcao(x);\n",
    "\n",
    "// Vai retornar 3\n",
    "printf(x);\n",
    "```\n",
    "\n",
    "Quando um argumento era passado **por referência**, então a linguagem passava como argumento um pointer para a variável, e assim a função tinha acesso direto à variável, fazendo modificações nela que podiam ser vistas em qualquer escopo dentro do programa (desde que se tivesse acesso a um ponteiro para a variável ou então acesso direto à variável).\n",
    "\n",
    "&#8595; Código em C &#8595;\n",
    "```\n",
    "int funcao(int* x){\n",
    "   *x = 2;\n",
    "   \n",
    "   return;\n",
    "}\n",
    "\n",
    "int x = 3;\n",
    "\n",
    "funcao(&x);\n",
    "\n",
    "// Vai retornar 2\n",
    "printf(x);\n",
    "```"
   ]
  },
  {
   "cell_type": "markdown",
   "id": "34b43612-abfc-4bcc-98d0-b83ed20686fd",
   "metadata": {},
   "source": [
    "Agora que relembrámos um pouco C, vamos voltar para a Julia. Ela usa uma forma de passar argumentos parecida com a passagem por referência, no entanto mistura um pouco orientação a objetos.\n",
    "\n",
    "Julia passa os argumentos **por partilha**. Então, tudo em Julia é um objeto e objetos têm atributos e até mesmo métodos.\n",
    "Quando passamos um objeto como argumento, estamos a passar uma referência, como se fosse um pointer. PORÉM, esse objeto \"não pode\" (ele pode, só não será refletido no objeto original) ser atribuido com novos valores, do tipo: `x = 2` - Mas, por exemplo, se for um `Array`, pode ser transformado por um `push` e isso vai ser visto no objeto original!"
   ]
  },
  {
   "cell_type": "code",
   "execution_count": null,
   "id": "c4d437d9-0d3c-45c1-808f-311280d43edd",
   "metadata": {},
   "outputs": [],
   "source": [
    "# Não vai mudar nada no nosso objeto original\n",
    "function test(a)\n",
    "    a = 2\n",
    "end\n",
    "\n",
    "a = 3\n",
    "\n",
    "test(a)\n",
    "\n",
    "print(a)"
   ]
  },
  {
   "cell_type": "code",
   "execution_count": null,
   "id": "90e4818e-3252-4189-9ae3-3397263bb75b",
   "metadata": {},
   "outputs": [],
   "source": [
    "# Aqui vai-se verificar a mudança no objeto original\n",
    "# pois utilizamos uma função válida que manipula o nosso objeto\n",
    "function test(a)\n",
    "    \n",
    "    # Vai adicionar o inteiro 1\n",
    "    # no fim no array a\n",
    "    push!(a, 1)\n",
    "end\n",
    "\n",
    "a = [1,2]\n",
    "\n",
    "test(a)\n",
    "\n",
    "print(a)"
   ]
  },
  {
   "cell_type": "markdown",
   "id": "e1d609f4-cc4c-4272-8de5-96bdd9279960",
   "metadata": {},
   "source": [
    "Resumindo: Se pudermos modificar um objeto através de uma função ou algo que tenha relação com o objeto, a transformação **vai ser observada no objeto original**.\n",
    "\n",
    "Caso tentemos re-atribuir um valor ao objeto passado como argumento, a transformação **não vai ser observada no objeto original**, mantendo-se apenas no escopo local da função.\n",
    "\n",
    "\n",
    "Podem obter mais informações [aqui](https://en.wikipedia.org/wiki/Evaluation_strategy#Call_by_sharing)\n",
    "\n",
    "<hr>"
   ]
  },
  {
   "cell_type": "markdown",
   "id": "1205fe75-c8ed-44f6-bad7-6b0e2dac2039",
   "metadata": {},
   "source": [
    "## Return\n",
    "\n",
    "A palavra reservada `return` serve para retornar algum valor e assim terminar o fluxo de uma função."
   ]
  },
  {
   "cell_type": "code",
   "execution_count": null,
   "id": "0e0825fd-b8a0-45bd-82f2-7cebb53004e2",
   "metadata": {},
   "outputs": [],
   "source": [
    "function somar_pares(x,y)\n",
    "    if x % 2 == 0 && y % 2 == 0\n",
    "        return x + y\n",
    "    end\n",
    "    \n",
    "    return nothing\n",
    "end\n",
    "\n",
    "# Não vai somar pois 3 não é par\n",
    "println( somar_pares(2,3) )\n",
    "\n",
    "println(somar_pares(2,2))"
   ]
  },
  {
   "cell_type": "markdown",
   "id": "96a57488-92ff-4a92-aeff-d3ce95d45f3d",
   "metadata": {},
   "source": [
    "Porém Julia permite que nós retornemos valores sem a necessidade de escrever explicitamente `return`. Basta o fluxo terminar naturalmente, isto é, se queremos que a função realmente termine num local específico temos de retornar explicitamente, caso contrário, podemos omitir o `return`."
   ]
  },
  {
   "cell_type": "code",
   "execution_count": null,
   "id": "13a48492-311b-4857-9df1-3effed889750",
   "metadata": {},
   "outputs": [],
   "source": [
    "# Exemplo onde o fluxo termina naturalemente\n",
    "# isto porque o código vai rodar ou o código dentro do if\n",
    "# ou o código dentro do else. Isso é garantido\n",
    "\n",
    "function parouimpar(num)\n",
    "    if num % 2 == 0\n",
    "        \"Par\"\n",
    "    else\n",
    "        \"Ímpar\"\n",
    "    end\n",
    "    \n",
    "end\n",
    "\n",
    "parouimpar(2)"
   ]
  },
  {
   "cell_type": "code",
   "execution_count": null,
   "id": "c95f7286-9b40-4fc4-a465-6ea81450e84b",
   "metadata": {},
   "outputs": [],
   "source": [
    "# Exemplo onde temos que retornar explicitamente\n",
    "# isto porque mesmo que caia dentro do if\n",
    "# ele ainda vai terminar o laço if e rodar o que vem\n",
    "# a seguir na função\n",
    "\n",
    "function parouimpar2(num)\n",
    "    if num % 2 == 0\n",
    "        return \"Par\"\n",
    "    end\n",
    "    \n",
    "    \"Ímpar\"\n",
    "    \n",
    "end\n",
    "\n",
    "parouimpar2(2)"
   ]
  },
  {
   "cell_type": "markdown",
   "id": "a6c85e3a-4b87-4d9c-9395-41c82d245193",
   "metadata": {},
   "source": [
    "***Nota*** &#8595;\n",
    "\n",
    "<hr>\n",
    "\n",
    "O `nothing` é um objeto do tipo `Nothing` e ele é usado em funções quando não queremos retornar nada. \n",
    "\n",
    "Fazer `return nothing` ou `return` é a mesma coisa. \n",
    "\n",
    "<hr>"
   ]
  },
  {
   "cell_type": "markdown",
   "id": "0351a66f-79b0-442d-a064-56c6e5ad17bd",
   "metadata": {},
   "source": [
    "## Retornos tipados\n",
    "\n",
    "Podemos definir o tipo do nosso retorno adicionando um `::Type` no fim da nossa declaração de função."
   ]
  },
  {
   "cell_type": "code",
   "execution_count": null,
   "id": "4692dad3-2f7c-41bd-b3cb-2d677e57a4ea",
   "metadata": {},
   "outputs": [],
   "source": [
    "function test(a)::UInt8\n",
    "    return a\n",
    "end\n",
    "\n",
    "# Vai retornar 4, pois é um inteiro de 8 bits\n",
    "println( test(4))\n",
    "\n",
    "# Vai retornar um erro, pois passei um número com sinal\n",
    "# e a função só aceita inteiro de 8 bits sem sinal\n",
    "println( test(-1) )"
   ]
  },
  {
   "cell_type": "markdown",
   "id": "1f8832d7-22f8-4a2c-8890-25e9d3514b56",
   "metadata": {},
   "source": [
    "## Operadores são funções\n",
    "\n",
    "A grande maioria dos operadores são funções (exceto aqueles que precisam que os operadores sejam avaliados antes dos operandos, como o `&&` e o `||`), na realidade quando fazemos: `1 + 2 + 3` - a expressão é parseada e é feita uma chamada para a função `+(1,2,3)`."
   ]
  },
  {
   "cell_type": "code",
   "execution_count": null,
   "id": "6002d461-5447-4e15-a4aa-1bd4e9a933c5",
   "metadata": {},
   "outputs": [],
   "source": [
    "1 + 2 + 3"
   ]
  },
  {
   "cell_type": "code",
   "execution_count": null,
   "id": "72db4700-f9c5-48eb-bb6b-74cef8d30d54",
   "metadata": {},
   "outputs": [],
   "source": [
    "+(1,2,3)"
   ]
  },
  {
   "cell_type": "markdown",
   "id": "29545c28-e6e1-41e9-949d-c9d5f15b43d9",
   "metadata": {},
   "source": [
    "Se podiamos passar uma referência de uma custom function (função criada por nós) para outra variável, não é diferente com estas funções nativas da Julia. "
   ]
  },
  {
   "cell_type": "code",
   "execution_count": null,
   "id": "d1b2e5b5-ed6b-48c6-9c75-40f7b0089375",
   "metadata": {},
   "outputs": [],
   "source": [
    "g = +;\n",
    "\n",
    "g(1,2,3)"
   ]
  },
  {
   "cell_type": "markdown",
   "id": "e9fa1391-f3e5-4207-8a7e-86d4395a75d0",
   "metadata": {},
   "source": [
    "## Operadores com nomes especiais\n",
    "\n",
    "Há outros operadores que também são parseados, internamente, para funções. Vamos ver alguns referidos no manual.\n",
    "\n",
    "<table>\n",
    "    <th>Expressão</th>\n",
    "    <th>Função</th>\n",
    "    <th>Explicação</th>\n",
    "    \n",
    "    <tr>\n",
    "        <td>[A B C ...]</td>\n",
    "        <td>hcat</td>\n",
    "        <td>Concatena horizontalmente, ou seja, no caso da expressão mostrada, tornaria o Vector em Vector Coluna</td>\n",
    "    </tr>\n",
    "    \n",
    "    <tr>\n",
    "        <td>[A; B; C; ...]</td>\n",
    "        <td>vcat</td>\n",
    "        <td>Concatena verticalmente, ou seja, no caso da expressão mostrada, tornaria o Vector em Vector Linha</td>\n",
    "    </tr>\n",
    "    <tr>\n",
    "        <td>[A B; C D; ...]</td>\n",
    "        <td>hvcat</td>\n",
    "        <td>Concatena horizontalmente e verticalmente. É bom para converter múltiplos vetores em uma matriz só.</td>\n",
    "    </tr>\n",
    "    \n",
    "    <tr>\n",
    "        <td>[A]'</td>\n",
    "        <td>adjoint</td>\n",
    "        <td>Obtém o conjugado de um número complexo, porém fa-lo recursivamente em vetores e matrizes.</td>\n",
    "    </tr>\n",
    "    \n",
    "    <tr>\n",
    "        <td>A[i]</td>\n",
    "        <td>getindex</td>\n",
    "        <td></td>\n",
    "    </tr>\n",
    "    \n",
    "    <tr>\n",
    "        <td>A[i] = x</td>\n",
    "        <td>setindex!</td>\n",
    "        <td></td>\n",
    "    </tr>\n",
    "    \n",
    "    <tr>\n",
    "        <td>A.n</td>\n",
    "        <td>getproperty</td>\n",
    "        <td></td>\n",
    "    </tr>\n",
    "    \n",
    "    <tr>\n",
    "        <td>A.n = x</td>\n",
    "        <td>setproperty!</td>\n",
    "        <td></td>\n",
    "    </tr>\n",
    "</table>"
   ]
  },
  {
   "cell_type": "markdown",
   "id": "7ca0a37a-ed02-4e19-b1b2-a3d97b77b1d4",
   "metadata": {},
   "source": [
    "## Funções anónimas\n",
    "\n",
    "Também há a possibilidade de criar funções anónimas (que não têm um nome) de 2 formas diferentes."
   ]
  },
  {
   "cell_type": "code",
   "execution_count": null,
   "id": "b78c3ab2-22b1-4f20-940d-5574a4b5634c",
   "metadata": {},
   "outputs": [],
   "source": [
    "# Sintaxe mais simples e compacta\n",
    "x -> 3x^2"
   ]
  },
  {
   "cell_type": "code",
   "execution_count": null,
   "id": "63f5ec4c-4c70-41da-bd7b-21fcf8052f47",
   "metadata": {},
   "outputs": [],
   "source": [
    "# Sintaxe mais tradicional\n",
    "function (x)\n",
    "    3x^2\n",
    "end"
   ]
  },
  {
   "cell_type": "markdown",
   "id": "cb74eaa2-4827-43cb-a658-90cf46ce5df3",
   "metadata": {},
   "source": [
    "Mas porque é que precisamos de funções anónimas ???\n",
    "\n",
    "Bem, principalmente para passá-las como argumentos para outras funções. Como exemplo, temos o `map` que recebe uma função e um conjunto de dados, onde cada dado será transformado pela função passada como argumento.\n",
    "\n",
    "\n",
    "***Nota*** &#8595;\n",
    "\n",
    "<hr>\n",
    "\n",
    "Não temos necessariamente de passar um função anónima para as funções que recebem outras funções como argumento!\n",
    "\n",
    "Podemos passar funções com nomes, inclusive funções nativas da linguagem.\n",
    "\n",
    "<hr>"
   ]
  },
  {
   "cell_type": "code",
   "execution_count": null,
   "id": "8d4c4fad-6aaf-4ff3-abf3-fcf8ff4182d6",
   "metadata": {},
   "outputs": [],
   "source": [
    "# Vamos modificar os valores de um array\n",
    "# utilizando o map e a nossa função anónima\n",
    "\n",
    "map(x -> 3x^2, [3,4.5,6,7])"
   ]
  },
  {
   "cell_type": "markdown",
   "id": "7f2395c3-46b7-4608-b71b-4093e7e728af",
   "metadata": {},
   "source": [
    "Também podemos criar funções anónimas com múltiplos argumentos: `(x,y,z) -> z * x^y`.\n",
    "\n",
    "E podemos criar funções anónimas sem qualquer argumento: `() -> 23`. Parece inútil, mas pode ser útil para \"atrasar\" cálculos. Vou utilizar o exemplo do manual."
   ]
  },
  {
   "cell_type": "code",
   "execution_count": null,
   "id": "d7f85c24-a91e-41bc-8289-a1e6bf6e8cfb",
   "metadata": {},
   "outputs": [],
   "source": [
    "dicionario = Dict(\n",
    "    \"key1\" => 1,\n",
    "    \"key2\" => 2\n",
    ")"
   ]
  },
  {
   "cell_type": "markdown",
   "id": "36e7de08-a6c7-4e57-b4be-187c31517986",
   "metadata": {},
   "source": [
    "Vamos utilizar a função `get` que recebe um dicionário, uma key e um valor padrão. Ele vai retornar o valor da key dentro do dicionário, se ela existir. Se não retorna o valor padrão."
   ]
  },
  {
   "cell_type": "code",
   "execution_count": null,
   "id": "2028bba4-693c-4dba-b050-0668e70c1f90",
   "metadata": {},
   "outputs": [],
   "source": [
    "get(dicionario, \"key1\", nothing)"
   ]
  },
  {
   "cell_type": "markdown",
   "id": "1bcb6a44-2f4b-45bc-82cc-f48d3b95cec6",
   "metadata": {},
   "source": [
    "Só que em vez do valor padrão podemos passar uma função anónima que só será executada se a key não estiver presente no dicionário. Ou seja, o conteúdo da nossa função anónima é \"atrasado\", pela hipótese de as keys que passarmos estarem presentes no dicionário (pois ela só é executada se as keys não tiverem no dicionário).\n",
    "\n",
    "<hr>\n",
    "\n",
    "Podemos fazê-lo com um bloco `do` ou com a função anónima passada como argumento."
   ]
  },
  {
   "cell_type": "code",
   "execution_count": null,
   "id": "edb6ee98-c4cf-42cc-86ae-bec8ab814812",
   "metadata": {},
   "outputs": [],
   "source": [
    "# Com o do block\n",
    "get(dicionario, \"key3\") do\n",
    "    time()\n",
    "end"
   ]
  },
  {
   "cell_type": "code",
   "execution_count": null,
   "id": "c531c121-0bc4-44de-950c-83d2dc3afd8a",
   "metadata": {},
   "outputs": [],
   "source": [
    "# Com a função anónima\n",
    "get(()->time(), dicionario, \"key3\")"
   ]
  },
  {
   "cell_type": "markdown",
   "id": "5a458863-0dd6-4dc8-97ea-e93ac1d1514c",
   "metadata": {},
   "source": [
    "## Tuplas\n",
    "\n",
    "Eu sei, não faz muito sentido estar aqui uma estrutura de dados, sendo este notebook sobre funções ... Mas há uma razão para isso que vão entender mais à frente!\n",
    "\n",
    "Assim como em Python, as tuplas são imutáveis e podem armazenar qualquer tipo de valor. São parecidas com um Array imutável."
   ]
  },
  {
   "cell_type": "code",
   "execution_count": null,
   "id": "8f39a19a-fddb-460e-a07d-fbff420741ec",
   "metadata": {},
   "outputs": [],
   "source": [
    "tupla = (1,2,3,4)\n",
    "\n",
    "tupla[1]"
   ]
  },
  {
   "cell_type": "code",
   "execution_count": null,
   "id": "f87ac991-8809-4f9b-9fdf-f40c2274be83",
   "metadata": {},
   "outputs": [],
   "source": [
    "# Vamos tentar mudar um valor\n",
    "tupla[1] = 5"
   ]
  },
  {
   "cell_type": "markdown",
   "id": "b1861590-089f-40ac-9bab-e9feb1c43ea4",
   "metadata": {},
   "source": [
    "Também é possível atribuir nomes aos valores dentro da tupla, algo idêntico a um dicionário."
   ]
  },
  {
   "cell_type": "code",
   "execution_count": null,
   "id": "ebb22598-b2d4-44e0-8bda-b0a2970b7499",
   "metadata": {},
   "outputs": [],
   "source": [
    "tupla = (a=1,b=2,c=3)\n",
    "\n",
    "# Primeiro valor\n",
    "println( tupla[1] )\n",
    "\n",
    "# Primeiro valor acedido pelo nome\n",
    "println( tupla.a )"
   ]
  },
  {
   "cell_type": "markdown",
   "id": "f3389e89-549a-4fbf-b6c1-628803aeeb2b",
   "metadata": {},
   "source": [
    "E agora vamos para a razão do porquê estarmos a falar de tuplas. Uma função não tem, necessariamente, de retornar somente 1 valor. Ela pode retornar múltiplos valores, basta separá-los por vírgulas no `return`."
   ]
  },
  {
   "cell_type": "code",
   "execution_count": null,
   "id": "56141296-1049-4134-ba75-674c7fdf8399",
   "metadata": {},
   "outputs": [],
   "source": [
    "function test(x,y,z)\n",
    "    x += 1\n",
    "    y += 2\n",
    "    z += 3\n",
    "    \n",
    "    return x,y,z\n",
    "end"
   ]
  },
  {
   "cell_type": "code",
   "execution_count": null,
   "id": "212768fb-1bc1-4d61-9512-99ca98db07dc",
   "metadata": {},
   "outputs": [],
   "source": [
    "# Vamos ver o que retorna\n",
    "testret = test(1,2,3)\n",
    "\n",
    "println(testret, \" - \", typeof( testret ) )"
   ]
  },
  {
   "cell_type": "markdown",
   "id": "055d2631-d268-45b3-ac01-64f9fc4768c4",
   "metadata": {},
   "source": [
    "Como vimos ela retorna uma tupla com todos os nossos valores! E para voltar a colocar esses valores, em diferentes variáveis, usamos algo chamado de *destructuring*, um nome complexo para algo simples. O que vai acontecer, é que vamos criar múltiplas variáveis para cada uma receber o seu respetivo valor."
   ]
  },
  {
   "cell_type": "code",
   "execution_count": null,
   "id": "fe79097b-9286-467d-b866-c62c7d785895",
   "metadata": {},
   "outputs": [],
   "source": [
    "x,y,z = testret\n",
    "\n",
    "# Verificar se as nossas variáveis têm os valores corretos\n",
    "println(\"x = $x, y = $y, z = $z\")"
   ]
  },
  {
   "cell_type": "markdown",
   "id": "dd13c029-e59c-4b22-ba0f-827e08b48c61",
   "metadata": {},
   "source": [
    "## Destructuring de argumentos\n",
    "\n",
    "Esta feature também pode ser aplicada para passar argumentos para uma função, **porém a função tem que receber uma tupla e não argumentos individuais.**"
   ]
  },
  {
   "cell_type": "code",
   "execution_count": null,
   "id": "4efe23e9-7a0b-49e9-b7e9-8fb3e190cd74",
   "metadata": {},
   "outputs": [],
   "source": [
    "# Esta função retorna uma tupla com o mínimo e o máximo\n",
    "# dos valores que passarmos\n",
    "minmax(4,3)"
   ]
  },
  {
   "cell_type": "code",
   "execution_count": null,
   "id": "778bf62f-390f-49c8-9cef-6ed5ee5e70e0",
   "metadata": {},
   "outputs": [],
   "source": [
    "# Vamos receber a tupla e subtrair o máximo pelo mínimo\n",
    "test((min, max)) = max - min\n",
    "\n",
    "test(minmax(4,3))"
   ]
  },
  {
   "cell_type": "markdown",
   "id": "83e11b35-d4cf-44ea-bd6a-82771469a493",
   "metadata": {},
   "source": [
    "## Funções com Varargs\n",
    "\n",
    "O nome Varargs vem de *Número de argumentos variável*, ou seja, é uma função que pode receber $n$ argumentos.\n",
    "\n",
    "Para criar funções deste tipo basta definirmos uma função normal, onde o último argumento denominado de *varargs* leva reticências depois do seu nome. Na realidade ele vai ser uma tupla de tamanho $n$ com todos os argumentos passados além dos já definidos."
   ]
  },
  {
   "cell_type": "code",
   "execution_count": null,
   "id": "a39c334a-bea5-4d5f-a558-a552259f826e",
   "metadata": {},
   "outputs": [],
   "source": [
    "test2(a,b,c...) = (a,b,c)"
   ]
  },
  {
   "cell_type": "code",
   "execution_count": null,
   "id": "c3979805-a99f-4fd0-8961-72dee6ea37da",
   "metadata": {},
   "outputs": [],
   "source": [
    "# Passar apenas os argumentos definidos\n",
    "test2(6,7)"
   ]
  },
  {
   "cell_type": "code",
   "execution_count": null,
   "id": "6a21657a-fd61-49a9-ac00-7e95b9908d83",
   "metadata": {},
   "outputs": [],
   "source": [
    "# Passar mais argumentos além dos definidos\n",
    "test2(0,3,1,3,5,6)"
   ]
  },
  {
   "cell_type": "markdown",
   "id": "80bfac01-749b-4aa0-9161-2b01ab73ab49",
   "metadata": {},
   "source": [
    "No Python temos o unpacking que basicamente extrai todos os valores indivíduais de uma iterable (tupla ou lista). Aqui em Julia podemos fazer o mesmo utilizando as reticências à frente do nome do iterable, sendo bastante útil para passarmos argumentos de forma individual para a nossa função."
   ]
  },
  {
   "cell_type": "code",
   "execution_count": null,
   "id": "6c2130ed-1388-4cd8-bdb9-abe586ebff4d",
   "metadata": {},
   "outputs": [],
   "source": [
    "y = (4,5,6)\n",
    "\n",
    "# Os valores vão ser passados individualmente\n",
    "test2(0,1,y...)"
   ]
  },
  {
   "cell_type": "code",
   "execution_count": null,
   "id": "58bcca48-28d7-4877-8494-de84401e92f0",
   "metadata": {},
   "outputs": [],
   "source": [
    "# Exemplo onde os valores NÃO são passados individualmente\n",
    "# mas sim a tupla toda é passada\n",
    "test2(0,1, y)"
   ]
  },
  {
   "cell_type": "markdown",
   "id": "730d9a25-7929-4d12-b0ca-14706fb2fa28",
   "metadata": {},
   "source": [
    "Não temos de fazer esse unpacking apenas em tuplas, também pode ser aplicado em arrays.\n",
    "\n",
    "<hr>\n",
    "\n",
    "\n",
    "Se tivermos apenas uma função comum (com parâmetros previamente definidos) também podemos utilizar o unpacking para passar os argumentos, desde que façamos unpack de um número de valores $=$ ao número de parâmetros."
   ]
  },
  {
   "cell_type": "code",
   "execution_count": null,
   "id": "84d0659f-2e3b-4a49-8647-bea17cf2a8c2",
   "metadata": {},
   "outputs": [],
   "source": [
    "test3(a,b) = (a,b)\n",
    "\n",
    "x = [1,2]\n",
    "\n",
    "# Vai funcionar sem problema (a = 1 e b = 2)\n",
    "test3(x...)"
   ]
  },
  {
   "cell_type": "code",
   "execution_count": null,
   "id": "a3ab6f19-8d80-4431-8ea3-5ba29067c31b",
   "metadata": {},
   "outputs": [],
   "source": [
    "# Vai dar erro porque passámos mais valores do que argumentos que temos\n",
    "# definidos na função\n",
    "x = [1,2,3]\n",
    "\n",
    "test3(x...)"
   ]
  },
  {
   "cell_type": "markdown",
   "id": "8b728344-bca9-448b-9f69-36d7d23c6f93",
   "metadata": {},
   "source": [
    "## Argumentos opcionais e com nomes\n",
    "\n",
    "Por defeito, os argumentos nas funções têm posições específicas: `function test(x,y)` - O argumento `x` tem de ser passado na primeira posição e o `y` na segunda. Será que não há uma forma de poder passar os argumentos na posição que quisermos ??\n",
    "\n",
    "Há sim! E esses são os tais de *argumentos identificados por nome*, onde nós colocamos um valor padrão neles e separámos eles dos *argumentos identidicados por posição* com um `;`, mas essa separação **é apenas obrigatória quando passamos varargs e argumentos com nomes que exigem em algum tipo de cálculo (computação) em tempo real**. "
   ]
  },
  {
   "cell_type": "code",
   "execution_count": null,
   "id": "9c93a14f-b502-4586-878c-153b133afa61",
   "metadata": {},
   "outputs": [],
   "source": [
    "function test(x,y; nome=\"asd\", idade=5)\n",
    "    println(nome, \" \", idade)\n",
    "end\n",
    "\n",
    "# Podemos trocar a ordem dos argumentos com nome, sem problema algum\n",
    "test(1,1, idade=43, nome=\"jhg\")"
   ]
  },
  {
   "cell_type": "markdown",
   "id": "83387d06-3667-4c2f-be2b-a3ec50c0e236",
   "metadata": {},
   "source": [
    "Lembrando que esses argumentos que já têm um valor padrão, são opcionais, ou seja, não somos obrigados a definir um valor para eles quando chamamos a função, eles simplesmente usarão os valores que atribuimos como padrão.\n",
    "\n",
    "Porém deixam de ser opcionais se não colocarmos um valor padrão, mas mantêm-se *argumentos identificados por nome* se colocarmos o `;` a separar."
   ]
  },
  {
   "cell_type": "code",
   "execution_count": null,
   "id": "19d008d3-32a5-406b-939b-79d66ef100a3",
   "metadata": {},
   "outputs": [],
   "source": [
    "test4(x; j) = (x,j)\n",
    "\n",
    "# Vai funcionar\n",
    "test4(1; j=4)"
   ]
  },
  {
   "cell_type": "code",
   "execution_count": null,
   "id": "02c2f439-a462-448d-9250-b26fe7de92fd",
   "metadata": {},
   "outputs": [],
   "source": [
    "# Vai dar um erro, pois não passamos\n",
    "# um valor para o argumento com nome\n",
    "test4(1)"
   ]
  },
  {
   "cell_type": "code",
   "execution_count": null,
   "id": "0805552f-bf02-475a-b0bc-d25d6eab54dd",
   "metadata": {},
   "outputs": [],
   "source": [
    "# Exemplo de função onde os argumentos precisam ser explicitamente separados\n",
    "# devido ao varargs\n",
    "function simple(a, x...; k=1)\n",
    "    \n",
    "    # Fazemos um unpacking da tupla x (varargs)\n",
    "    # só para o resultado final ser mais \"bonito\"\n",
    "    (x..., k, a)\n",
    "end\n",
    "\n",
    "test_x = [1,2,3,4,5]\n",
    "\n",
    "# Podemos até trocar a ordem entre os argumentos nominais\n",
    "# porém a ordem dos argumentos posicionais tem de se manter\n",
    "# terei de passar primeiro o valor de a e depois os restantes args\n",
    "simple(k=6, 7, test_x...)"
   ]
  },
  {
   "cell_type": "markdown",
   "id": "f0555242-0460-4db7-83ed-fa183298066a",
   "metadata": {},
   "source": [
    "Acima eu falei que tinhamos que separar expliciamente argumentos nominais e posicionais quando tinhamos varargs (como mostrado acima) e quando haviam argumentos que passavam por cálculos.\n",
    "\n",
    "Um exemplo de um argumento que precisa de calcular algo é quando passamos argumentos como `key => value` "
   ]
  },
  {
   "cell_type": "code",
   "execution_count": null,
   "id": "413df37c-fd77-4461-97a3-471d3ed97f01",
   "metadata": {},
   "outputs": [],
   "source": [
    "function plot(x, y; width)\n",
    "    (x,y, width)\n",
    "end\n",
    "\n",
    "# Funciona\n",
    "println( plot(3,4, width = 2) )\n",
    "\n",
    "# Não vai funcionar, pois estou a passar um key => value\n",
    "# que precisa ser calculado e convertido para arg = value\n",
    "println( plot(3,4, :width => 2) )"
   ]
  },
  {
   "cell_type": "code",
   "execution_count": null,
   "id": "322e2bc4-caad-43ca-983c-cbc15c4b682c",
   "metadata": {},
   "outputs": [],
   "source": [
    "# Para funcionar tenho que separar explicitamente os args posicionais e nominais \n",
    "println( plot(3,4; :width => 2) )"
   ]
  },
  {
   "cell_type": "markdown",
   "id": "12ea6a5d-7db8-4e96-9e29-9b883e5e1989",
   "metadata": {},
   "source": [
    "Pode repetir-se nomes **se** houver um nome nominal e outro no varargs. **Não pode haver 2 nomes nominais repetidos**."
   ]
  },
  {
   "cell_type": "code",
   "execution_count": null,
   "id": "32a86183-fab0-4bd0-ae5a-1503d62861d5",
   "metadata": {},
   "outputs": [],
   "source": [
    "function nominal_varargs(x; width, opts...)\n",
    "    # width vai ser 2, pois o argumento mais à direita\n",
    "    #, neste caso, tem precedência\n",
    "    (x, width,)\n",
    "end\n",
    "\n",
    "options = (\n",
    "    width = 2,\n",
    ")\n",
    "\n",
    "opts = (\n",
    "    width = 3,\n",
    ")\n",
    "\n",
    "\n",
    "nominal_varargs(5; opts..., options.width)"
   ]
  },
  {
   "cell_type": "markdown",
   "id": "d4bc8953-25f4-4d25-9997-9b9598c2f1a8",
   "metadata": {},
   "source": [
    "Algo a ter em atenção é o escopo dos argumentos. Na função `f` mostrada logo abaixo, vimos o argumento `a = b`, e logo de seguida temos um argumento `b = 2`. **O argumento `a` é igual à variável `b` fora do escopo da função, ou seja, é igual ao nosso `b = 3`** e não ao argumento `b`."
   ]
  },
  {
   "cell_type": "code",
   "execution_count": null,
   "id": "24d6faa9-c5cb-4b71-a6e1-9f336efc5f2c",
   "metadata": {},
   "outputs": [],
   "source": [
    "b = 3"
   ]
  },
  {
   "cell_type": "code",
   "execution_count": null,
   "id": "d2d60649-fe7a-4ea5-be65-efab607b56bb",
   "metadata": {},
   "outputs": [],
   "source": [
    "function f(x, a=b, b = 2)\n",
    "    # a = 3 e b = 2\n",
    "    (x, a, b)\n",
    "end\n",
    "\n",
    "\n",
    "f(1)"
   ]
  },
  {
   "cell_type": "markdown",
   "id": "36aa8bb8-4dc9-4983-9b42-4211f864f4d1",
   "metadata": {},
   "source": [
    "## Bloco do\n",
    "\n",
    "Quando precisamos passar uma função como argumento é comum usarmos a sintaxe `x -> [...]` para criar uma função anónima, porém se a função ocupar mais que uma linha fica ... estranho, pois teremos de usar o `begin` para delimitar o bloco da função, tudo dentro dos parênteses da função que recebe esta função como argumento.\n",
    "\n",
    "\n",
    "Para o código ficar mais limpo Julia tem o `do` que permite-nos criar uma função anónima logo após a chamada da função que recebe essa função anónima como argumento. Aqui vai o exemplo do manual."
   ]
  },
  {
   "cell_type": "code",
   "execution_count": null,
   "id": "cf941d77-2d46-42d4-95a5-1711d26f818b",
   "metadata": {},
   "outputs": [],
   "source": [
    "map([-4,5,0]) do x\n",
    "    \n",
    "    if x < 0\n",
    "        return 0\n",
    "    elseif x == 0\n",
    "        return 1\n",
    "    else\n",
    "        return x\n",
    "    end\n",
    "end"
   ]
  },
  {
   "cell_type": "markdown",
   "id": "4c942927-7939-4418-b8df-48ff0608dbba",
   "metadata": {},
   "source": [
    "## Composição e piping em funções\n",
    "\n",
    "Se estudam matemática há uma certa probabilidade de se terem cruzado com uma expressão deste género:\n",
    "$f \\circ g$ em que que $f$ e $g$ são funções. Basicamente, a função $g$ é executada e o resultado dela é passado como argumento para $f$, dando assim o resultado final da expressão.\n",
    "\n",
    "Podemos reescrevê-la da seguinta forma: $f(g(x,...))$ onde $x,...$ serve apenas para simbolizar os argumentos passados para a função $g$.\n",
    "\n",
    "\n",
    "A esta expressão, chamamos de **composição** e adivinhem só ... Podemos usá-la em Julia!!\n",
    "\n",
    "Para escrever o simbolo $\\circ$, escrevemos `\\circ` + TAB.\n",
    "\n",
    "Vamos utilizar o exemplo do manual, onde adicionamos, primeiro, os argumentos e depois fazemos a raiz quadrada da soma.\n",
    "\n",
    "\n",
    "***Nota*** &#8595;\n",
    "\n",
    "<hr>\n",
    "\n",
    "Quando tiverem a tentar entender uma composição de funções, leiam-nas da direita para a esquerda, pois essa é a ordem de execução delas.\n",
    "\n",
    "<hr>"
   ]
  },
  {
   "cell_type": "code",
   "execution_count": null,
   "id": "9732734e-6848-45b0-b7a1-7631b20a82b3",
   "metadata": {},
   "outputs": [],
   "source": [
    "(sqrt ∘ +)(3,6)"
   ]
  },
  {
   "cell_type": "markdown",
   "id": "b0d12033-f66f-4bd9-9e66-58bcb015ea99",
   "metadata": {},
   "source": [
    "Utilizando utilizando composição de funções no `map`. "
   ]
  },
  {
   "cell_type": "code",
   "execution_count": null,
   "id": "8c3934c1-cc17-41c9-9c04-ee4d0c3b0a73",
   "metadata": {},
   "outputs": [],
   "source": [
    "map(first ∘ reverse ∘ uppercase, split(\"ailuj ailju aiujl aluji iluja\"))"
   ]
  },
  {
   "cell_type": "markdown",
   "id": "193cde1d-e263-4a7c-bff3-1fea0d037df2",
   "metadata": {},
   "source": [
    "**Piping** é um encadeamento de funções onde o resultado da primeira função é o argumento da próxima (aqui já lemos as funções da esquerda para a direita).\n",
    "\n",
    "No exemplo abaixo, nós geramos 10 inteiros (de 1 a 10), fazemos a soma de todos eles e por fim é feita a raiz quadrada da soma. \n",
    "\n",
    "O simbolo de piping é o `|>`."
   ]
  },
  {
   "cell_type": "code",
   "execution_count": null,
   "id": "783149b5-da71-4711-a297-296f84f07d68",
   "metadata": {},
   "outputs": [],
   "source": [
    "1:10 |> sum |> sqrt"
   ]
  },
  {
   "cell_type": "markdown",
   "id": "062e27c9-ed34-4658-9813-3348728d79cb",
   "metadata": {},
   "source": [
    "Também suporta broadcasting, onde ele vai passar por todos os elementos do array da esquerda e ligá-los com o seu correspondente no array da direita."
   ]
  },
  {
   "cell_type": "code",
   "execution_count": null,
   "id": "1cad2d45-dd02-4452-9df8-a99244c42650",
   "metadata": {},
   "outputs": [],
   "source": [
    "split(\"maiuscula itrevni sou_um_titulo 7letras\") .|> [uppercase, reverse, titlecase, length]"
   ]
  },
  {
   "cell_type": "markdown",
   "id": "f6c46044-1766-43a1-ad79-1b01d4ccbf51",
   "metadata": {},
   "source": [
    "## Broadcasting em funções\n",
    "\n",
    "Não vou explicar o que é broadcasting, pois isso já fiz no notebook *\"Operações matemáticas\" - Operações elemento a elemento*.\n",
    "\n",
    "Podemos transformar cada elemento de uma estrutura de dados (como um Array) utilizando broadcasting em uma função."
   ]
  },
  {
   "cell_type": "code",
   "execution_count": null,
   "id": "a6810a89-7429-4fce-8d2c-f8ec5eea448b",
   "metadata": {},
   "outputs": [],
   "source": [
    "x = [1,2,3,4,5]\n",
    "\n",
    "function quadrado_mais4(a)\n",
    "    # Transforma em a^2 + 4\n",
    "    return a^2 + 4\n",
    "end\n",
    "\n",
    "\n",
    "#Vamos fazer o quadrado_mais4 de todos os elementos\n",
    "# do Array x\n",
    "quadrado_mais4.(x)"
   ]
  },
  {
   "cell_type": "markdown",
   "id": "3c588340-e31d-4758-80e3-fcfd1dc9c279",
   "metadata": {},
   "source": [
    "Julia faz um *fused* durante os broadcastings aninhados (nested), fazendo com que apenas uma instância da variável que está a ser transformada por funções/operações, seja criada (sem necessidade de criar variáveis temporárias). Lembrando que isso tudo passa-se dentro de um loop criado pelo broadcasting.\n",
    "\n",
    "\n",
    "O *fused* não é garantido, já que ele só para quando encontra uma função que **não** está a passar por um broadcasting. Aqui vai um exemplo: `sin.(sort(cos.(X)))` - o `sort` corta o aninhamento de broadcastings, fazendo com que não seja garantido o *fused*.\n",
    "\n",
    "\n",
    "\n",
    "Para evitar a criação de novos arrays a cada iteração do broadcasting, podemos utilizar algo denominado de **pré-alocação**, utilizando a função `broadcast!` ou criando uma variável de output com o tamanho exato (exemplo na célula de código logo abaixo).\n",
    "\n",
    "Por exemplo: `broadcast!(sin, X, Y)` $\\iff$ `X .= sin.(Y)` - onde `sin(Y)` é sobrescreve `X`. Isto prevenirá a criação de novos arrays ao longo do loop do broadcasting.\n",
    "\n",
    "***Nota*** &#8595;\n",
    "\n",
    "<hr>\n",
    "\n",
    "Eu não tenho falado muito da função `broadcast`, porque irei falar dela em outro notebook. O `broadcast!` é o mesmo que `broadcast` só que como tem `!` no final, significa que modifica diretamente os argumentos (como já tinha referido no notebook *\"Variáveis\"*).\n",
    "\n",
    "<hr>"
   ]
  },
  {
   "cell_type": "code",
   "execution_count": null,
   "id": "e26b2a0e-2a44-4f8e-bcaf-104f3c80f8b9",
   "metadata": {},
   "outputs": [],
   "source": [
    "# Prevenir a alocação de novos arrays durante os broadcastings\n",
    "# agora utilizando a técnica de criar um output com o tamanho\n",
    "# correto\n",
    "\n",
    "# INPUT\n",
    "Y = [1.,2.,3.,4.,5.]\n",
    "\n",
    "# similar() cria um objeto igual ao do argumento\n",
    "# porém com valores aleatórios\n",
    "X = similar(Y) # Pre alocação do output\n",
    "\n",
    "\n",
    "# Lembrando que @. transforma todas as operações em broadcastings\n",
    "# o equivalente deste expressão seria: X .= sin.(cos.(Y))\n",
    "@. X = sin(cos(Y))"
   ]
  }
 ],
 "metadata": {
  "kernelspec": {
   "display_name": "Julia 1.6.1",
   "language": "julia",
   "name": "julia-1.6"
  },
  "language_info": {
   "file_extension": ".jl",
   "mimetype": "application/julia",
   "name": "julia",
   "version": "1.6.1"
  }
 },
 "nbformat": 4,
 "nbformat_minor": 5
}
