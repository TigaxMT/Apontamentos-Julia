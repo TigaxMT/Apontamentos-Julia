{
 "cells": [
  {
   "cell_type": "markdown",
   "id": "11d0a2de-e3c9-4400-a3db-d04b01fb7bef",
   "metadata": {},
   "source": [
    "# Controlar o fluxo do programa\n",
    "\n",
    "\n",
    "***DISCLAIMER: Este notebook foi escrito com base no que li [neste](https://docs.julialang.org/en/v1/manual/control-flow/) capítulo do manual***\n",
    "\n",
    "\n",
    "Normalmente o fluxo de um programa não é sequencial, há sempre alguma condição, loop ou uma chamada de função que quebra um pouco essa linearidade.\n",
    "\n",
    "Neste notebook vamos falar de algo muito importante: <u>mecanismos de controlo de fluxo.</u>"
   ]
  },
  {
   "cell_type": "markdown",
   "id": "b9e35fd2-9bb7-441d-b021-f9ccfecef7df",
   "metadata": {},
   "source": [
    "## Expressões compostas\n",
    "\n",
    "Por vezes criar funções pode ser demais, pois simplesmente podemos querer criar uma variável que reflete o resultado de um conjunto de cálculos.\n",
    "\n",
    "O `begin` pode ajudar-nos nisso, ele permite que definamos e façamos cálculos dentro de um bloco de código e no fim retorna-nos o resultado, podendo assim ser armazenado em uma variável."
   ]
  },
  {
   "cell_type": "code",
   "execution_count": 1,
   "id": "3eafbb9e-4181-4ae5-83d5-5d88d24b79a9",
   "metadata": {},
   "outputs": [
    {
     "data": {
      "text/plain": [
       "2"
      ]
     },
     "execution_count": 1,
     "metadata": {},
     "output_type": "execute_result"
    }
   ],
   "source": [
    "z = begin\n",
    "    x = 1\n",
    "    y = 2\n",
    "    x * y\n",
    "end"
   ]
  },
  {
   "cell_type": "markdown",
   "id": "f6f5932e-0606-4f49-80f0-1161afc9d378",
   "metadata": {},
   "source": [
    "Se esta sintaxe é \"verbosa\" demais e/ou queremos um código mais limpo, podemos utilizar uma cadeia de expressões separadas por `;`, sendo que a última retonará o resultado final, assim como na sintaxe do `begin`."
   ]
  },
  {
   "cell_type": "code",
   "execution_count": 2,
   "id": "a17aa357-765b-437f-a6d4-3ab296444536",
   "metadata": {},
   "outputs": [
    {
     "data": {
      "text/plain": [
       "2"
      ]
     },
     "execution_count": 2,
     "metadata": {},
     "output_type": "execute_result"
    }
   ],
   "source": [
    "z = (x=1; y=2; x*y)"
   ]
  },
  {
   "cell_type": "markdown",
   "id": "0c0de805-177f-4cf2-80aa-b04d2b6a5a53",
   "metadata": {},
   "source": [
    "***Nota*** &#8595;\n",
    "\n",
    "<hr>\n",
    "\n",
    "* Em ambas as formas pode-se fazer quebras de linhas entras as expressões ou então pode-se deixar tudo na mesma linha\n",
    "\n",
    "* As variáveis criadas dentro do escopo do `begin` ou dos `;` são acessíveis fora desse escopo\n",
    "\n",
    "<hr>"
   ]
  },
  {
   "cell_type": "markdown",
   "id": "752d0f46-229e-4a79-ad8f-202676de94a5",
   "metadata": {},
   "source": [
    "## Condicionais\n",
    "\n",
    "Criar condições é idêntico ao Python e à maioria das linguagens. \n",
    "\n",
    "Em Julia definimos o fim de um mecanismo de controlo de fluxo como nas funções, com um `end`.\n",
    "\n",
    "O `elif` do Python existe, só que aqui chama-se `elseif`."
   ]
  },
  {
   "cell_type": "code",
   "execution_count": 3,
   "id": "2ca41b1c-1a13-49ce-8f32-68ff5ad8905a",
   "metadata": {},
   "outputs": [
    {
     "name": "stdout",
     "output_type": "stream",
     "text": [
      "Vamos apanhar sol na varanda, porque estamos no meio de uma pandemia e não podemos sair de casa!!!!\n"
     ]
    }
   ],
   "source": [
    "clima = \"Sol\"\n",
    "\n",
    "print(\"Vamos \")\n",
    "\n",
    "if clima == \"Chuva\"\n",
    "    println(\"ficar em casa\")\n",
    "\n",
    "elseif clima == \"Ventoso\"\n",
    "    println(\"estender a roupa\")\n",
    "\n",
    "else\n",
    "    println(\"apanhar sol na varanda, porque estamos no meio de uma pandemia e não podemos sair de casa!!!!\")\n",
    "end"
   ]
  },
  {
   "cell_type": "markdown",
   "id": "7924ea3f-0707-47dd-a21e-a4685f1bf426",
   "metadata": {},
   "source": [
    "As condições também retornam valores por padrão. Vamos refazer o exemplo anterior."
   ]
  },
  {
   "cell_type": "code",
   "execution_count": 4,
   "id": "c07995a4-e3ed-4fc3-9442-130d5863f596",
   "metadata": {},
   "outputs": [
    {
     "name": "stdout",
     "output_type": "stream",
     "text": [
      "Vamos apanhar sol na varanda, porque estamos no meio de uma pandemia e não podemos sair de casa!!!!"
     ]
    }
   ],
   "source": [
    "function whattodo(clima)\n",
    "\n",
    "    if clima == \"Chuva\"\n",
    "        \"ficar em casa\"\n",
    "\n",
    "    elseif clima == \"Ventoso\"\n",
    "        \"estender a roupa\"\n",
    "\n",
    "    else\n",
    "        \"apanhar sol na varanda, porque estamos no meio de uma pandemia e não podemos sair de casa!!!!\"\n",
    "    end\n",
    "end\n",
    "\n",
    "print(\"Vamos \", whattodo(\"Sol\"))"
   ]
  },
  {
   "cell_type": "markdown",
   "id": "488a6c38-8a62-431e-9f13-100f4880d88a",
   "metadata": {},
   "source": [
    "## Operador ternário\n",
    "\n",
    "Os blocos de condições `if` podem ser demais em certas situações, às vezes só queremos verificar uma única coisa e retornar algo.\n",
    "\n",
    "Para situações dessas existe o operador ternário `?`"
   ]
  },
  {
   "cell_type": "code",
   "execution_count": 5,
   "id": "498bc83e-d631-4f62-8ab3-131471d726e3",
   "metadata": {},
   "outputs": [
    {
     "name": "stdout",
     "output_type": "stream",
     "text": [
      "1 é menor que 2\n"
     ]
    }
   ],
   "source": [
    "# Verificar de 1 é maior que 2, se for então ele retorna maior, se não menor\n",
    "\n",
    "resp = 1 > 2 ? \"maior\" : \"menor\"\n",
    "\n",
    "println(\"1 é $resp que 2\")"
   ]
  },
  {
   "cell_type": "markdown",
   "id": "8191b950-cdf6-42e1-819b-1c312dafbef2",
   "metadata": {},
   "source": [
    "Também podem aninhar múltiplas operações ternárias, por exemplo, as respostas podem ser outras condições passadas com operadores ternários. Porém acho que, nesses casos, é mais legível um bloco `if`.\n",
    "\n",
    "\n",
    "***Nota*** &#8595;\n",
    "\n",
    "<hr>\n",
    "\n",
    "É importante deixarem espaços entre o `?` e o `:` para evitarem erros de execução.\n",
    "\n",
    "<hr>"
   ]
  },
  {
   "cell_type": "markdown",
   "id": "93e543e9-a77d-42d1-8f33-c77cd4d26444",
   "metadata": {},
   "source": [
    "## Avaliação Short-Circuit\n",
    "\n",
    "Este tipo de avaliação ocorre nos operadores booleanos `&&`(significa \"e\") e `||`(significa \"ou\").\n",
    "\n",
    "Chama-se *Short-Circuit*, pois ele fará o mínimo de verificações/avaliações possíveis.\n",
    "\n",
    "Por exemplo: `1 == 2 && 2 == 2` - Apesar de ele ter 2 operações booleanas, ele só vai passar por uma, isto porque, a primeira é falsa e como estamos em um `&&` basta uma ser falsa para a avaliação retornar um `false`.\n",
    "\n",
    "\n",
    "Outro exemplo: `1 == 1 || 1 == 2` - provavelmente vocês pensam que neste as 2 operações booleanas serão verificadas, pois a primeira é verdadeira ... Mas não, como estamos perante um `||`, basta 1 operação ser verdadeira para a avaliação retornar um `true`.\n",
    "\n",
    "\n",
    "Resumo:\n",
    "\n",
    "* Quando estamos a utilizar `&&`, a segunda operação só é avaliada, se a primeira for `true`\n",
    "\n",
    "* Quando estamos a utilizar `||`, a segunda operação só é avaliada, se a primeira for `false`"
   ]
  },
  {
   "cell_type": "code",
   "execution_count": 6,
   "id": "dde37dda-a75c-4ec7-9862-e42db6aea0a3",
   "metadata": {},
   "outputs": [
    {
     "data": {
      "text/plain": [
       "falsefn (generic function with 1 method)"
      ]
     },
     "execution_count": 6,
     "metadata": {},
     "output_type": "execute_result"
    }
   ],
   "source": [
    "truefn(x) = (println(x); true)\n",
    "falsefn(x) = (println(x); false)"
   ]
  },
  {
   "cell_type": "code",
   "execution_count": 7,
   "id": "3184aadf-2a09-40b1-be2d-3bd3b9c9e66a",
   "metadata": {},
   "outputs": [
    {
     "name": "stdout",
     "output_type": "stream",
     "text": [
      "Primeira operação (True)\n"
     ]
    },
    {
     "data": {
      "text/plain": [
       "true"
      ]
     },
     "execution_count": 7,
     "metadata": {},
     "output_type": "execute_result"
    }
   ],
   "source": [
    "# Vai passar apenas a primeira operação e retornar true\n",
    "truefn(\"Primeira operação (True)\") || falsefn(\"Segunda operação (False)\")"
   ]
  },
  {
   "cell_type": "code",
   "execution_count": 8,
   "id": "68e9c8c7-a1f4-4992-8f2b-ce7155fdeb5b",
   "metadata": {},
   "outputs": [
    {
     "name": "stdout",
     "output_type": "stream",
     "text": [
      "Primeira operação (False)\n",
      "Segunda operação (True)\n"
     ]
    },
    {
     "data": {
      "text/plain": [
       "true"
      ]
     },
     "execution_count": 8,
     "metadata": {},
     "output_type": "execute_result"
    }
   ],
   "source": [
    "# Vai passar pelas 2 operações e retorna true\n",
    "falsefn(\"Primeira operação (False)\") || truefn(\"Segunda operação (True)\") "
   ]
  },
  {
   "cell_type": "code",
   "execution_count": 9,
   "id": "ec1b03bc-67a6-4cc7-ba53-91975f97febf",
   "metadata": {},
   "outputs": [
    {
     "name": "stdout",
     "output_type": "stream",
     "text": [
      "Primeira operação (False)\n"
     ]
    },
    {
     "data": {
      "text/plain": [
       "false"
      ]
     },
     "execution_count": 9,
     "metadata": {},
     "output_type": "execute_result"
    }
   ],
   "source": [
    "# Vai passar apenas a primeira operação e retornar false\n",
    "falsefn(\"Primeira operação (False)\") && truefn(\"Segunda operação (True)\") "
   ]
  },
  {
   "cell_type": "code",
   "execution_count": 10,
   "id": "da22941e-08da-4245-b55b-c31ef0d59ac3",
   "metadata": {},
   "outputs": [
    {
     "name": "stdout",
     "output_type": "stream",
     "text": [
      "Primeira operação (True)\n",
      "Segunda operação (False)\n"
     ]
    },
    {
     "data": {
      "text/plain": [
       "false"
      ]
     },
     "execution_count": 10,
     "metadata": {},
     "output_type": "execute_result"
    }
   ],
   "source": [
    "# Vai passar pelas 2 operações e retornar false\n",
    "truefn(\"Primeira operação (True)\") && falsefn(\"Segunda operação (False)\")"
   ]
  },
  {
   "cell_type": "markdown",
   "id": "2af48609-78e6-44d6-8981-07da967fb07d",
   "metadata": {},
   "source": [
    "Uma utilização bastante prática é substituir o bloco de `if`, por algo deste género: `<condição> && <resposta>` - que podemos ler como: \"condição verdadeira então resposta\".\n",
    "\n",
    "Ou então: `<condição> || <resposta>` - que podemos ler como: \"condição ou então resposta\"."
   ]
  },
  {
   "cell_type": "markdown",
   "id": "528febe8-c8c5-4248-8c8e-c7c65a3a8502",
   "metadata": {},
   "source": [
    "O manual mostra uma função recursiva para calcular o fatorial de um número, substituindo apenas os `ifs` por avaliações *short-circuit*."
   ]
  },
  {
   "cell_type": "code",
   "execution_count": 11,
   "id": "7cd790a3-bc3a-473b-a5be-180a4d2b2298",
   "metadata": {},
   "outputs": [
    {
     "data": {
      "text/plain": [
       "fact (generic function with 1 method)"
      ]
     },
     "execution_count": 11,
     "metadata": {},
     "output_type": "execute_result"
    }
   ],
   "source": [
    "function fact(n::Int)\n",
    "    # Se o valor for negativo, ou seja, se n >= 0 for falso\n",
    "    # irá executar a próxima operação\n",
    "    n >= 0 || error(\"n tem que ser positivo.\")\n",
    "    \n",
    "    # Se n == 0 então retornamos 1\n",
    "    n == 0 && return 1\n",
    "    \n",
    "    # Caso nenhuma das avaliações acima execute a sua segunda\n",
    "    # operação, então calculamos o fatorial fazendo uso da\n",
    "    # recursão\n",
    "    n * fact(n-1)\n",
    "end"
   ]
  },
  {
   "cell_type": "code",
   "execution_count": 12,
   "id": "356732dc-ba9b-4b75-8b2c-fef3a414c23f",
   "metadata": {},
   "outputs": [
    {
     "data": {
      "text/plain": [
       "120"
      ]
     },
     "execution_count": 12,
     "metadata": {},
     "output_type": "execute_result"
    }
   ],
   "source": [
    "# Vai funcionar\n",
    "fact(5)"
   ]
  },
  {
   "cell_type": "code",
   "execution_count": 13,
   "id": "2b27cc4e-13e5-459a-9d1e-cfed2c401697",
   "metadata": {},
   "outputs": [
    {
     "ename": "LoadError",
     "evalue": "n tem que ser positivo.",
     "output_type": "error",
     "traceback": [
      "n tem que ser positivo.",
      "",
      "Stacktrace:",
      " [1] error(s::String)",
      "   @ Base .\\error.jl:33",
      " [2] fact(n::Int64)",
      "   @ Main .\\In[11]:4",
      " [3] top-level scope",
      "   @ In[13]:2",
      " [4] eval",
      "   @ .\\boot.jl:360 [inlined]",
      " [5] include_string(mapexpr::typeof(REPL.softscope), mod::Module, code::String, filename::String)",
      "   @ Base .\\loading.jl:1094"
     ]
    }
   ],
   "source": [
    "# Vai retornar o erro de definimos\n",
    "fact(-1)"
   ]
  },
  {
   "cell_type": "code",
   "execution_count": 14,
   "id": "8bde8e19-0f8e-4fdc-a01b-e3e2e21c8289",
   "metadata": {},
   "outputs": [
    {
     "data": {
      "text/plain": [
       "1"
      ]
     },
     "execution_count": 14,
     "metadata": {},
     "output_type": "execute_result"
    }
   ],
   "source": [
    "# Vai retornar 1 como tinhamos definido\n",
    "fact(0)"
   ]
  },
  {
   "cell_type": "markdown",
   "id": "d08ed7c5-ffc4-4ce9-9902-6254e999caf5",
   "metadata": {},
   "source": [
    "Para quem não quer passar pelas nuances do *short-circuit* podem utilizar operadores bitwise `&` e `|`."
   ]
  },
  {
   "cell_type": "code",
   "execution_count": 15,
   "id": "219594bd-ea2f-4cfd-af84-89e2d18f3d07",
   "metadata": {},
   "outputs": [
    {
     "name": "stdout",
     "output_type": "stream",
     "text": [
      "Primeira operação (False)\n",
      "Segunda operação (True)\n"
     ]
    },
    {
     "data": {
      "text/plain": [
       "false"
      ]
     },
     "execution_count": 15,
     "metadata": {},
     "output_type": "execute_result"
    }
   ],
   "source": [
    "falsefn(\"Primeira operação (False)\") & truefn(\"Segunda operação (True)\") "
   ]
  },
  {
   "cell_type": "code",
   "execution_count": 16,
   "id": "8fc51ab6-dd35-4577-a7a6-1701189fe4ec",
   "metadata": {},
   "outputs": [
    {
     "name": "stdout",
     "output_type": "stream",
     "text": [
      "Primeira operação (True)\n",
      "Segunda operação (False)\n"
     ]
    },
    {
     "data": {
      "text/plain": [
       "true"
      ]
     },
     "execution_count": 16,
     "metadata": {},
     "output_type": "execute_result"
    }
   ],
   "source": [
    "truefn(\"Primeira operação (True)\") | falsefn(\"Segunda operação (False)\")"
   ]
  },
  {
   "cell_type": "markdown",
   "id": "d6528c30-2232-4e14-b7d7-c8cac87cff6e",
   "metadata": {},
   "source": [
    "***Nota*** &#8595;\n",
    "\n",
    "<hr>\n",
    "\n",
    "Os operadores `&&` e `||` só podem avaliar expressões que retornem `true` ou `false`. Logo `1 && true` retornará um erro, pois `1` não é um booleano (`true` ou `false`).\n",
    "\n",
    "<hr>"
   ]
  },
  {
   "cell_type": "markdown",
   "id": "32297074-b4c4-4b24-ba6d-b496f01e6e09",
   "metadata": {},
   "source": [
    "## Loops\n",
    "\n",
    "Em Julia há 2 formas de implementar loops: `while` e `for`. Vamos começar com o `while`."
   ]
  },
  {
   "cell_type": "code",
   "execution_count": 17,
   "id": "dfc5267d-c48e-436e-9c69-d1156a671351",
   "metadata": {},
   "outputs": [
    {
     "name": "stdout",
     "output_type": "stream",
     "text": [
      "1 2 3 4 5 6 7 8 9 10 "
     ]
    }
   ],
   "source": [
    "# Iterador\n",
    "i = 1\n",
    "\n",
    "# Continuar loop enquanto i for <= a 10\n",
    "while i <= 10\n",
    "    \n",
    "    print(i,\" \")\n",
    "    \n",
    "    # Como i está no escopo global, temos\n",
    "    # que colocar \"global\" para poder alterar\n",
    "    # o seu valor (igual no Python)\n",
    "    global i += 1\n",
    "\n",
    "end"
   ]
  },
  {
   "cell_type": "markdown",
   "id": "18bbf29f-50fe-413d-8ffb-01792de6fdf7",
   "metadata": {},
   "source": [
    "O `for` é mais prático de escrever, pois não precisamos de criar variáveis globais para iterar, o próprio loop permite que criemos variáveis para iterar (**essas variáveis serão locais, ou seja, só serão acessíveis dentro do escopo do loop**).\n",
    "\n",
    "Para isso podemos utilizar 3 operadores para definir o valor inicial da nossa variável de iteração: `=` ou `in` ou $\\in$"
   ]
  },
  {
   "cell_type": "code",
   "execution_count": 18,
   "id": "7c94a98e-7837-4c2d-a326-60440fc5bdd6",
   "metadata": {},
   "outputs": [
    {
     "name": "stdout",
     "output_type": "stream",
     "text": [
      "1 2 3 4 5 "
     ]
    }
   ],
   "source": [
    "for i = 1:5\n",
    "    print(i, \" \")\n",
    "end"
   ]
  },
  {
   "cell_type": "code",
   "execution_count": 19,
   "id": "4b134672-e9c4-4d76-b4b5-2fc562f78f5b",
   "metadata": {},
   "outputs": [
    {
     "name": "stdout",
     "output_type": "stream",
     "text": [
      "1 2 3 4 5 "
     ]
    }
   ],
   "source": [
    "for i in 1:5\n",
    "    print(i, \" \")\n",
    "end"
   ]
  },
  {
   "cell_type": "code",
   "execution_count": 20,
   "id": "0ad69b6a-2dd6-46d6-80ba-4a1e36cd8573",
   "metadata": {},
   "outputs": [
    {
     "name": "stdout",
     "output_type": "stream",
     "text": [
      "1 2 3 4 5 "
     ]
    }
   ],
   "source": [
    "for i ∈ 1:5\n",
    "    print(i, \" \")\n",
    "end"
   ]
  },
  {
   "cell_type": "markdown",
   "id": "4c25aa77-be5f-468a-8774-43b6aa9f1ac7",
   "metadata": {},
   "source": [
    "***Nota*** &#8595;\n",
    "\n",
    "<hr>\n",
    "\n",
    "* Para fazer o operador $\\in$ basta escrever: `\\in` + TAB\n",
    "\n",
    "* Para criar intervalos em Python usamos o `range`, aqui em Julia usamos `inicio:fim` idêntico a Bash Script. Logo `1:5` é equivalente ao `range(5)` do Python.\n",
    "\n",
    "* Outra coisa importante, é que os índices em Julia NÃO começam em 0 e sim em 1, daí o `1` em `1:5`.\n",
    "\n",
    "<hr>"
   ]
  },
  {
   "cell_type": "markdown",
   "id": "7261eef2-49df-4f27-9572-c815dc5d6cd3",
   "metadata": {},
   "source": [
    "No caso de quererem sair de um loop, por exemplo, antes de chegar ao fim de um intervalo, podem utilizar o `break`."
   ]
  },
  {
   "cell_type": "code",
   "execution_count": 21,
   "id": "1f7c44d1-c7ce-4813-a873-d358c7428ad0",
   "metadata": {},
   "outputs": [
    {
     "name": "stdout",
     "output_type": "stream",
     "text": [
      "1 2 3 4 5 "
     ]
    }
   ],
   "source": [
    "for i in 1:10\n",
    "    # Quero contar apenas até 5\n",
    "    # logo se i > 5, terminamos o loop\n",
    "    if i > 5\n",
    "        break\n",
    "    end\n",
    "    \n",
    "    print(i, \" \")\n",
    "end"
   ]
  },
  {
   "cell_type": "markdown",
   "id": "d7bad7ad-9a22-4a43-8593-e0bb319ba358",
   "metadata": {},
   "source": [
    "Caso queiramos apenas saltar algumas partes do nosso intervalo, usamos o `continue`."
   ]
  },
  {
   "cell_type": "code",
   "execution_count": 22,
   "id": "467f5367-ef1a-4458-a663-ca028ecff194",
   "metadata": {},
   "outputs": [
    {
     "name": "stdout",
     "output_type": "stream",
     "text": [
      "2 4 6 8 10 "
     ]
    }
   ],
   "source": [
    "for i in 1:10\n",
    "    # Quero apenas números pares, então não precisamos\n",
    "    # executar nada se o número for ímpar\n",
    "    if i % 2 != 0\n",
    "        continue\n",
    "    end\n",
    "    \n",
    "    \n",
    "    # Só vai ser executado se não entrar no if acima\n",
    "    print(i, \" \")\n",
    "end"
   ]
  },
  {
   "cell_type": "markdown",
   "id": "e77f7d9e-aefe-4731-aaf9-bdd2b0f7c27e",
   "metadata": {},
   "source": [
    "Além de tudo isto é possível criar múltiplas variáveis dentro de um loop, bastando separá-las com `,`.\n",
    "\n",
    "E também podemos compactar arrays para que sejam iterados, ao mesmo tempo, durante o loop, utilizando o `zip` exatamente igual ao Python."
   ]
  },
  {
   "cell_type": "code",
   "execution_count": 23,
   "id": "0de9a8f9-0c49-42e7-b936-f932cf46d79c",
   "metadata": {},
   "outputs": [
    {
     "name": "stdout",
     "output_type": "stream",
     "text": [
      "(1, 3)\n",
      "(2, 2)\n",
      "(3, 1)\n"
     ]
    }
   ],
   "source": [
    "for (i,j) in zip([1,2,3], [3,2,1])\n",
    "    println((i,j))\n",
    "end"
   ]
  },
  {
   "cell_type": "markdown",
   "id": "7457d83e-ee08-4c49-a384-848d65e17355",
   "metadata": {},
   "source": [
    "## Exceções\n",
    "\n",
    "Quando estamos a utilizar condições ou a escrever código em geral, é sempre bom pensarmos no que pode dar errado e escrever código para detetar e lidar com esses problemas.\n",
    "\n",
    "Para isso existem as `Exceptions`, elas têm diferentes tipos e quando retornadas permitem-nos executar um determinado código escrito por nós, seja para terminar o programa ou retornar alguma mensagem de aviso.\n",
    "\n",
    "Uma lista com todas as `Exceptions` presentes na linguagem Julia pode ser consultada <a href=\"https://docs.julialang.org/en/v1/manual/control-flow/#Exception-Handling\">aqui</a>.\n",
    "\n",
    "\n",
    "\n",
    "Vamos provocar um erro com a função `div` para vermos como Julia executa a função `DivideError` Exception."
   ]
  },
  {
   "cell_type": "code",
   "execution_count": 24,
   "id": "5992dc24-996b-4b90-8fe9-ed300272e47c",
   "metadata": {},
   "outputs": [
    {
     "ename": "LoadError",
     "evalue": "DivideError: integer division error",
     "output_type": "error",
     "traceback": [
      "DivideError: integer division error",
      "",
      "Stacktrace:",
      " [1] div(x::Int64, y::Int64)",
      "   @ Base .\\int.jl:261",
      " [2] top-level scope",
      "   @ In[24]:3",
      " [3] eval",
      "   @ .\\boot.jl:360 [inlined]",
      " [4] include_string(mapexpr::typeof(REPL.softscope), mod::Module, code::String, filename::String)",
      "   @ Base .\\loading.jl:1094"
     ]
    }
   ],
   "source": [
    "# Dividir um número por 0\n",
    "\n",
    "div(1, 0)"
   ]
  },
  {
   "cell_type": "markdown",
   "id": "a1a0f6e7-b71d-498e-999a-9bd06f1b4816",
   "metadata": {},
   "source": [
    "Podemos escalar este problema fazendo com que nós próprios verifiquemos que algo está errado e disparamos uma `Exception` utilizando a função `throw(Exception(args))`."
   ]
  },
  {
   "cell_type": "code",
   "execution_count": 25,
   "id": "3a1ab089-9ee2-4ecd-a30b-efbad45f876b",
   "metadata": {},
   "outputs": [
    {
     "ename": "LoadError",
     "evalue": "DivideError: integer division error",
     "output_type": "error",
     "traceback": [
      "DivideError: integer division error",
      "",
      "Stacktrace:",
      " [1] divisao(x::Int64, y::Int64)",
      "   @ Main .\\In[25]:4",
      " [2] top-level scope",
      "   @ In[25]:8",
      " [3] eval",
      "   @ .\\boot.jl:360 [inlined]",
      " [4] include_string(mapexpr::typeof(REPL.softscope), mod::Module, code::String, filename::String)",
      "   @ Base .\\loading.jl:1094"
     ]
    }
   ],
   "source": [
    "function divisao(x, y)\n",
    "    \n",
    "    # No caso DivideError não recebe argumentos\n",
    "    y == 0 ? throw(DivideError()) : div(x,y)\n",
    "end\n",
    "\n",
    "\n",
    "divisao(6, 0)"
   ]
  },
  {
   "cell_type": "markdown",
   "id": "70a405ca-19f0-4fe2-9210-f3faf608a9cb",
   "metadata": {},
   "source": [
    "Podemos criar o nosso próprio tipo de exceções utilizando uma estrutura de dados denominada de `struct`.\n",
    "\n",
    "\n",
    "***Nota*** &#8595;\n",
    "\n",
    "<hr>\n",
    "\n",
    "A `struct` não serve exclusivamente para criar `Exceptions`, ela é idêntica à `struct` na Linguagem C, no caso, em Julia, permite-nos criar objetos com múltiplos atributos e inclusive criar construtores para manipular e criar novos objetos do tipo da `struct`.\n",
    "\n",
    "Falaremos melhor disto mais à frente nos notebooks.\n",
    "\n",
    "<hr>"
   ]
  },
  {
   "cell_type": "code",
   "execution_count": 26,
   "id": "82c60025-fe85-4155-a4ce-e1f22078311e",
   "metadata": {},
   "outputs": [],
   "source": [
    "struct MinhaExcecao <: Exception end"
   ]
  },
  {
   "cell_type": "markdown",
   "id": "fd479677-bc39-464b-9426-d8c17f19e4e4",
   "metadata": {},
   "source": [
    "O operador `<:` verifica se o objeto à esquerda (neste caso, `MinhaExcecao`) é do subtipo à direita (`Exception`)"
   ]
  },
  {
   "cell_type": "markdown",
   "id": "a97bcf28-23e0-46fa-adf0-7d14680f60ef",
   "metadata": {},
   "source": [
    "## Erros\n",
    "\n",
    "Bem, as exceções podem ser demais para o nosso problema, porém queremos na mesma lidar com o problema e não esperar alguém reclamar que o nosso código não está a funcionar.\n",
    "\n",
    "Para isso ainda temos a função `error` que retorna uma `ErrorException` com a mensagem que passarmos como argumento."
   ]
  },
  {
   "cell_type": "code",
   "execution_count": 27,
   "id": "63b6c393-0c03-46a0-9031-f6d3b64b0832",
   "metadata": {},
   "outputs": [
    {
     "data": {
      "text/plain": [
       "printstr (generic function with 1 method)"
      ]
     },
     "execution_count": 27,
     "metadata": {},
     "output_type": "execute_result"
    }
   ],
   "source": [
    "function printstr(str)\n",
    "    typeof(str) <: AbstractString ? println(str) : error(\"$str não é uma string, mas sim $(typeof(str)).\")\n",
    "end"
   ]
  },
  {
   "cell_type": "code",
   "execution_count": 28,
   "id": "75f3a23d-e091-4f6b-b46f-4826ccc96fbf",
   "metadata": {},
   "outputs": [
    {
     "name": "stdout",
     "output_type": "stream",
     "text": [
      "Olá, eu sou uma string\n"
     ]
    },
    {
     "ename": "LoadError",
     "evalue": "12 não é uma string, mas sim Int64.",
     "output_type": "error",
     "traceback": [
      "12 não é uma string, mas sim Int64.",
      "",
      "Stacktrace:",
      " [1] error(s::String)",
      "   @ Base .\\error.jl:33",
      " [2] printstr(str::Int64)",
      "   @ Main .\\In[27]:2",
      " [3] top-level scope",
      "   @ In[28]:3",
      " [4] eval",
      "   @ .\\boot.jl:360 [inlined]",
      " [5] include_string(mapexpr::typeof(REPL.softscope), mod::Module, code::String, filename::String)",
      "   @ Base .\\loading.jl:1094"
     ]
    }
   ],
   "source": [
    "printstr(\"Olá, eu sou uma string\")\n",
    "\n",
    "printstr(12)"
   ]
  },
  {
   "cell_type": "markdown",
   "id": "81340387-6b0b-4089-af68-176f6d65eb38",
   "metadata": {},
   "source": [
    "## try/catch\n",
    "\n",
    "O `try` e o `catch` permite que verifiquemos se um certo pedaço de código funciona ou não, caso não funcione o `catch` faz a sua função ... de dizer que algo deu errado.\n",
    "\n",
    "Em vez de retornar um `error()`, vamos deixar o try/catch tratar de tudo por nós."
   ]
  },
  {
   "cell_type": "code",
   "execution_count": 29,
   "id": "7c992123-393b-4275-93c4-e3bffbd38430",
   "metadata": {},
   "outputs": [
    {
     "name": "stdout",
     "output_type": "stream",
     "text": [
      "Ups, algo deu errado!\n"
     ]
    }
   ],
   "source": [
    "# Vamos tentar dividir um número por 0\n",
    "\n",
    "x = 4; y = 0;\n",
    "\n",
    "try\n",
    "    div(x, y)\n",
    "catch\n",
    "    println(\"Ups, algo deu errado!\")\n",
    "\n",
    "end"
   ]
  },
  {
   "cell_type": "markdown",
   "id": "799eb403-8178-4345-945d-92c24d3dca24",
   "metadata": {},
   "source": [
    "O `catch` pode receber uma variável que receberá o tipo da `Exception` que ocorreu dentro do `try`."
   ]
  },
  {
   "cell_type": "code",
   "execution_count": 30,
   "id": "20118ae9-b116-4a04-b9c7-3b9397d8b0d7",
   "metadata": {},
   "outputs": [
    {
     "name": "stdout",
     "output_type": "stream",
     "text": [
      "Está a dividir por 0 ou a dividir o menor número possível de Int64 por -1\n"
     ]
    }
   ],
   "source": [
    "# Vamos retornar qual foi a Exception\n",
    "\n",
    "x = -9223372036854775808; y = -1;\n",
    "\n",
    "try\n",
    "    div(x, y)\n",
    "\n",
    "catch e\n",
    "    \n",
    "    if isa(e, DivideError)\n",
    "        println(\"Está a dividir por 0 ou a dividir o menor número possível de $(typeof(x)) por -1\")\n",
    "    end\n",
    "end"
   ]
  },
  {
   "cell_type": "markdown",
   "id": "c353baaa-3368-4198-9538-9a64c372e4d7",
   "metadata": {},
   "source": [
    "## Finally\n",
    "\n",
    "Agora vocês dizem: \"Finalmente chegámos ao fim do notebook!!! \\o/\" ... é verdade, mas o `finally` é mesmo uma \"coisa\" dentro da linguagem Julia.\n",
    "\n",
    "\n",
    "Quando abrimos ficheiros, vamos querer fechá-los para salvaguardar o que escrevemos neles, o `finally` pode ajudar-nos nisso, já que ele é o bloco executado depois que o `try` executa todo o seu código com sucesso. "
   ]
  },
  {
   "cell_type": "code",
   "execution_count": 31,
   "id": "44c93f10-1b42-4fb0-b201-ce98629c157c",
   "metadata": {},
   "outputs": [],
   "source": [
    "# Verificar se existe, caso não, criar um diretório para o novo ficheiro\n",
    "\n",
    "if !isdir(\"../ficheiros\")\n",
    "    mkdir(\"../ficheiros\")\n",
    "end"
   ]
  },
  {
   "cell_type": "code",
   "execution_count": 32,
   "id": "9d84ed55-aa9b-4805-a34f-7330d75d6a28",
   "metadata": {},
   "outputs": [
    {
     "data": {
      "text/plain": [
       "IOStream(<file ../ficheiros/testando_finally.txt>)"
      ]
     },
     "execution_count": 32,
     "metadata": {},
     "output_type": "execute_result"
    }
   ],
   "source": [
    "# Criar um ficheiro de teste nesse novo diretorio\n",
    "f = open(\"../ficheiros/testando_finally.txt\", \"w\")"
   ]
  },
  {
   "cell_type": "code",
   "execution_count": 33,
   "id": "571361c1-e8b8-46dd-bb62-d623779a1401",
   "metadata": {},
   "outputs": [
    {
     "data": {
      "text/plain": [
       "22"
      ]
     },
     "execution_count": 33,
     "metadata": {},
     "output_type": "execute_result"
    }
   ],
   "source": [
    "try\n",
    "    write(f, \"Mensagem super secreta\")\n",
    "finally\n",
    "    \n",
    "    # Fechar o IOStream para o ficheiro\n",
    "    close(f)\n",
    "end"
   ]
  },
  {
   "cell_type": "markdown",
   "id": "f3d8ff58-a059-4326-b5f6-a6d2e747edb0",
   "metadata": {},
   "source": [
    "***Nota*** &#8595;\n",
    "\n",
    "<hr>\n",
    "\n",
    "Para não termos de fechar ficheiros manualmente poderiamos escrever o código utilizando o `do`:\n",
    "\n",
    "```\n",
    "open(\"testando_finally.txt\", \"w\") do f\n",
    "\n",
    "    write(f, \"Mensagem super secreta\")\n",
    "    \n",
    "end\n",
    "\n",
    "```\n",
    "\n",
    "<hr>"
   ]
  }
 ],
 "metadata": {
  "kernelspec": {
   "display_name": "Julia 1.6.1",
   "language": "julia",
   "name": "julia-1.6"
  },
  "language_info": {
   "file_extension": ".jl",
   "mimetype": "application/julia",
   "name": "julia",
   "version": "1.6.1"
  }
 },
 "nbformat": 4,
 "nbformat_minor": 5
}
