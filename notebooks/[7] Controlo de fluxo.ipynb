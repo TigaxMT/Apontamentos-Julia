{
 "cells": [
  {
   "cell_type": "markdown",
   "id": "11d0a2de-e3c9-4400-a3db-d04b01fb7bef",
   "metadata": {},
   "source": [
    "# Controlar o fluxo do programa\n",
    "\n",
    "\n",
    "***DISCLAIMER: Este notebook foi escrito com base no que li [neste](https://docs.julialang.org/en/v1/manual/control-flow/) capítulo do manual***\n",
    "\n",
    "\n",
    "Normalmente o fluxo de um programa não é sequencial, há sempre alguma condição, loop, chamada de função que quebra um pouco essa linearidade.\n",
    "\n",
    "Neste notebook vamos falar de algo muito importante: mecanismos de controlo de fluxo."
   ]
  },
  {
   "cell_type": "markdown",
   "id": "b9e35fd2-9bb7-441d-b021-f9ccfecef7df",
   "metadata": {},
   "source": [
    "## Expressões compostas\n",
    "\n",
    "Por vezes criar funções pode ser demais, pois simplesmente podemos querer criar uma variável que reflete o resultado de um conjunto de cálculos.\n",
    "\n",
    "O `begin` pode ajudar-nos nisso, ele permite que definamos e façamos cálculos dentro de um bloco de código e no fim retorna-nos o resultado, podendo assim ser armazenado em uma variável."
   ]
  },
  {
   "cell_type": "code",
   "execution_count": 5,
   "id": "3eafbb9e-4181-4ae5-83d5-5d88d24b79a9",
   "metadata": {},
   "outputs": [
    {
     "data": {
      "text/plain": [
       "2"
      ]
     },
     "execution_count": 5,
     "metadata": {},
     "output_type": "execute_result"
    }
   ],
   "source": [
    "z = begin\n",
    "    x = 1\n",
    "    y = 2\n",
    "    x * y\n",
    "end"
   ]
  },
  {
   "cell_type": "markdown",
   "id": "f6f5932e-0606-4f49-80f0-1161afc9d378",
   "metadata": {},
   "source": [
    "Se esta sintaxe é \"verbosa\" demais e gostamos de ter um código mais limpo, podemos utilizar uma cadeia de expressões separadas por `;`, sendo que a última retonará o resultado final, assim como na sintaxe do `begin`."
   ]
  },
  {
   "cell_type": "code",
   "execution_count": 4,
   "id": "a17aa357-765b-437f-a6d4-3ab296444536",
   "metadata": {},
   "outputs": [
    {
     "data": {
      "text/plain": [
       "2"
      ]
     },
     "execution_count": 4,
     "metadata": {},
     "output_type": "execute_result"
    }
   ],
   "source": [
    "z = (x=1; y=2; x*y)"
   ]
  },
  {
   "cell_type": "markdown",
   "id": "0c0de805-177f-4cf2-80aa-b04d2b6a5a53",
   "metadata": {},
   "source": [
    "***Nota*** &#8595;\n",
    "\n",
    "<hr>\n",
    "\n",
    "* Em ambas as formas pode-se fazer quebras de linhas entras as expressões ou então pode-se deixar tudo na mesma linha\n",
    "\n",
    "* As variáveis criadas dentro do escopo do `begin` ou dos `;` são acessíveis fora desse escopo\n",
    "\n",
    "<hr>"
   ]
  },
  {
   "cell_type": "markdown",
   "id": "752d0f46-229e-4a79-ad8f-202676de94a5",
   "metadata": {},
   "source": [
    "## Condicionais\n",
    "\n",
    "Criar condições é idêntico ao Python e à maiora das linguagens. \n",
    "\n",
    "Em Julia definimos o fim de um mecanismo de controlo de fluxo como nas funções, com um `end`.\n",
    "\n",
    "O `elif` do Python existe, só que aqui chama-se `elseif`."
   ]
  },
  {
   "cell_type": "code",
   "execution_count": 7,
   "id": "2ca41b1c-1a13-49ce-8f32-68ff5ad8905a",
   "metadata": {},
   "outputs": [
    {
     "name": "stdout",
     "output_type": "stream",
     "text": [
      "Apanhar sol na varanda, porque estamos num meio de uma pandemia e não podemos sair de casa!!!!\n"
     ]
    }
   ],
   "source": [
    "clima = \"Sol\"\n",
    "\n",
    "if clima == \"Chuva\"\n",
    "    println(\"Ficar em casa\")\n",
    "\n",
    "elseif clima == \"Ventoso\"\n",
    "    println(\"Estender a roupa\")\n",
    "\n",
    "else\n",
    "    println(\"Apanhar sol na varanda, porque estamos no meio de uma pandemia e não podemos sair de casa!!!!\")\n",
    "end"
   ]
  },
  {
   "cell_type": "markdown",
   "id": "7924ea3f-0707-47dd-a21e-a4685f1bf426",
   "metadata": {},
   "source": [
    "As condições também retornam valores por padrão. vamos refazer o exemplo anterior."
   ]
  },
  {
   "cell_type": "code",
   "execution_count": 8,
   "id": "c07995a4-e3ed-4fc3-9442-130d5863f596",
   "metadata": {},
   "outputs": [
    {
     "data": {
      "text/plain": [
       "\"Apanhar sol na varanda, porque estamos no meio de uma pandemia e não podemos sair de casa!!!!\""
      ]
     },
     "execution_count": 8,
     "metadata": {},
     "output_type": "execute_result"
    }
   ],
   "source": [
    "function whattodo(clima)\n",
    "    if clima == \"Chuva\"\n",
    "        \"Ficar em casa\"\n",
    "\n",
    "    elseif clima == \"Ventoso\"\n",
    "        \"Estender a roupa\"\n",
    "\n",
    "    else\n",
    "        \"Apanhar sol na varanda, porque estamos no meio de uma pandemia e não podemos sair de casa!!!!\"\n",
    "    end\n",
    "end\n",
    "\n",
    "whattodo(\"Sol\")"
   ]
  },
  {
   "cell_type": "markdown",
   "id": "488a6c38-8a62-431e-9f13-100f4880d88a",
   "metadata": {},
   "source": [
    "## Operador ternário\n",
    "\n",
    "As os blocos de condições `if` podem ser demais em certas situações, por vezes só queremos verificar uma única coisa e retornar algo. Para situações dessas existe o operador ternário `?`"
   ]
  },
  {
   "cell_type": "code",
   "execution_count": 11,
   "id": "498bc83e-d631-4f62-8ab3-131471d726e3",
   "metadata": {},
   "outputs": [
    {
     "name": "stdout",
     "output_type": "stream",
     "text": [
      "1 é menor que 2\n"
     ]
    }
   ],
   "source": [
    "# Verificar de 1 é maior que 2, se for então ele retorna maior senão menor\n",
    "\n",
    "resp = 1 > 2 ? \"maior\" : \"menor\"\n",
    "\n",
    "println(\"1 é $resp que 2\")"
   ]
  },
  {
   "cell_type": "markdown",
   "id": "8191b950-cdf6-42e1-819b-1c312dafbef2",
   "metadata": {},
   "source": [
    "Também podem aninhar múltiplas operações ternárias, por exemplo, as respostas podem ser outras condições passadas com operadores ternários. Porém acho que, nesses casos, é mais legível um bloco `if`.\n",
    "\n",
    "\n",
    "***Nota*** &#8595;\n",
    "\n",
    "<hr>\n",
    "\n",
    "É importante deixarem espaços entre o `?` e o `:` para evitarem erros de execução.\n",
    "\n",
    "<hr>"
   ]
  },
  {
   "cell_type": "markdown",
   "id": "aee045d1-b7ef-43ab-bd01-dfdffe3e849c",
   "metadata": {},
   "source": []
  }
 ],
 "metadata": {
  "kernelspec": {
   "display_name": "Julia 1.6.1",
   "language": "julia",
   "name": "julia-1.6"
  },
  "language_info": {
   "file_extension": ".jl",
   "mimetype": "application/julia",
   "name": "julia",
   "version": "1.6.1"
  }
 },
 "nbformat": 4,
 "nbformat_minor": 5
}
