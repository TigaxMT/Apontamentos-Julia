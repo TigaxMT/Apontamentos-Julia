{
 "cells": [
  {
   "cell_type": "markdown",
   "id": "f1037f77-b062-433c-bdb1-3bc92851b053",
   "metadata": {},
   "source": [
    "# Strings\n",
    "\n",
    "***DISCLAIMER: Este notebook foi escrito com base no que li [neste](https://docs.julialang.org/en/v1/manual/strings/) capítulo do manual***\n",
    "\n",
    "\n",
    "Em outras linguagens é muito comum utilizarmos apenas os caracteres mais básicos, como letras do alfabeto, números e alguns sinais de pontuação, e isso encaixa perfeitamente com o padrão ASCII.\n",
    "\n",
    "Porém já vimos que Julia suporta Unicode e LaTeX na criação de nomes de variáveis, logo podemos supor, e bem, que ela dará suporte a Unicode em strings.\n",
    "\n",
    "Basicamente Julia tem $2$ grandes tipos: `AbstractString` e o `AbstractChar` - e daí surge outros subtipos como: `String` e `Char` - onde estes últimos $2$ são apenas para strings e caracteres ASCII. \n",
    "\n",
    "Portanto, devemos sempre definir os parâmetros das nossas funções que vão receber strings ou caracteres como um dos grandes tipos."
   ]
  },
  {
   "cell_type": "markdown",
   "id": "d1e5fb39-4b41-4f9c-98de-0b18ca375a0d",
   "metadata": {},
   "source": [
    "## Caracteres\n",
    "\n",
    "Caracter é quando temos apenas uma letra, número, simbolo ou sinal, ou seja, não é um \"\"\"texto\"\"\".\n",
    "\n",
    "Definimos um caracter fazendo o uso de plicas `''`."
   ]
  },
  {
   "cell_type": "code",
   "execution_count": 74,
   "id": "33eaed3b-e4e6-45a5-add8-7b3ba5c4fb3e",
   "metadata": {},
   "outputs": [
    {
     "data": {
      "text/plain": [
       "'A': ASCII/Unicode U+0041 (category Lu: Letter, uppercase)"
      ]
     },
     "execution_count": 74,
     "metadata": {},
     "output_type": "execute_result"
    }
   ],
   "source": [
    "# Atribuir o caracter A à nossa variável\n",
    "caracter = 'A'"
   ]
  },
  {
   "cell_type": "code",
   "execution_count": 75,
   "id": "7c5ed405-da98-4783-a576-d1a1f10f680e",
   "metadata": {},
   "outputs": [
    {
     "data": {
      "text/plain": [
       "Char"
      ]
     },
     "execution_count": 75,
     "metadata": {},
     "output_type": "execute_result"
    }
   ],
   "source": [
    "typeof(caracter)"
   ]
  },
  {
   "cell_type": "markdown",
   "id": "4200432b-7ce1-467a-ad14-ebb0905706eb",
   "metadata": {},
   "source": [
    "Podemos converter caracteres em decimais (o decimal corresponde ao seu **code point**, isto é, a sua posição na tabela ASCII e/ou à sua representação como ponto Unicode)."
   ]
  },
  {
   "cell_type": "code",
   "execution_count": 76,
   "id": "c00953a8-fbc7-43c1-9195-04ae7ecc1986",
   "metadata": {},
   "outputs": [
    {
     "data": {
      "text/plain": [
       "65"
      ]
     },
     "execution_count": 76,
     "metadata": {},
     "output_type": "execute_result"
    }
   ],
   "source": [
    "decimal = Int(caracter)"
   ]
  },
  {
   "cell_type": "markdown",
   "id": "fbe39160-a3a1-450d-bcf0-0b5c313147b1",
   "metadata": {},
   "source": [
    "E podemos reverter isso usando o subtipo `Char`."
   ]
  },
  {
   "cell_type": "code",
   "execution_count": 77,
   "id": "1c301aae-e758-451a-9df8-cac715af2a68",
   "metadata": {},
   "outputs": [
    {
     "data": {
      "text/plain": [
       "'A': ASCII/Unicode U+0041 (category Lu: Letter, uppercase)"
      ]
     },
     "execution_count": 77,
     "metadata": {},
     "output_type": "execute_result"
    }
   ],
   "source": [
    "Char(decimal)"
   ]
  },
  {
   "cell_type": "markdown",
   "id": "8c1621bf-b6e5-4c1b-98f5-0b3ba36e449b",
   "metadata": {},
   "source": [
    "Para verificar se um decimal ou hexadecimal é válido como ASCII/Unicode, utilizamos a função `isvalid`."
   ]
  },
  {
   "cell_type": "code",
   "execution_count": 78,
   "id": "7adc6f9f-1476-4133-803b-e76b6c391251",
   "metadata": {},
   "outputs": [
    {
     "data": {
      "text/plain": [
       "false"
      ]
     },
     "execution_count": 78,
     "metadata": {},
     "output_type": "execute_result"
    }
   ],
   "source": [
    "isvalid(Char, 0x110000)"
   ]
  },
  {
   "cell_type": "code",
   "execution_count": 79,
   "id": "3a1e0c5b-51b1-4286-9827-e4e32ea847bb",
   "metadata": {},
   "outputs": [
    {
     "data": {
      "text/plain": [
       "true"
      ]
     },
     "execution_count": 79,
     "metadata": {},
     "output_type": "execute_result"
    }
   ],
   "source": [
    "isvalid(Char, 0x2200)"
   ]
  },
  {
   "cell_type": "markdown",
   "id": "dde1585b-0b21-4f66-8610-26f288185d03",
   "metadata": {},
   "source": [
    "Para escrevemos um caracter Unicode podemos fazer uso de `\\u` ou `\\U` "
   ]
  },
  {
   "cell_type": "code",
   "execution_count": 80,
   "id": "0f5e6007-dad3-4279-b3a9-87d820b07ccf",
   "metadata": {},
   "outputs": [
    {
     "data": {
      "text/plain": [
       "'∀': Unicode U+2200 (category Sm: Symbol, math)"
      ]
     },
     "execution_count": 80,
     "metadata": {},
     "output_type": "execute_result"
    }
   ],
   "source": [
    "'\\u2200'"
   ]
  },
  {
   "cell_type": "code",
   "execution_count": 81,
   "id": "0f2854ce-02e5-49aa-a0ca-2e8ced04629a",
   "metadata": {},
   "outputs": [
    {
     "data": {
      "text/plain": [
       "'Σ': Unicode U+03A3 (category Lu: Letter, uppercase)"
      ]
     },
     "execution_count": 81,
     "metadata": {},
     "output_type": "execute_result"
    }
   ],
   "source": [
    "# Sigma maiúsculo\n",
    "'\\u03a3'"
   ]
  },
  {
   "cell_type": "markdown",
   "id": "08d7d3a0-ac2b-474f-b42e-62edeb3ed7ce",
   "metadata": {},
   "source": [
    "Julia sabe se pode printar certos caracteres ou se precisa de recorrer à sua representação Unicode. Isto porque a linguagem tem acesso à linguagem e á região definidas no sistema operativo."
   ]
  },
  {
   "cell_type": "markdown",
   "id": "01219fd4-be5b-4a33-98c7-221dd6383973",
   "metadata": {},
   "source": [
    "## Strings\n",
    "\n",
    "Para criar strings utilizamos as aspas `\"\"`. E caso queiramos utilizar as aspas dentro da strings temos que fazer um escape com o backslash`\\`."
   ]
  },
  {
   "cell_type": "code",
   "execution_count": 82,
   "id": "e9341dc5-4c80-4931-b44c-27c9c5e1a2f5",
   "metadata": {},
   "outputs": [
    {
     "name": "stdout",
     "output_type": "stream",
     "text": [
      "Sou uma string\n"
     ]
    }
   ],
   "source": [
    "println(\"Sou uma string\")"
   ]
  },
  {
   "cell_type": "code",
   "execution_count": 83,
   "id": "fc8ec1b4-50b5-4ece-9866-ca79ba951e02",
   "metadata": {},
   "outputs": [
    {
     "name": "stdout",
     "output_type": "stream",
     "text": [
      "Sou uma string com \"aspas\"\n"
     ]
    }
   ],
   "source": [
    "println(\"Sou uma string com \\\"aspas\\\"\")"
   ]
  },
  {
   "cell_type": "markdown",
   "id": "c57dcc78-0384-4f7e-925f-6ace4e068268",
   "metadata": {},
   "source": [
    "Para extrair caracteres de uma string, podemos tratá-la como um array e acedemos através dos índices.\n",
    "\n",
    "Caso queiramos o primeiro ou último caracter utilizamos as palavras reservadas `begin` e `end` como índices.\n",
    "\n",
    "Porém essas palavras são apenas um shorthand, um \"atalho\" para as funções `firstindex(str)` e `lastindex(str)`."
   ]
  },
  {
   "cell_type": "code",
   "execution_count": 84,
   "id": "416f1270-bd01-4425-9c49-eade134d6f9b",
   "metadata": {},
   "outputs": [
    {
     "data": {
      "text/plain": [
       "'S': ASCII/Unicode U+0053 (category Lu: Letter, uppercase)"
      ]
     },
     "execution_count": 84,
     "metadata": {},
     "output_type": "execute_result"
    }
   ],
   "source": [
    "str = \"Sou um teste\"\n",
    "\n",
    "str[begin]"
   ]
  },
  {
   "cell_type": "code",
   "execution_count": 85,
   "id": "f2fa326a-b712-4a6a-8756-d62125b176d5",
   "metadata": {},
   "outputs": [
    {
     "data": {
      "text/plain": [
       "'e': ASCII/Unicode U+0065 (category Ll: Letter, lowercase)"
      ]
     },
     "execution_count": 85,
     "metadata": {},
     "output_type": "execute_result"
    }
   ],
   "source": [
    "str[end]"
   ]
  },
  {
   "cell_type": "code",
   "execution_count": 86,
   "id": "00956e85-b57b-4a30-aa90-9b21105816fa",
   "metadata": {},
   "outputs": [
    {
     "data": {
      "text/plain": [
       "'S': ASCII/Unicode U+0053 (category Lu: Letter, uppercase)"
      ]
     },
     "execution_count": 86,
     "metadata": {},
     "output_type": "execute_result"
    }
   ],
   "source": [
    "str[1]"
   ]
  },
  {
   "cell_type": "markdown",
   "id": "00f30ebd-0242-4bce-ac56-5a309f8d66e2",
   "metadata": {},
   "source": [
    "***Já devem ter reparado que Julia tem algo igual ao MATLAB ... A indexação.***\n",
    "\n",
    "***Portanto os índices não começam em 0 mas sim em 1. Estes pormenores e outros que já apareceram ou vão aparecer mais à frente, são consequências de Julia ser uma linguagem voltada para a área científica (matemática).***"
   ]
  },
  {
   "cell_type": "markdown",
   "id": "335bc84a-9ca9-4f77-9357-9b1c7f13a7b7",
   "metadata": {},
   "source": [
    "Assim como no Python, podemos extrair substrings utilizando: `[indice_inicio:indice_fim]`"
   ]
  },
  {
   "cell_type": "code",
   "execution_count": 87,
   "id": "84935774-c1fa-484f-bd66-1652d497ebeb",
   "metadata": {},
   "outputs": [
    {
     "data": {
      "text/plain": [
       "\"Sou\""
      ]
     },
     "execution_count": 87,
     "metadata": {},
     "output_type": "execute_result"
    }
   ],
   "source": [
    "str[1:3]"
   ]
  },
  {
   "cell_type": "markdown",
   "id": "b9c74cb8-2796-4c01-89c1-d0f37c9919d4",
   "metadata": {},
   "source": [
    "***MAS*** o senhor Python habitua-nos muito mal, pois se definirmos uma string com `''` é o mesmo que definir com `\"\"` e tudo é considerado string.\n",
    "\n",
    "Pois é ... aqui em Julia isto `str[6]` é diferente disto `str[6:6]`, porque `str[6]` está-nos a retornar o caracter no índice 6, porém `str[6:6]` está a retornar uma substring que começa no índice 6 e termina no índice 6. \n",
    "\n",
    "Resumo: um é do tipo `Char` e o outro é do tipo `String`."
   ]
  },
  {
   "cell_type": "code",
   "execution_count": 88,
   "id": "5393230a-d2ac-4cc3-81bb-414723ba7a0c",
   "metadata": {},
   "outputs": [
    {
     "data": {
      "text/plain": [
       "Char"
      ]
     },
     "execution_count": 88,
     "metadata": {},
     "output_type": "execute_result"
    }
   ],
   "source": [
    "typeof( str[6] )"
   ]
  },
  {
   "cell_type": "code",
   "execution_count": 89,
   "id": "0b193ca3-816c-4cc1-9f92-097c819872a9",
   "metadata": {},
   "outputs": [
    {
     "data": {
      "text/plain": [
       "String"
      ]
     },
     "execution_count": 89,
     "metadata": {},
     "output_type": "execute_result"
    }
   ],
   "source": [
    "typeof( str[6:6] )"
   ]
  },
  {
   "cell_type": "markdown",
   "id": "647827de-ff75-4308-b9c7-a2ae024a662c",
   "metadata": {},
   "source": [
    "Também se pode obter substrings através do tipo `SubString`, fazendo com que tenhamos um objeto desse tipo e não do tipo `String`."
   ]
  },
  {
   "cell_type": "code",
   "execution_count": 90,
   "id": "dd5a714a-af17-4b60-9aa8-b4ef9de1f192",
   "metadata": {},
   "outputs": [
    {
     "data": {
      "text/plain": [
       "SubString{String}"
      ]
     },
     "execution_count": 90,
     "metadata": {},
     "output_type": "execute_result"
    }
   ],
   "source": [
    "sub = SubString(str, 1, 4)\n",
    "\n",
    "typeof(sub)"
   ]
  },
  {
   "cell_type": "markdown",
   "id": "643e8ed3-bd73-4641-92a1-6f1c60361ed4",
   "metadata": {},
   "source": [
    "## Unicode\n",
    "\n",
    "Quando definimos alguma string utilizando o `\\u`, ela será codificada em UTF-8 o que faz com que cada caracter possa ocupar um número de bytes superior a 1 (normalmente do code point 128 para cima, os caracteres ocupam mais que 1 byte).\n",
    "\n",
    "\n",
    "Isto fará com que quando tentamos aceder a um caracter de índice $n$, nem sempre será válido, pois podemos apanhar algum byte referente ao caracter do índice anterior."
   ]
  },
  {
   "cell_type": "code",
   "execution_count": 91,
   "id": "a15fa9c5-0e54-42f2-aa8e-5a46a40c0126",
   "metadata": {},
   "outputs": [
    {
     "data": {
      "text/plain": [
       "7"
      ]
     },
     "execution_count": 91,
     "metadata": {},
     "output_type": "execute_result"
    }
   ],
   "source": [
    "s = \"\\u2200 x \\u2203 y\"\n",
    "\n",
    "length(s)"
   ]
  },
  {
   "cell_type": "code",
   "execution_count": 92,
   "id": "a2f88b2a-2e4a-4bc4-9f99-ef8f5a8f605a",
   "metadata": {},
   "outputs": [
    {
     "data": {
      "text/plain": [
       "'∀': Unicode U+2200 (category Sm: Symbol, math)"
      ]
     },
     "execution_count": 92,
     "metadata": {},
     "output_type": "execute_result"
    }
   ],
   "source": [
    "# O primeiro índice representará o primeiro caracter\n",
    "s[1]"
   ]
  },
  {
   "cell_type": "code",
   "execution_count": 93,
   "id": "d0d3b87a-decf-43d4-a265-27cf26f42c45",
   "metadata": {},
   "outputs": [
    {
     "ename": "LoadError",
     "evalue": "StringIndexError: invalid index [2], valid nearby indices [1]=>'∀', [4]=>' '",
     "output_type": "error",
     "traceback": [
      "StringIndexError: invalid index [2], valid nearby indices [1]=>'∀', [4]=>' '",
      "",
      "Stacktrace:",
      " [1] string_index_err(s::String, i::Int64)",
      "   @ Base .\\strings\\string.jl:12",
      " [2] getindex_continued(s::String, i::Int64, u::UInt32)",
      "   @ Base .\\strings\\string.jl:233",
      " [3] getindex(s::String, i::Int64)",
      "   @ Base .\\strings\\string.jl:226",
      " [4] top-level scope",
      "   @ In[93]:3",
      " [5] eval",
      "   @ .\\boot.jl:360 [inlined]",
      " [6] include_string(mapexpr::typeof(REPL.softscope), mod::Module, code::String, filename::String)",
      "   @ Base .\\loading.jl:1094"
     ]
    }
   ],
   "source": [
    "# Como o caracter anterior é um Unicode com code point > 128, o índice 2 ainda pertence a ele\n",
    "# por isso ele é um índice inválido para ser acedido\n",
    "s[2]"
   ]
  },
  {
   "cell_type": "code",
   "execution_count": 94,
   "id": "42d398d6-da13-4261-81f3-19d4933f2238",
   "metadata": {},
   "outputs": [
    {
     "ename": "LoadError",
     "evalue": "StringIndexError: invalid index [3], valid nearby indices [1]=>'∀', [4]=>' '",
     "output_type": "error",
     "traceback": [
      "StringIndexError: invalid index [3], valid nearby indices [1]=>'∀', [4]=>' '",
      "",
      "Stacktrace:",
      " [1] string_index_err(s::String, i::Int64)",
      "   @ Base .\\strings\\string.jl:12",
      " [2] getindex_continued(s::String, i::Int64, u::UInt32)",
      "   @ Base .\\strings\\string.jl:233",
      " [3] getindex(s::String, i::Int64)",
      "   @ Base .\\strings\\string.jl:226",
      " [4] top-level scope",
      "   @ In[94]:1",
      " [5] eval",
      "   @ .\\boot.jl:360 [inlined]",
      " [6] include_string(mapexpr::typeof(REPL.softscope), mod::Module, code::String, filename::String)",
      "   @ Base .\\loading.jl:1094"
     ]
    }
   ],
   "source": [
    "s[3]"
   ]
  },
  {
   "cell_type": "markdown",
   "id": "179439c2-337f-462a-ad05-5fe6ce158fb9",
   "metadata": {},
   "source": [
    "Bem o símbolo ∀ ocupou $3$ bytes da nossa string, mas se repararmos Julia avisa, no erro, qual o próximo caracter válido para printar: `StringIndexError: invalid index [3], valid nearby indices [1]=>'∀', [4]=>' '\n",
    "` - Neste caso o índice 4 é o próximo índice válido."
   ]
  },
  {
   "cell_type": "code",
   "execution_count": 95,
   "id": "c58139e6-2224-4314-a6cf-972586a33876",
   "metadata": {},
   "outputs": [
    {
     "data": {
      "text/plain": [
       "' ': ASCII/Unicode U+0020 (category Zs: Separator, space)"
      ]
     },
     "execution_count": 95,
     "metadata": {},
     "output_type": "execute_result"
    }
   ],
   "source": [
    "s[4]"
   ]
  },
  {
   "cell_type": "markdown",
   "id": "571549e9-e440-43a9-ae38-14a2e413dd41",
   "metadata": {},
   "source": [
    "Para evitarmos ter que verificar todos os índices e olhar para a mensagem de erro, podemos utilizar a função `nextind(str, indice)`, onde o `indice` é o índice a partir do qual queremos verificar o próximo índice válido. Por exemplo, se eu passa-se a nossa string `s` e o índice $1$, a função retornaria $4$.\n",
    "\n",
    "\n",
    "Também há a `prevind(string, indice)` caso queiramos ver de trás para a frente, ou seja, o índice válido anterior ao que passámos como argumento.\n",
    "\n",
    "Podemos passar um argumento opcional, sendo esse o valor válido que queremos. Por exemplo, se eu quiser o índice válido a seguir ao primeiro índice, faço: `nextind(s, firstindex(s))` - MAS, se eu quiser não o valor a seguir, mas o valor ... a seguir ao a seguir, ou seja, o segundo valor válido depois do primeiro índice, faço: `nextind(s, firstindex(s), 2)`."
   ]
  },
  {
   "cell_type": "code",
   "execution_count": 96,
   "id": "0092d4d6-4214-4832-b7e1-494411f52cb0",
   "metadata": {},
   "outputs": [
    {
     "data": {
      "text/plain": [
       "4"
      ]
     },
     "execution_count": 96,
     "metadata": {},
     "output_type": "execute_result"
    }
   ],
   "source": [
    "# índice do valor válido a seguir ao primeiro indice\n",
    "nextind(s, firstindex(s))"
   ]
  },
  {
   "cell_type": "code",
   "execution_count": 97,
   "id": "ea4fe232-1537-4823-8910-9caaed7b2aeb",
   "metadata": {},
   "outputs": [
    {
     "data": {
      "text/plain": [
       "5"
      ]
     },
     "execution_count": 97,
     "metadata": {},
     "output_type": "execute_result"
    }
   ],
   "source": [
    "# índice do segundo valor válido a seguir ao primeiro indice\n",
    "nextind(s, firstindex(s), 2)"
   ]
  },
  {
   "cell_type": "markdown",
   "id": "693be6db-6b54-4450-8f16-84a7c2843820",
   "metadata": {},
   "source": [
    "***Nota:*** &#8595;\n",
    "\n",
    "<hr>\n",
    "\n",
    "`length(string) <= lastindex(s)` - pois o length vai contar como se cada caracter ocupasse apenas 1 byte, apenas 1 índice.\n",
    "\n",
    "<hr>"
   ]
  },
  {
   "cell_type": "markdown",
   "id": "9addf6cd-95b3-4973-aa5e-06376779e57b",
   "metadata": {},
   "source": [
    "Por fim, se quisermos iterar por todos os possíveis índices em uma string, utilizamos a função `eachindex(string)` que já fará de forma otimizada.\n",
    "\n",
    "\n",
    "***Nota:*** &#8595;\n",
    "\n",
    "<hr>\n",
    "\n",
    "Ela retornará um objeto do tipo `EachStringIndex` que não é a melhor forma de visualizar os índices. Para isso precisamos converter o objeto em um array/vector de valores (que no caso são índices) utilizando uma outra função `collect(object)`. \n",
    "\n",
    "<hr>"
   ]
  },
  {
   "cell_type": "code",
   "execution_count": 98,
   "id": "38e4e266-8c15-46fc-8d47-9f37b3678eb2",
   "metadata": {},
   "outputs": [
    {
     "data": {
      "text/plain": [
       "7-element Vector{Int64}:\n",
       "  1\n",
       "  4\n",
       "  5\n",
       "  6\n",
       "  7\n",
       " 10\n",
       " 11"
      ]
     },
     "execution_count": 98,
     "metadata": {},
     "output_type": "execute_result"
    }
   ],
   "source": [
    "collect( eachindex(s) )"
   ]
  },
  {
   "cell_type": "markdown",
   "id": "e00a0ce8-5bcc-4d95-bfc9-73a2991c144f",
   "metadata": {},
   "source": [
    "Podemos ver a code unit crua ( representação do(s) byte(s) ) de um dado caracter utilizando o `codeunit(string, indice)`. \n",
    "\n",
    "Podemos mostrar todos os code units usando `codeunits(string)`. "
   ]
  },
  {
   "cell_type": "code",
   "execution_count": 99,
   "id": "ff75f879-c070-43aa-8bd7-36ae6913668c",
   "metadata": {},
   "outputs": [
    {
     "data": {
      "text/plain": [
       "0x88"
      ]
     },
     "execution_count": 99,
     "metadata": {},
     "output_type": "execute_result"
    }
   ],
   "source": [
    "# Code unit do valor no índice 2\n",
    "codeunit(s, 2)"
   ]
  },
  {
   "cell_type": "code",
   "execution_count": 100,
   "id": "d2697733-0463-4691-91ca-f93e0c99d431",
   "metadata": {},
   "outputs": [
    {
     "data": {
      "text/plain": [
       "11-element Base.CodeUnits{UInt8, String}:\n",
       " 0xe2\n",
       " 0x88\n",
       " 0x80\n",
       " 0x20\n",
       " 0x78\n",
       " 0x20\n",
       " 0xe2\n",
       " 0x88\n",
       " 0x83\n",
       " 0x20\n",
       " 0x79"
      ]
     },
     "execution_count": 100,
     "metadata": {},
     "output_type": "execute_result"
    }
   ],
   "source": [
    "codeunits(s)"
   ]
  },
  {
   "cell_type": "markdown",
   "id": "5f3277c8-2f71-420c-a59d-26ea42a6c604",
   "metadata": {},
   "source": [
    "Julia aceita qualquer sequência de unit codes, mesmo que contenham UTF-8 codes inválidos. Isso porque ela faz uma verificação da seguinte forma:\n",
    "* Divide a sequência em sub sequências de 8-bit code units\n",
    "* Verifica cada uma dessas sub sequências (cada uma delas deve ou não referir-se a um caracter)\n",
    "* Essas verificação é feita comparando com alguns padrões\n",
    "* Caso não bata com os padrões Julia dirá se é uma caracter inválido por má formação ou por ter uma sub sequência de code units muito elevado, por exemplo."
   ]
  },
  {
   "cell_type": "code",
   "execution_count": 101,
   "id": "2e394e9b-be34-45bb-a728-c6791caf4087",
   "metadata": {},
   "outputs": [
    {
     "data": {
      "text/plain": [
       "\"\\xc0\\xa0\\xe2\\x88\\xe2|\""
      ]
     },
     "execution_count": 101,
     "metadata": {},
     "output_type": "execute_result"
    }
   ],
   "source": [
    "# Exemplo mostrado no manual de uma sequência de code units\n",
    "s = \"\\xc0\\xa0\\xe2\\x88\\xe2|\""
   ]
  },
  {
   "cell_type": "code",
   "execution_count": 102,
   "id": "3ea24e06-52b6-46d3-b9d9-9388bfa175d1",
   "metadata": {},
   "outputs": [
    {
     "data": {
      "text/plain": [
       "'\\xc0\\xa0': [overlong] ASCII/Unicode U+0020 (category Zs: Separator, space)"
      ]
     },
     "metadata": {},
     "output_type": "display_data"
    },
    {
     "data": {
      "text/plain": [
       "'\\xe2\\x88': Malformed UTF-8 (category Ma: Malformed, bad data)"
      ]
     },
     "metadata": {},
     "output_type": "display_data"
    },
    {
     "data": {
      "text/plain": [
       "'\\xe2': Malformed UTF-8 (category Ma: Malformed, bad data)"
      ]
     },
     "metadata": {},
     "output_type": "display_data"
    },
    {
     "data": {
      "text/plain": [
       "'|': ASCII/Unicode U+007C (category Sm: Symbol, math)"
      ]
     },
     "metadata": {},
     "output_type": "display_data"
    }
   ],
   "source": [
    "# Iteramos por todas as sub sequências de 8-bit code units (caracteres)\n",
    "foreach(display, s)"
   ]
  },
  {
   "cell_type": "markdown",
   "id": "b176d484-3971-47a7-b38d-759cb3b11bff",
   "metadata": {},
   "source": [
    "Isto não é algo que eu domine muito, mas baseado na documentação vimos que:\n",
    "* `'\\xc0\\xa0'` são code units muito altos para representar o caracter espaço ' '\n",
    "* `'\\xe2\\x88'` apesar de serem válidos, o próximo code unit (`'\\xe2'`) torna esta sub sequência inválida\n",
    "* `'\\xe2'` este além de fazer a sub sequência anterior inválida, também é inválido, pois o caracter posterior `|` não é uma continuação válida.\n",
    "* `'|'` é um caracter normal\n",
    "\n",
    "\n",
    "***Nota: O `foreach` é uma forma de loop onde, basicamente, iteramos sobre um objeto e passamos ele para uma função. O `display` é uma função que permite printar o valor de um objeto e ainda obter algumas informações acerca dele.***\n",
    "\n",
    "Novamente, para não termos de nos basear em erros para verificar o que cada sub sequência tem ou não errado, podemos usar a função `isvalid.(array/vector)` com a nossa `String`.\n",
    "\n",
    "***Nota*** &#8595; \n",
    "\n",
    "<hr>\n",
    "\n",
    "O `.` depois de `isvalid` significa broadcasting, ou seja, queremos verificar se cada elemento no array é válido(1) ou não(0).\n",
    "\n",
    "<hr>"
   ]
  },
  {
   "cell_type": "code",
   "execution_count": 103,
   "id": "c8cd0d6d-5bca-4bec-a215-be99ea756092",
   "metadata": {},
   "outputs": [
    {
     "data": {
      "text/plain": [
       "4-element BitVector:\n",
       " 0\n",
       " 0\n",
       " 0\n",
       " 1"
      ]
     },
     "execution_count": 103,
     "metadata": {},
     "output_type": "execute_result"
    }
   ],
   "source": [
    "isvalid.(collect(s))"
   ]
  },
  {
   "cell_type": "markdown",
   "id": "14872292-e63d-4d92-96bc-370ef3566f67",
   "metadata": {},
   "source": [
    "Um método útil na nossa jornada é o `transcode(Type, string)`, ele permite-nos converter as nossa strings para outros encoders."
   ]
  },
  {
   "cell_type": "markdown",
   "id": "7097dd75-28fa-4664-bcb3-b744c551c3cf",
   "metadata": {},
   "source": [
    "## Concatenação\n",
    "\n",
    "Começo já por avisar que concatenar strings que possuem sequências de code units inválidas podem gerar outros caracteres.\n",
    "\n",
    "Mas para mim a parte mais interessante é o operador utilizado para concatenar strings. Em Python usamos o `+` para concatenar strings, porém em Julia usamos o `*`.\n",
    "\n",
    "Mas porquê ?? Na realidade, faz bastante sentido matematicamente! Quando nós adicionamos 2 matrizes de tamanhos iguais, nós definimos que essa operação é comutativa, porque: $A + B == B + A$- mas, e se em vez de números fossem strings?\n",
    "\n",
    "$\"Jupyter\" + \"Notebook\" \\neq \"Notebook\" + \"Jupyter\"$ - logo concatenar strings adicionando não faz sentido, MAS utilizando o operador de multiplicação `*` FAZ! Pois a multiplicação de 2 matrizes não é algo comutativo: $A \\cdot B \\neq B \\cdot A$.\n",
    "\n",
    "Lembrem-se que Julia é uma linguagem com escopo científico, então sempre haverá relações com matemática."
   ]
  },
  {
   "cell_type": "code",
   "execution_count": 104,
   "id": "eddbad4e-fa87-4311-b5f7-bbe099f9bbd0",
   "metadata": {},
   "outputs": [
    {
     "data": {
      "text/plain": [
       "\"Jupyter Notebook\""
      ]
     },
     "execution_count": 104,
     "metadata": {},
     "output_type": "execute_result"
    }
   ],
   "source": [
    "# Uma simples concatenação\n",
    "\"Jupyter \" * \"Notebook\""
   ]
  },
  {
   "cell_type": "markdown",
   "id": "4f63d57c-8c72-4b7e-8467-88e968effc48",
   "metadata": {},
   "source": [
    "## Interpolação\n",
    "\n",
    "Chegámos ao ponto onde Julia é parecido com Bash. Caso queiramos colocar, por exemplo, uma variável no meio de uma string, em vez de concatenarmos podemos interpolar utilizando `$`:"
   ]
  },
  {
   "cell_type": "code",
   "execution_count": 105,
   "id": "7962359d-622a-4211-983a-32078b9257d0",
   "metadata": {},
   "outputs": [
    {
     "data": {
      "text/plain": [
       "\"Olá, User\""
      ]
     },
     "execution_count": 105,
     "metadata": {},
     "output_type": "execute_result"
    }
   ],
   "source": [
    "nome = \"User\"\n",
    "\n",
    "\"Olá, $nome\""
   ]
  },
  {
   "cell_type": "markdown",
   "id": "6dc1d99a-6acf-4b41-931e-c0844637cf0c",
   "metadata": {},
   "source": [
    "Pode-se utilizar para cálculos:"
   ]
  },
  {
   "cell_type": "code",
   "execution_count": 106,
   "id": "c8dbade1-2064-445c-8bfb-76c2e4af83e9",
   "metadata": {},
   "outputs": [
    {
     "data": {
      "text/plain": [
       "\"3 * 3 = 9\""
      ]
     },
     "execution_count": 106,
     "metadata": {},
     "output_type": "execute_result"
    }
   ],
   "source": [
    "\"3 * 3 = $(3*3)\""
   ]
  },
  {
   "cell_type": "markdown",
   "id": "d9c656f6-1590-4c39-be30-76e5262bbeb3",
   "metadata": {},
   "source": [
    "E no caso de queremos usar o caracter `$`, temos de fazer escape dele com `\\`"
   ]
  },
  {
   "cell_type": "code",
   "execution_count": 107,
   "id": "9df7572f-6080-4d66-b60f-7f96b46fee41",
   "metadata": {},
   "outputs": [
    {
     "name": "stdout",
     "output_type": "stream",
     "text": [
      "Encontrei 1$ ao sair de casa\n"
     ]
    }
   ],
   "source": [
    "println(\"Encontrei 1\\$ ao sair de casa\")"
   ]
  },
  {
   "cell_type": "markdown",
   "id": "eff97762-f752-41bb-8a02-922e82126485",
   "metadata": {},
   "source": [
    "# Strings com aspas triplas\n",
    "\n",
    "Para escrever textos grandes e com bastante indentação, utilizar as aspas duplas `\" \"` poderá não ser algo muito prático.\n",
    "\n",
    "Caso usemos `\"\"\" \"\"\"` para criar a string, podemos colocar espaços, tabulações, quebras de linha etc sem fazer uso de `\\n`, `\\t`.\n",
    "\n",
    "\n",
    "Esta forma de definir strings é idêntica ao `f\"\"` do Python."
   ]
  },
  {
   "cell_type": "code",
   "execution_count": 108,
   "id": "1a58e738-5191-461a-adf3-052c9f722005",
   "metadata": {},
   "outputs": [
    {
     "name": "stdout",
     "output_type": "stream",
     "text": [
      "Eu sou        um texto\n",
      "    indentado\n",
      "\n"
     ]
    }
   ],
   "source": [
    "str = \"\"\"\n",
    "Eu sou        um texto\n",
    "    indentado\n",
    "\"\"\"\n",
    "\n",
    "println(str)"
   ]
  },
  {
   "cell_type": "markdown",
   "id": "ef9c8859-f893-417c-aac2-fb5b96ebaccd",
   "metadata": {},
   "source": [
    "## Operações básicas\n",
    "\n",
    "Podemos comparar strings lexicograficamente, ou seja, podemos verificar se uma string é menor que outra com base na posição dos caracteres no alfabeto."
   ]
  },
  {
   "cell_type": "code",
   "execution_count": 109,
   "id": "739af320-5bbf-4bec-af4c-645e60549d84",
   "metadata": {},
   "outputs": [
    {
     "data": {
      "text/plain": [
       "true"
      ]
     },
     "execution_count": 109,
     "metadata": {},
     "output_type": "execute_result"
    }
   ],
   "source": [
    "\"Sou inferior\" < \"Sou superior\""
   ]
  },
  {
   "cell_type": "markdown",
   "id": "af6a6415-ada7-43b8-ade4-5eba97c9d13a",
   "metadata": {},
   "source": [
    "Podemos encontrar um dado caracter em uma string utilizando as funções: `findfirst` e `findlast` - em que a primeira encontra a primeira ocorrência e a segunda encontra a última ocorrência.\n",
    "\n",
    "\n",
    "***Nota:*** &#8595;\n",
    "\n",
    "<hr>\n",
    "\n",
    "No `isequal` é importante passar um caracter e não uma string, já que a função find vai procurar em cada `Char` presente na string. Se passarmos `\"a\"` não vai retornar nada, pois é do tipo `String` e não `Char`.\n",
    "\n",
    "<hr>"
   ]
  },
  {
   "cell_type": "code",
   "execution_count": 110,
   "id": "9e5ec069-9cf4-4481-b3c5-a662101d23e4",
   "metadata": {},
   "outputs": [
    {
     "data": {
      "text/plain": [
       "1"
      ]
     },
     "execution_count": 110,
     "metadata": {},
     "output_type": "execute_result"
    }
   ],
   "source": [
    "findfirst(isequal('a'), \"amanhã\")"
   ]
  },
  {
   "cell_type": "code",
   "execution_count": 111,
   "id": "c3fb82ac-deae-4c21-84e3-d52cc6933612",
   "metadata": {},
   "outputs": [
    {
     "data": {
      "text/plain": [
       "3"
      ]
     },
     "execution_count": 111,
     "metadata": {},
     "output_type": "execute_result"
    }
   ],
   "source": [
    "findlast(isequal('a'), \"amanhã\")"
   ]
  },
  {
   "cell_type": "markdown",
   "id": "c0c218ed-5cc4-48d3-a998-3ca45517d244",
   "metadata": {},
   "source": [
    "Podemos encontrar a próxima ou a ocorrência anterior de um dado caracter com as funções: `findnext` e `findprev` - passando um índice que será o offset para procurar, ou seja, começamos a procurar a partir desse índice e se ele for uma das ocorrências, então o próprio índice será retornado."
   ]
  },
  {
   "cell_type": "code",
   "execution_count": 112,
   "id": "4544c03d-9bc8-4c84-8fbc-d786a4e6976a",
   "metadata": {},
   "outputs": [
    {
     "data": {
      "text/plain": [
       "1"
      ]
     },
     "execution_count": 112,
     "metadata": {},
     "output_type": "execute_result"
    }
   ],
   "source": [
    "# Primeira ocorrência a partir do índice 1\n",
    "findnext(isequal('a'), \"amanha\", 1)"
   ]
  },
  {
   "cell_type": "code",
   "execution_count": 113,
   "id": "a5ab3f8c-4f0d-4585-9eda-443396a83291",
   "metadata": {},
   "outputs": [
    {
     "data": {
      "text/plain": [
       "3"
      ]
     },
     "execution_count": 113,
     "metadata": {},
     "output_type": "execute_result"
    }
   ],
   "source": [
    "# Primeira ocorrência a partir do índice 2\n",
    "findnext(isequal('a'), \"amanha\", 2)"
   ]
  },
  {
   "cell_type": "code",
   "execution_count": 114,
   "id": "52b6cde8-1dd6-46a8-a67d-33598d82fc71",
   "metadata": {},
   "outputs": [
    {
     "data": {
      "text/plain": [
       "3"
      ]
     },
     "execution_count": 114,
     "metadata": {},
     "output_type": "execute_result"
    }
   ],
   "source": [
    "# Primeira ocorrência a partir no índice 4 e a contar de trás para frente (inverso)\n",
    "findprev(isequal('a'), \"amanha\", 4)"
   ]
  },
  {
   "cell_type": "markdown",
   "id": "bd36ec06-020e-4384-8ee3-a60e7aa99414",
   "metadata": {},
   "source": [
    "A função `occursin` verifica se um `Char` ou uma `String` está dentro da string que passamos como segundo argumento."
   ]
  },
  {
   "cell_type": "code",
   "execution_count": 115,
   "id": "339bb118-ba09-4292-bfef-1d99cf513607",
   "metadata": {},
   "outputs": [
    {
     "data": {
      "text/plain": [
       "true"
      ]
     },
     "execution_count": 115,
     "metadata": {},
     "output_type": "execute_result"
    }
   ],
   "source": [
    "occursin(\"ul\", \"Julia\")"
   ]
  },
  {
   "cell_type": "markdown",
   "id": "7a58ef3f-f2ba-4e43-95c8-6b46a4e81869",
   "metadata": {},
   "source": [
    "Por fim temos mais 3 funções importantes:\n",
    "* `repeat(str::Str, N::Int)`: Função que cria uma string com a repetição de $N$ vezes de `str`.\n",
    "\n",
    "* `join([IO::io, ] strs, delim::String, last::String)`: Função que recebe um array de strings, concatena utilizando o `delim` como delimitador entre as strings e `last` como o último delimitador (delimita a penúltima e a última string).\n",
    "\n",
    "* `length(str::String, i::Int, j::Int)`: Função que retorna o número de caracteres de uma string e caso passemos o $i$ e o $j$, ela apenas retorna o número de caracteres nesse intervalo de índices."
   ]
  },
  {
   "cell_type": "code",
   "execution_count": 116,
   "id": "f027181e-33d9-4941-9ef7-8f4679b4e7f3",
   "metadata": {},
   "outputs": [
    {
     "data": {
      "text/plain": [
       "\"aaaaaaaaaa\""
      ]
     },
     "execution_count": 116,
     "metadata": {},
     "output_type": "execute_result"
    }
   ],
   "source": [
    "repeat(\"a\", 10)"
   ]
  },
  {
   "cell_type": "code",
   "execution_count": 117,
   "id": "88c04924-e398-4a5b-95c3-bd3f202127fa",
   "metadata": {},
   "outputs": [
    {
     "data": {
      "text/plain": [
       "\"Code, Eat, Code again and Repeat\""
      ]
     },
     "execution_count": 117,
     "metadata": {},
     "output_type": "execute_result"
    }
   ],
   "source": [
    "join([\"Code\", \"Eat\", \"Code again\", \"Repeat\"], \", \", \" and \")"
   ]
  },
  {
   "cell_type": "code",
   "execution_count": 118,
   "id": "382a9e5c-fc4a-4813-91ef-499ed8cef761",
   "metadata": {},
   "outputs": [
    {
     "data": {
      "text/plain": [
       "16"
      ]
     },
     "execution_count": 118,
     "metadata": {},
     "output_type": "execute_result"
    }
   ],
   "source": [
    "length(\"Julia-is-awesome\")"
   ]
  },
  {
   "cell_type": "code",
   "execution_count": 119,
   "id": "6184f3c3-9756-498c-b375-1e6186d8e411",
   "metadata": {},
   "outputs": [
    {
     "data": {
      "text/plain": [
       "5"
      ]
     },
     "execution_count": 119,
     "metadata": {},
     "output_type": "execute_result"
    }
   ],
   "source": [
    "# Número de caracteres na substring \"Julia\"\n",
    "length(\"Julia-is-awesome\", 1, 5)"
   ]
  },
  {
   "cell_type": "markdown",
   "id": "e89b5585-2d49-4dfc-91e9-80f5b3218bb8",
   "metadata": {},
   "source": [
    "## Strings que fogem ao padrão\n",
    "\n",
    "Subtítulo bastante interessante, não? Bem, o que eu quero dizer é que até agora manipulámos strings normais.\n",
    "\n",
    "Porém há formas mais dinâmicas de manipular strings, por exemplo, com o bom e velho *Regex*. "
   ]
  },
  {
   "cell_type": "markdown",
   "id": "8a1b6d2a-e1c1-4bea-9526-b7ed41037138",
   "metadata": {},
   "source": [
    "### Regular Expressions (A.K.A Regex)\n",
    "\n",
    "As expressões regulares é uma forma de encontrar padrões em strings e é algo bem difícil de entender (eu próprio tenho que entrar [neste site](https://regexr.com/) sempre que quero construir uma regex).\n",
    "\n",
    "\n",
    "O ponto positivo da complexidade de criar regexs é que a string é passada para uma [State Machine](https://pt.wikipedia.org/wiki/M%C3%A1quina_de_estados_finita) que irá procurar pelos padrões de forma eficiente.\n",
    "\n",
    "Para criar expressões regulares usamos: `r\"\"`"
   ]
  },
  {
   "cell_type": "code",
   "execution_count": 120,
   "id": "dedc9637-b438-46a1-836f-cd0a8a1f2b84",
   "metadata": {},
   "outputs": [
    {
     "data": {
      "text/plain": [
       "Regex"
      ]
     },
     "execution_count": 120,
     "metadata": {},
     "output_type": "execute_result"
    }
   ],
   "source": [
    "reg = r\"[0-9]\"\n",
    "\n",
    "typeof(reg)"
   ]
  },
  {
   "cell_type": "markdown",
   "id": "80d4f81f-1659-40a0-9357-32bc4df08d6c",
   "metadata": {},
   "source": [
    "Podemos verificar se uma string contém um dado padrão com o `occursin()`"
   ]
  },
  {
   "cell_type": "code",
   "execution_count": 121,
   "id": "6c257c48-d80b-400d-9027-8d169287ba53",
   "metadata": {},
   "outputs": [
    {
     "data": {
      "text/plain": [
       "true"
      ]
     },
     "execution_count": 121,
     "metadata": {},
     "output_type": "execute_result"
    }
   ],
   "source": [
    "# Verificar se existe dígitos na nossa string\n",
    "occursin(r\"[0-9]\", \"abc123def\")"
   ]
  },
  {
   "cell_type": "markdown",
   "id": "1cbb952e-40fa-4b90-aa9d-14a5214d5bc0",
   "metadata": {},
   "source": [
    "Mas a melhor forma é utilizar a função `match(reg::Regex, str::AbstractString)` que irá retornar `nothing` se não encontrar o padrão dentro da string.\n",
    "\n",
    "Vamos fazer um exemplo rápido: Em Portugal os números de telemóvel (celular em pt-br) contêm 9 dígitos e sempre começam com o algarismo $9$.\n",
    "\n",
    "Vamos verificar se um número de telemóvel é português com regex."
   ]
  },
  {
   "cell_type": "code",
   "execution_count": 122,
   "id": "3ba74caf-6a29-4b2d-a1a2-44f51c135561",
   "metadata": {},
   "outputs": [
    {
     "name": "stdout",
     "output_type": "stream",
     "text": [
      "É um número português\n",
      "\n",
      "Substring: 912345678\n",
      "1\n"
     ]
    }
   ],
   "source": [
    "reg = r\"[9]{1}[0-9]{8}\"\n",
    "\n",
    "# Retorna um objeto RegexMatch com a substring onde o padrão está ou nothing\n",
    "m = match(reg, \"912345678\")\n",
    "\n",
    "if m === nothing\n",
    "    println(\"NÃO é um número português\")\n",
    "else\n",
    "    println(\"É um número português\\n\")\n",
    "    \n",
    "    # Substring que corresponde ao padrão\n",
    "    println(\"Substring: \", m.match)\n",
    "    \n",
    "    # Índice onde começa o padrão encontrado\n",
    "    println(m.offset)\n",
    "end"
   ]
  },
  {
   "cell_type": "markdown",
   "id": "540972c2-90d8-4667-bb32-d9cc502d9a65",
   "metadata": {},
   "source": [
    "Ainda há o:\n",
    "* `m.captures`: Mostra as diferentes substrings onde se verifica um padrão. Retorna um `Vector`.\n",
    "* `m.offsets`: Mostra os índices onde começam a diferentes substrings onde se verifica uma padrão. Retorna um `Vector`."
   ]
  },
  {
   "cell_type": "markdown",
   "id": "233bb005-f1ad-4200-98e3-7279a73fe783",
   "metadata": {},
   "source": [
    "Podemos adicionar um nome a um grupo de padrões e verificar apenas a substring onde se encontra esse grupo. Imaginemos que queremos obter sempre os últimos 3 dígitos do número de telemóvel. Vamos começar por criar a Regex. "
   ]
  },
  {
   "cell_type": "code",
   "execution_count": 123,
   "id": "4fb1212b-1396-4dfe-a2b5-0550d7ee2055",
   "metadata": {},
   "outputs": [
    {
     "data": {
      "text/plain": [
       "RegexMatch(\"912345678\", last=\"678\")"
      ]
     },
     "execution_count": 123,
     "metadata": {},
     "output_type": "execute_result"
    }
   ],
   "source": [
    "reg = r\"[9]{1}[0-9]{5}(?<last>[0-9]{3})\"\n",
    "\n",
    "m = match(reg, \"912345678\")\n",
    "\n",
    "m"
   ]
  },
  {
   "cell_type": "markdown",
   "id": "e76ca999-d4f1-4554-98e7-c5c011a23200",
   "metadata": {},
   "source": [
    "Podemos aceder ao nosso grupo `last` utilizando `m[:last]`"
   ]
  },
  {
   "cell_type": "code",
   "execution_count": 124,
   "id": "a37a10da-4561-4e9c-a290-262fd7e24a31",
   "metadata": {},
   "outputs": [
    {
     "data": {
      "text/plain": [
       "\"678\""
      ]
     },
     "execution_count": 124,
     "metadata": {},
     "output_type": "execute_result"
    }
   ],
   "source": [
    "m[:last]"
   ]
  },
  {
   "cell_type": "markdown",
   "id": "986ba3c0-6baa-499b-8cc1-0846a59b3d0f",
   "metadata": {},
   "source": [
    "Podemos substituir um padrão por outra coisa qualquer utilizando a função `replace(str::String, reg::Pair`, onde utilizamos `s\"\"` como forma de indicar a expressão que susbtituirá algum padrão na regex.\n",
    "\n",
    "Podemos referir-nos aos grupos capturado com `\\n` - em $n$ que é um inteiro - ou então pelo nome - `\\g<nome_do_grupo>`.\n",
    "\n",
    "Vou utilizar um exemplo do manual."
   ]
  },
  {
   "cell_type": "code",
   "execution_count": 125,
   "id": "c60141e8-9038-4b7d-8728-8b54377e48c2",
   "metadata": {},
   "outputs": [
    {
     "data": {
      "text/plain": [
       "\"second first\""
      ]
     },
     "execution_count": 125,
     "metadata": {},
     "output_type": "execute_result"
    }
   ],
   "source": [
    "replace(\"first second\", r\"(\\w+) (?<agroup>\\w+)\" => s\"\\g<agroup> \\g<1>\")"
   ]
  },
  {
   "cell_type": "markdown",
   "id": "412d2ad8-24da-4d77-8e0c-f04afda925f5",
   "metadata": {},
   "source": [
    "A regex de cima procura 2 padrões separados por um espaço:\n",
    "* O primeiro é só um conjunto de caracteres alfanuméricos e underscores\n",
    "* O segundo é o mesmo que o primeiro, porém atribuimos um nome ao grupo\n",
    "\n",
    "\n",
    "Quando uma dada substring corresponder à regex ela será substituída com base no padrão definido em `s\"\"`, no caso essa padrão, passa o grupo com nome para primeiro, e o primeiro grupo (identificado pelo número da sua posição, `\\1`) passa para segundo.\n",
    "\n",
    "\n",
    "***Nota:*** &#8595;\n",
    "\n",
    "<hr>\n",
    "\n",
    "Vimos que a função `replace` recebe um argumento do tipo `Pair`. Pair é algo que iremos ver em dicionários, basicamente é um forma de criar uma par `key:value`, só que em vez de `:` usamos um `=>`.\n",
    "\n",
    "<hr>"
   ]
  },
  {
   "cell_type": "markdown",
   "id": "31d91f83-f464-4a60-8e83-a3b0acaceff1",
   "metadata": {},
   "source": [
    "Algo a ter em conta, é que podemos referir-nos a grupos através da sua posição sem ser com o `\\n`. Para isso usamos o `\\g<n>`, e caso $n = 0$, então iremos mostrar a substring, correspondente ao padrão, completa."
   ]
  },
  {
   "cell_type": "markdown",
   "id": "7d044ee7-543c-418c-a99d-5c069e847d21",
   "metadata": {},
   "source": [
    "<hr>\n",
    "\n",
    "Podemos mudar a forma de como o parser opera nas regexs, colocando algumas *flags* no fim da regex.\n",
    "\n",
    "Flags:\n",
    "* i: Ativa o Case-insensitive, ou seja, [a-z] é o mesmo que [A-Z].\n",
    "\n",
    "* m: `^` deixa de ser o caracter que identifica o ínicio da string e passa a ser o caracter que identifica o ínicio de uma linha. O mesmo para o `$` que em vez de identificar o fim de uma string, identifica o fim de uma linha.\n",
    "\n",
    "* s: Altera o funcionamento do `\".\"` que por padrão pega qualquer caracter exceto `\"\\n\"`, porém com esta flag, ele inclui o `\"\\n\"`.\n",
    "\n",
    "* x: Ignora espaços e trata o caracter `\"#\"` como um metacaracter, o que faz com que ele designe um comentário (como se fosse código normal)."
   ]
  },
  {
   "cell_type": "code",
   "execution_count": 126,
   "id": "45bb5ca1-f099-4cc6-b628-8f6da33d811d",
   "metadata": {},
   "outputs": [
    {
     "data": {
      "text/plain": [
       "r\"J u li a\"ix"
      ]
     },
     "execution_count": 126,
     "metadata": {},
     "output_type": "execute_result"
    }
   ],
   "source": [
    "# case-insensitive e ignora os espaços aplicados na regex\n",
    "reg = r\"J u li a\"ix"
   ]
  },
  {
   "cell_type": "code",
   "execution_count": 127,
   "id": "71e6bb85-4105-4112-9ec0-0396354baffb",
   "metadata": {},
   "outputs": [
    {
     "data": {
      "text/plain": [
       "RegexMatch(\"julia\")"
      ]
     },
     "execution_count": 127,
     "metadata": {},
     "output_type": "execute_result"
    }
   ],
   "source": [
    "match(reg, \"julia\")"
   ]
  },
  {
   "cell_type": "markdown",
   "id": "30e5cf24-8ea1-4014-8c36-81dd694b9214",
   "metadata": {},
   "source": [
    "Por fim, lembro que `r\"\"` não permite interpolação nem escape de caracteres (exceto o `\\\"`).\n",
    "\n",
    "Portanto para termos alguma liberdade, podemos usar o *constructor* `Regex()` quer permite-nos criar regexs mais livremente e com as manipulações que fazemos em strings comuns, como a interpolação."
   ]
  },
  {
   "cell_type": "code",
   "execution_count": 128,
   "id": "3b4891d0-e8df-4499-b703-8a34fa713cc5",
   "metadata": {},
   "outputs": [
    {
     "data": {
      "text/plain": [
       "r\"[9]{1}[0-9]{5}(?<last>[0-9]{3})\""
      ]
     },
     "execution_count": 128,
     "metadata": {},
     "output_type": "execute_result"
    }
   ],
   "source": [
    "first_digit = 9\n",
    "end_digits = 3\n",
    "\n",
    "reg = Regex(\"[$first_digit]{1}[0-9]{5}(?<last>[0-9]{$end_digits})\")"
   ]
  },
  {
   "cell_type": "markdown",
   "id": "7963822b-428e-494d-b279-388fd6ec7d0f",
   "metadata": {},
   "source": [
    "### Byte Array\n",
    "\n",
    "Neste notebook, na secção **Unicode**, falámos de code units já que elas são extremamente importantes para entender quando o caracter codificado em UTF-8 é válido ou não.\n",
    "\n",
    "Um *Byte Array* vai ser um array com todos os code units de uma string. Esse array é **imutável**, ou seja, só permite que nós vejamos os seus elementos, sem chance de os alterar.\n",
    "\n",
    "\n",
    "Para criar-mos uma string como uma byte array, fazemos uso de `b\"\"`.\n",
    "\n",
    "Deixo aqui as regras para Byte Arrays:\n",
    "* Os caracteres e escapes ASCII são colocado em apenas 1 byte\n",
    "* Escapes \\x e octal produzem o byte correspondente ao valor de escape\n",
    "* Sequências de escape Unicode criam sequências de bytes codificadas em UTF-8"
   ]
  },
  {
   "cell_type": "code",
   "execution_count": 129,
   "id": "877391e2-c4a7-4fcb-abb6-3447914faf3e",
   "metadata": {},
   "outputs": [
    {
     "data": {
      "text/plain": [
       "19-element Base.CodeUnits{UInt8, String}:\n",
       " 0x4a\n",
       " 0x75\n",
       " 0x6c\n",
       " 0x69\n",
       " 0x61\n",
       " 0x20\n",
       " 0xc3\n",
       " 0xa9\n",
       " 0x20\n",
       " 0x74\n",
       " 0x6f\n",
       " 0x70\n",
       " 0x20\n",
       " 0x64\n",
       " 0x65\n",
       " 0x6d\n",
       " 0x61\n",
       " 0x69\n",
       " 0x73"
      ]
     },
     "execution_count": 129,
     "metadata": {},
     "output_type": "execute_result"
    }
   ],
   "source": [
    "bytes = b\"Julia\\x20é\\x20top\\x20demais\""
   ]
  },
  {
   "cell_type": "markdown",
   "id": "ba6de45f-fd88-492a-8b64-95560566e19c",
   "metadata": {},
   "source": [
    "Podemos transformar este Array de CodeUnits do tipo `UInt8` em um Vector mutável. "
   ]
  },
  {
   "cell_type": "code",
   "execution_count": 130,
   "id": "3e08d925-93f7-4ff0-a128-88d08bf05287",
   "metadata": {},
   "outputs": [
    {
     "data": {
      "text/plain": [
       "0x75"
      ]
     },
     "execution_count": 130,
     "metadata": {},
     "output_type": "execute_result"
    }
   ],
   "source": [
    "# Podemos ver o code unit no índice 2\n",
    "bytes[2]"
   ]
  },
  {
   "cell_type": "code",
   "execution_count": 131,
   "id": "8f363470-bf3f-420d-a9cf-edb8820f4c6a",
   "metadata": {},
   "outputs": [
    {
     "ename": "LoadError",
     "evalue": "setindex! not defined for Base.CodeUnits{UInt8, String}",
     "output_type": "error",
     "traceback": [
      "setindex! not defined for Base.CodeUnits{UInt8, String}",
      "",
      "Stacktrace:",
      " [1] error(::String, ::Type)",
      "   @ Base .\\error.jl:42",
      " [2] error_if_canonical_setindex(#unused#::IndexLinear, A::Base.CodeUnits{UInt8, String}, #unused#::Int64)",
      "   @ Base .\\abstractarray.jl:1275",
      " [3] setindex!(A::Base.CodeUnits{UInt8, String}, v::UInt8, I::Int64)",
      "   @ Base .\\abstractarray.jl:1266",
      " [4] top-level scope",
      "   @ In[131]:2",
      " [5] eval",
      "   @ .\\boot.jl:360 [inlined]",
      " [6] include_string(mapexpr::typeof(REPL.softscope), mod::Module, code::String, filename::String)",
      "   @ Base .\\loading.jl:1094"
     ]
    }
   ],
   "source": [
    "# Porém se tentarmos modificar\n",
    "bytes[2] = 0x20"
   ]
  },
  {
   "cell_type": "code",
   "execution_count": 132,
   "id": "1b45345a-804a-4b1f-af15-601c83b273d2",
   "metadata": {},
   "outputs": [
    {
     "data": {
      "text/plain": [
       "19-element Vector{UInt8}:\n",
       " 0x4a\n",
       " 0x75\n",
       " 0x6c\n",
       " 0x69\n",
       " 0x61\n",
       " 0x20\n",
       " 0xc3\n",
       " 0xa9\n",
       " 0x20\n",
       " 0x74\n",
       " 0x6f\n",
       " 0x70\n",
       " 0x20\n",
       " 0x64\n",
       " 0x65\n",
       " 0x6d\n",
       " 0x61\n",
       " 0x69\n",
       " 0x73"
      ]
     },
     "execution_count": 132,
     "metadata": {},
     "output_type": "execute_result"
    }
   ],
   "source": [
    "# Se transformarmos em um Vector de UInt8\n",
    "transformed_bytes = Vector{UInt8}(bytes)"
   ]
  },
  {
   "cell_type": "code",
   "execution_count": 133,
   "id": "76c8e26f-60b8-4415-b5a3-82f4372168f5",
   "metadata": {},
   "outputs": [
    {
     "data": {
      "text/plain": [
       "0x20"
      ]
     },
     "execution_count": 133,
     "metadata": {},
     "output_type": "execute_result"
    }
   ],
   "source": [
    "# Agora já podemos alterar\n",
    "transformed_bytes[2] = 0x20"
   ]
  },
  {
   "cell_type": "code",
   "execution_count": 134,
   "id": "32114548-4ce6-4f9e-8a01-74a997b528da",
   "metadata": {},
   "outputs": [
    {
     "data": {
      "text/plain": [
       "19-element Vector{UInt8}:\n",
       " 0x4a\n",
       " 0x20\n",
       " 0x6c\n",
       " 0x69\n",
       " 0x61\n",
       " 0x20\n",
       " 0xc3\n",
       " 0xa9\n",
       " 0x20\n",
       " 0x74\n",
       " 0x6f\n",
       " 0x70\n",
       " 0x20\n",
       " 0x64\n",
       " 0x65\n",
       " 0x6d\n",
       " 0x61\n",
       " 0x69\n",
       " 0x73"
      ]
     },
     "execution_count": 134,
     "metadata": {},
     "output_type": "execute_result"
    }
   ],
   "source": [
    "transformed_bytes"
   ]
  },
  {
   "cell_type": "markdown",
   "id": "d02ec811-2ef7-44cc-8985-03b9095489bd",
   "metadata": {},
   "source": [
    "***Nota***: &#8595;\n",
    "\n",
    "<hr>\n",
    "\n",
    "`\\xff` e `\\uff` são diferentes, o primeiro é a codificação do byte 255 (isto na representação hexadecimal), já o segundo é um code point que é codificado em UTF-8 com 2 bytes. \n",
    "\n",
    "<hr>"
   ]
  },
  {
   "cell_type": "markdown",
   "id": "efdb1caf-84b3-473a-b99c-8bc81e703573",
   "metadata": {},
   "source": [
    "### Número de versões\n",
    "\n",
    "Versões em Julia têm o seu próprio \"tipo\" de String, podendo assim serem definidas por `v\"\"`. Elas são criadas com base nas especificações de [semântica de versões](https://semver.org/), onde  temos:\n",
    "\n",
    "[1] Versão principal\n",
    "\n",
    "[2] Versão secundária\n",
    "\n",
    "[3] Versão do patch\n",
    "\n",
    "[4] Pre-Release\n",
    "\n",
    "[5] E por fim build\n",
    "\n",
    "\n",
    "**Apenas a versão principal é obrigatória**\n"
   ]
  },
  {
   "cell_type": "code",
   "execution_count": 135,
   "id": "7699220a-3f4f-406e-be2b-4d262b9db5bb",
   "metadata": {},
   "outputs": [
    {
     "data": {
      "text/plain": [
       "v\"1.6.1\""
      ]
     },
     "execution_count": 135,
     "metadata": {},
     "output_type": "execute_result"
    }
   ],
   "source": [
    "# Versão do kernel Julia\n",
    "VERSION"
   ]
  },
  {
   "cell_type": "code",
   "execution_count": 136,
   "id": "84ef2ed3-c803-48cc-b82d-161cbaeae191",
   "metadata": {},
   "outputs": [
    {
     "data": {
      "text/plain": [
       "true"
      ]
     },
     "execution_count": 136,
     "metadata": {},
     "output_type": "execute_result"
    }
   ],
   "source": [
    "# Versão principal\n",
    "v\"0\"\n",
    "\n",
    "# Versão principal e secundária\n",
    "v\"0.2\"\n",
    "\n",
    "# Versão principal, secundária e patch\n",
    "v\"0.2.1\"\n",
    "\n",
    "# Quando as versões secundárias e de patch são zero é como se não contassem\n",
    "v\"1\" == v\"1.0\" == v\"1.0.0\""
   ]
  },
  {
   "cell_type": "code",
   "execution_count": 137,
   "id": "325f2060-80b9-4b84-a09b-fb25bf5cb021",
   "metadata": {},
   "outputs": [
    {
     "data": {
      "text/plain": [
       "true"
      ]
     },
     "execution_count": 137,
     "metadata": {},
     "output_type": "execute_result"
    }
   ],
   "source": [
    "v\"0.3-\" < v\"0.3.2\""
   ]
  },
  {
   "cell_type": "markdown",
   "id": "15abfceb-f910-423a-95e7-22004613c648",
   "metadata": {},
   "source": [
    "***Nota:*** &#8595;\n",
    "\n",
    "<hr>\n",
    "\n",
    "O `-` significa qualquer versão menor dentro da 0.3\n",
    "\n",
    "<hr>"
   ]
  },
  {
   "cell_type": "code",
   "execution_count": 138,
   "id": "ec181451-bd5c-4825-b01d-758c240ef8ed",
   "metadata": {},
   "outputs": [
    {
     "data": {
      "text/plain": [
       "true"
      ]
     },
     "execution_count": 138,
     "metadata": {},
     "output_type": "execute_result"
    }
   ],
   "source": [
    "v\"0.3.1+\" > v\"0.3.1\""
   ]
  },
  {
   "cell_type": "markdown",
   "id": "35ef6c5b-d4cf-4362-8ad0-c82b80f62de9",
   "metadata": {},
   "source": [
    "***Nota:*** &#8595;\n",
    "<hr>\n",
    "\n",
    "O `+` significa qualquer versão maior dentro da 0.3.1\n",
    "\n",
    "<hr>"
   ]
  },
  {
   "cell_type": "markdown",
   "id": "7f3f45af-d37b-4030-83d2-cf6d6a3f5955",
   "metadata": {},
   "source": [
    "### Raw Strings\n",
    "\n",
    "Strings \"cruas\" são aquelas que não têm qualquer interpolação ou escape, e podemos defini-las com `raw\"\"`.\n",
    "\n",
    "\n",
    "Há exceções na parte de escape, pois as aspas `\"` precisam de um escape, logo `raw\"\\\"\" == \"\\\"\"`. \n",
    "\n",
    "As barras invertidas `\\` precisam de escape caso apareçam antes de uma aspa `\"`.\n",
    "\n",
    "Examinemos o exemplo do manual:"
   ]
  },
  {
   "cell_type": "code",
   "execution_count": 139,
   "id": "dfea7f43-5403-4883-8dde-ef7caf21f670",
   "metadata": {},
   "outputs": [
    {
     "name": "stdout",
     "output_type": "stream",
     "text": [
      "\\\\ \\\"\n"
     ]
    }
   ],
   "source": [
    "println(raw\"\\\\ \\\\\\\"\")"
   ]
  },
  {
   "cell_type": "markdown",
   "id": "ac39509f-6856-4916-8aa6-28c7093409aa",
   "metadata": {},
   "source": [
    "Os 2 primeiros `\\` não levam escape, pois não precedem uma aspa.\n",
    "\n",
    "No fim da string temos um `\\\"` responsável pelo escape da aspa, que faz com que o `\\` anterior, tenha de ter escape, por isso que precedemos ele com outro `\\`."
   ]
  }
 ],
 "metadata": {
  "kernelspec": {
   "display_name": "Julia 1.6.1",
   "language": "julia",
   "name": "julia-1.6"
  },
  "language_info": {
   "file_extension": ".jl",
   "mimetype": "application/julia",
   "name": "julia",
   "version": "1.6.1"
  }
 },
 "nbformat": 4,
 "nbformat_minor": 5
}
