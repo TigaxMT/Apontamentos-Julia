{
 "cells": [
  {
   "cell_type": "markdown",
   "id": "87986572-3825-4576-8f85-ef8b1560227d",
   "metadata": {},
   "source": [
    "# Funções\n",
    "\n",
    "***DISCLAIMER: Este notebook foi escrito com base no que li [neste](https://docs.julialang.org/en/v1/manual/functions/) capítulo do manual***\n",
    "\n",
    "\n",
    "Em Julia as funções são tradicionalmente definidas de forma similar ao Ruby:"
   ]
  },
  {
   "cell_type": "code",
   "execution_count": 19,
   "id": "48f53fda-3fb6-4e47-bb36-66a410dd3950",
   "metadata": {},
   "outputs": [
    {
     "data": {
      "text/plain": [
       "f (generic function with 1 method)"
      ]
     },
     "execution_count": 19,
     "metadata": {},
     "output_type": "execute_result"
    }
   ],
   "source": [
    "function f(x,y)\n",
    "    x * y\n",
    "end"
   ]
  },
  {
   "cell_type": "markdown",
   "id": "6eee6fd5-e249-4fec-837c-a22b7ec2d41e",
   "metadata": {},
   "source": [
    "Porém há uma forma mais simples de definir uma função:"
   ]
  },
  {
   "cell_type": "code",
   "execution_count": 20,
   "id": "df2f4636-6ea4-4083-b1b3-c6f2a30bbc15",
   "metadata": {},
   "outputs": [
    {
     "data": {
      "text/plain": [
       "f (generic function with 1 method)"
      ]
     },
     "execution_count": 20,
     "metadata": {},
     "output_type": "execute_result"
    }
   ],
   "source": [
    "f(x,y) = x * y"
   ]
  },
  {
   "cell_type": "markdown",
   "id": "07190276-4b32-4076-a144-362e7ffb13cf",
   "metadata": {},
   "source": [
    "Ambas fazem a mesma coisa e para funções que fazem coisas simples, como a nossa função `f`, usar esse formato mais simples é bem mais prático."
   ]
  },
  {
   "cell_type": "markdown",
   "id": "fd0033c7-d629-425d-b8aa-b9f48c0cc189",
   "metadata": {},
   "source": [
    "Assim como nas variáveis, podemos definir nomes de funções com Unicode e LaTeX:"
   ]
  },
  {
   "cell_type": "code",
   "execution_count": 21,
   "id": "fe4e1ee9-051d-48c5-a67f-039c5bde7446",
   "metadata": {},
   "outputs": [
    {
     "data": {
      "text/plain": [
       "25"
      ]
     },
     "execution_count": 21,
     "metadata": {},
     "output_type": "execute_result"
    }
   ],
   "source": [
    "λ(x,y) = x * y\n",
    "\n",
    "λ(5,5)"
   ]
  },
  {
   "cell_type": "markdown",
   "id": "0ec23edb-895d-4496-bdc5-8f371092bc55",
   "metadata": {},
   "source": [
    "E no caso de não chamarmos a função, podemos passar a referência para outra variável:\n"
   ]
  },
  {
   "cell_type": "code",
   "execution_count": 22,
   "id": "95e4e2a3-b0e7-455e-9336-8af26bd2d6df",
   "metadata": {},
   "outputs": [
    {
     "data": {
      "text/plain": [
       "25"
      ]
     },
     "execution_count": 22,
     "metadata": {},
     "output_type": "execute_result"
    }
   ],
   "source": [
    "Σ = λ\n",
    "\n",
    "Σ(5,5)"
   ]
  },
  {
   "cell_type": "markdown",
   "id": "4770f51f-9560-4594-9e37-c3a5d8c4bfef",
   "metadata": {},
   "source": [
    "## Como os argumentos são passados?\n",
    "\n",
    "Antes demais vamos relembrar 2 formas de passar um argumento, muito comuns na linguagem C: **por valor** e **por referência**.\n",
    "\n",
    "Quando um argumento era passado **por valor**, então a linguagem fazia uma cópia exata dos dados e se esse dado fosse uma variável, significava que as alterações feitas a essa variável no escopo da função, não impactavam na variável que fora passada como argumento.\n",
    "\n",
    "&#8595; Código em C &#8595;\n",
    "```\n",
    "int funcao(int x){\n",
    "   x = 2;\n",
    "   \n",
    "   return;\n",
    "}\n",
    "\n",
    "int x = 3;\n",
    "\n",
    "funcao(x);\n",
    "\n",
    "// Vai retornar 3\n",
    "printf(x);\n",
    "```\n",
    "\n",
    "Quando um argumento era passado **por referência**, então a linguagem passava como argumento um pointer para a variável, e assim a função tinha acesso direto à variável, fazendo modificações nelas que podiam ser vistas em qualquer escopo dentro do programa (desde que se tivesse acesso a um ponteiro para a variável ou então acesso direto à variável).\n",
    "\n",
    "&#8595; Código em C &#8595;\n",
    "```\n",
    "int funcao(int* x){\n",
    "   *x = 2;\n",
    "   \n",
    "   return;\n",
    "}\n",
    "\n",
    "int x = 3;\n",
    "\n",
    "funcao(&x);\n",
    "\n",
    "// Vai retornar 2\n",
    "printf(x);\n",
    "```"
   ]
  },
  {
   "cell_type": "markdown",
   "id": "34b43612-abfc-4bcc-98d0-b83ed20686fd",
   "metadata": {},
   "source": [
    "Agora que relembrámos um pouco C, vamos voltar para a Julia. Ela usa uma forma de passar argumentos parecida com a passagem por referência, no entanto mistura um pouco orientação a objetos.\n",
    "\n",
    "Julia passa os argumentos **por partilha**. Então, tudo em Julia é um objeto e objetos têm atributos e até mesmo métodos.\n",
    "Quando passamos um objeto como argumento, estamos a passar uma referência, como se fosse um pointer. PORÉM, esse objeto não pode ser atribuido com novos valores, do tipo: `x = 2` - Mas, por exemplo, se for um `Array`, pode ser transformado por um `append` e isso vai-se visto no objeto original!"
   ]
  },
  {
   "cell_type": "code",
   "execution_count": 23,
   "id": "c4d437d9-0d3c-45c1-808f-311280d43edd",
   "metadata": {},
   "outputs": [
    {
     "name": "stdout",
     "output_type": "stream",
     "text": [
      "3"
     ]
    }
   ],
   "source": [
    "# Não vai mudar nada no nosso objeto original\n",
    "function test(a)\n",
    "    a = 2\n",
    "end\n",
    "\n",
    "a = 3\n",
    "\n",
    "test(a)\n",
    "\n",
    "print(a)"
   ]
  },
  {
   "cell_type": "code",
   "execution_count": 24,
   "id": "90e4818e-3252-4189-9ae3-3397263bb75b",
   "metadata": {},
   "outputs": [
    {
     "name": "stdout",
     "output_type": "stream",
     "text": [
      "[1, 2, 1]"
     ]
    }
   ],
   "source": [
    "# Aqui vai-se verificar a mudança no objeto original\n",
    "# pois utilizamos uma função válido que manipula o nosso objeto\n",
    "function test(a)\n",
    "    push!(a, 1)\n",
    "end\n",
    "\n",
    "a = [1,2]\n",
    "\n",
    "test(a)\n",
    "\n",
    "print(a)"
   ]
  },
  {
   "cell_type": "markdown",
   "id": "e1d609f4-cc4c-4272-8de5-96bdd9279960",
   "metadata": {},
   "source": [
    "Resumindo: Se pudermos modificar um objeto através de uma função ou algo que tenha relação com o objeto, a transformação **vai ser observada no objeto original**.\n",
    "\n",
    "Caso tentemos re-atribuir um valor ao objeto passado como argumento, a transformação **não vai ser observada no objeto original**, mantendo-se apenas no escopo local da função.\n",
    "\n",
    "\n",
    "Podem obter mais informações [aqui](https://en.wikipedia.org/wiki/Evaluation_strategy#Call_by_sharing)\n",
    "\n",
    "<hr>"
   ]
  },
  {
   "cell_type": "markdown",
   "id": "1205fe75-c8ed-44f6-bad7-6b0e2dac2039",
   "metadata": {},
   "source": [
    "## Return\n",
    "\n",
    "A palavra reservada `return` serve para retornar algum valor e assim terminar o fluxo de uma função."
   ]
  },
  {
   "cell_type": "code",
   "execution_count": 25,
   "id": "0e0825fd-b8a0-45bd-82f2-7cebb53004e2",
   "metadata": {},
   "outputs": [
    {
     "name": "stdout",
     "output_type": "stream",
     "text": [
      "nothing\n",
      "4\n"
     ]
    }
   ],
   "source": [
    "function somar_pares(x,y)\n",
    "    if x % 2 == 0 && y % 2 == 0\n",
    "        return x + y\n",
    "    end\n",
    "    \n",
    "    return nothing\n",
    "end\n",
    "\n",
    "# Não vai somar pois 3 não é par\n",
    "println( somar_pares(2,3) )\n",
    "\n",
    "println(somar_pares(2,2))"
   ]
  },
  {
   "cell_type": "markdown",
   "id": "a6c85e3a-4b87-4d9c-9395-41c82d245193",
   "metadata": {},
   "source": [
    "***Nota*** &#8595;\n",
    "\n",
    "<hr>\n",
    "\n",
    "O `nothing` é um objeto do tipo `Nothing` e ele é usado em funções quando não queremos retornar nada. \n",
    "\n",
    "Fazer `return nothing` ou `return` é a mesma coisa. \n",
    "\n",
    "<hr>"
   ]
  },
  {
   "cell_type": "markdown",
   "id": "0351a66f-79b0-442d-a064-56c6e5ad17bd",
   "metadata": {},
   "source": [
    "## Retornos tipados\n",
    "\n",
    "Podemos definir o tipo do nosso retorno adicionando um `::Type` no fim da nossa declaração de função."
   ]
  },
  {
   "cell_type": "code",
   "execution_count": 26,
   "id": "4692dad3-2f7c-41bd-b3cb-2d677e57a4ea",
   "metadata": {},
   "outputs": [
    {
     "name": "stdout",
     "output_type": "stream",
     "text": [
      "4\n"
     ]
    },
    {
     "ename": "LoadError",
     "evalue": "InexactError: trunc(UInt8, -1)",
     "output_type": "error",
     "traceback": [
      "InexactError: trunc(UInt8, -1)",
      "",
      "Stacktrace:",
      " [1] throw_inexacterror(f::Symbol, #unused#::Type{UInt8}, val::Int64)",
      "   @ Core .\\boot.jl:602",
      " [2] checked_trunc_uint",
      "   @ .\\boot.jl:632 [inlined]",
      " [3] toUInt8",
      "   @ .\\boot.jl:694 [inlined]",
      " [4] UInt8",
      "   @ .\\boot.jl:754 [inlined]",
      " [5] convert",
      "   @ .\\number.jl:7 [inlined]",
      " [6] test(a::Int64)",
      "   @ Main .\\In[26]:2",
      " [7] top-level scope",
      "   @ In[26]:9",
      " [8] eval",
      "   @ .\\boot.jl:360 [inlined]",
      " [9] include_string(mapexpr::typeof(REPL.softscope), mod::Module, code::String, filename::String)",
      "   @ Base .\\loading.jl:1094"
     ]
    }
   ],
   "source": [
    "function test(a)::UInt8\n",
    "    return a\n",
    "end\n",
    "\n",
    "# Vai retornar 4, pois é um inteiro de 8 bits\n",
    "println( test(4))\n",
    "\n",
    "# Vai retornar um erro, pois passei um número com sinal\n",
    "println( test(-1) )"
   ]
  },
  {
   "cell_type": "markdown",
   "id": "1f8832d7-22f8-4a2c-8890-25e9d3514b56",
   "metadata": {},
   "source": [
    "## Operadores são funções\n",
    "\n",
    "A grande maioria dos operadores são funções (exceto aqueles que precisam que os operadores sejam avaliados antes dos operandos, como o `&&` e o `||`), na realidade quando fazemos: `1 + 2 + 3` - a expressão é parseada e feita uma chamada para a função `+(1,2,3)`."
   ]
  },
  {
   "cell_type": "code",
   "execution_count": 27,
   "id": "6002d461-5447-4e15-a4aa-1bd4e9a933c5",
   "metadata": {},
   "outputs": [
    {
     "data": {
      "text/plain": [
       "6"
      ]
     },
     "execution_count": 27,
     "metadata": {},
     "output_type": "execute_result"
    }
   ],
   "source": [
    "1 + 2 + 3"
   ]
  },
  {
   "cell_type": "code",
   "execution_count": 28,
   "id": "72db4700-f9c5-48eb-bb6b-74cef8d30d54",
   "metadata": {},
   "outputs": [
    {
     "data": {
      "text/plain": [
       "6"
      ]
     },
     "execution_count": 28,
     "metadata": {},
     "output_type": "execute_result"
    }
   ],
   "source": [
    "+(1,2,3)"
   ]
  },
  {
   "cell_type": "markdown",
   "id": "29545c28-e6e1-41e9-949d-c9d5f15b43d9",
   "metadata": {},
   "source": [
    "Se podiamos passar uma referência da nossa função para outra variável, não é diferente com estas funções nativas da Julia. "
   ]
  },
  {
   "cell_type": "code",
   "execution_count": 31,
   "id": "d1b2e5b5-ed6b-48c6-9c75-40f7b0089375",
   "metadata": {},
   "outputs": [
    {
     "data": {
      "text/plain": [
       "6"
      ]
     },
     "execution_count": 31,
     "metadata": {},
     "output_type": "execute_result"
    }
   ],
   "source": [
    "g = +;\n",
    "\n",
    "g(1,2,3)"
   ]
  },
  {
   "cell_type": "markdown",
   "id": "e9fa1391-f3e5-4207-8a7e-86d4395a75d0",
   "metadata": {},
   "source": [
    "## Operadores com nomes especiais\n",
    "\n",
    "Há outros operadores que também são parseados, internamente, para funções. Vamos ver alguns referidos no manual.\n",
    "\n",
    "<table>\n",
    "    <th>Expressão</th>\n",
    "    <th>Função</th>\n",
    "    <th>Explicação</th>\n",
    "    \n",
    "    <tr>\n",
    "        <td>[A B C ...]</td>\n",
    "        <td>hcat</td>\n",
    "        <td>Concatena horizontalmente, ou seja, no caso da expressão mostrada, tornaria o Vector em Vector Coluna</td>\n",
    "    </tr>\n",
    "    \n",
    "    <tr>\n",
    "        <td>[A; B; C; ...]</td>\n",
    "        <td>vcat</td>\n",
    "        <td>Concatena verticalmente, ou seja, no caso da expressão mostrada, tornaria o Vector em Vector Linha</td>\n",
    "    </tr>\n",
    "    <tr>\n",
    "        <td>[A B; C D; ...]</td>\n",
    "        <td>hvcat</td>\n",
    "        <td>Concatena horizontalmente e verticalmente. É bom para converter múltiplos vetores em uma matriz só.</td>\n",
    "    </tr>\n",
    "    \n",
    "    <tr>\n",
    "        <td>[A]'</td>\n",
    "        <td>adjoint</td>\n",
    "        <td>Obtém o conjugado de um número complexo, porém fa-lo recursivamente em vetores e matrizes.</td>\n",
    "    </tr>\n",
    "    \n",
    "    <tr>\n",
    "        <td>A[i]</td>\n",
    "        <td>getindex</td>\n",
    "        <td></td>\n",
    "    </tr>\n",
    "    \n",
    "    <tr>\n",
    "        <td>A[i] = x</td>\n",
    "        <td>setindex!</td>\n",
    "        <td></td>\n",
    "    </tr>\n",
    "    \n",
    "    <tr>\n",
    "        <td>A.n</td>\n",
    "        <td>getproperty</td>\n",
    "        <td></td>\n",
    "    </tr>\n",
    "    \n",
    "    <tr>\n",
    "        <td>A.n = x</td>\n",
    "        <td>setproperty!</td>\n",
    "        <td></td>\n",
    "    </tr>\n",
    "</table>"
   ]
  },
  {
   "cell_type": "markdown",
   "id": "7ca0a37a-ed02-4e19-b1b2-a3d97b77b1d4",
   "metadata": {},
   "source": [
    "## Funções anónimas\n",
    "\n",
    "Também há a possibilidade de criar funções anónimas (que não têm um nome) de 2 formas diferentes."
   ]
  },
  {
   "cell_type": "code",
   "execution_count": 1,
   "id": "b78c3ab2-22b1-4f20-940d-5574a4b5634c",
   "metadata": {},
   "outputs": [
    {
     "data": {
      "text/plain": [
       "#1 (generic function with 1 method)"
      ]
     },
     "execution_count": 1,
     "metadata": {},
     "output_type": "execute_result"
    }
   ],
   "source": [
    "# Sintaxe mais simples e compacta\n",
    "x -> 3x^2"
   ]
  },
  {
   "cell_type": "code",
   "execution_count": 2,
   "id": "63f5ec4c-4c70-41da-bd7b-21fcf8052f47",
   "metadata": {},
   "outputs": [
    {
     "data": {
      "text/plain": [
       "#3 (generic function with 1 method)"
      ]
     },
     "execution_count": 2,
     "metadata": {},
     "output_type": "execute_result"
    }
   ],
   "source": [
    "# Sintaxe mais tradicional\n",
    "function (x)\n",
    "    3x^2\n",
    "end"
   ]
  },
  {
   "cell_type": "markdown",
   "id": "cb74eaa2-4827-43cb-a658-90cf46ce5df3",
   "metadata": {},
   "source": [
    "Mas porque é que precisamos de funções anónimas ???\n",
    "\n",
    "Bem, principalmente para passá-las como argumentos para outras funções. Como exemplo, temos o `map` que recebe uma função e um conjunto de dados, onde cada dado será transformado pela função passada como argumento.\n",
    "\n",
    "\n",
    "***Nota*** &#8595;\n",
    "\n",
    "<hr>\n",
    "\n",
    "Não temos necessariamente de passar um função anónima para as funções que recebem outras funções como argumento!\n",
    "\n",
    "Podemos passar funções com nomes, inclusive funções nativas da linguagem.\n",
    "\n",
    "<hr>"
   ]
  },
  {
   "cell_type": "code",
   "execution_count": 3,
   "id": "8d4c4fad-6aaf-4ff3-abf3-fcf8ff4182d6",
   "metadata": {},
   "outputs": [
    {
     "data": {
      "text/plain": [
       "4-element Vector{Float64}:\n",
       "  27.0\n",
       "  60.75\n",
       " 108.0\n",
       " 147.0"
      ]
     },
     "execution_count": 3,
     "metadata": {},
     "output_type": "execute_result"
    }
   ],
   "source": [
    "# Vamos modificar os valores de um array\n",
    "# utilizando o map e a nossa função anónima\n",
    "\n",
    "map(x -> 3x^2, [3,4.5,6,7])"
   ]
  },
  {
   "cell_type": "markdown",
   "id": "7f2395c3-46b7-4608-b71b-4093e7e728af",
   "metadata": {},
   "source": [
    "Também podemos criar funções anónimas com múltiplos argumentos: `(x,y,z) -> z * x^y`.\n",
    "\n",
    "E podemos criar funções anónimas sem qualquer argumento: `() -> 23`. Parece inútil, mas pode ser útil para \"atrasar\" cálculos. Vou utilizar o exemplo do manual."
   ]
  },
  {
   "cell_type": "code",
   "execution_count": 7,
   "id": "d7f85c24-a91e-41bc-8289-a1e6bf6e8cfb",
   "metadata": {},
   "outputs": [
    {
     "data": {
      "text/plain": [
       "Dict{String, Int64} with 2 entries:\n",
       "  \"key2\" => 2\n",
       "  \"key1\" => 1"
      ]
     },
     "execution_count": 7,
     "metadata": {},
     "output_type": "execute_result"
    }
   ],
   "source": [
    "dicionario = Dict(\n",
    "    \"key1\" => 1,\n",
    "    \"key2\" => 2\n",
    ")"
   ]
  },
  {
   "cell_type": "markdown",
   "id": "36e7de08-a6c7-4e57-b4be-187c31517986",
   "metadata": {},
   "source": [
    "Vamos utilizar a função `get` que recebe um dicionário, uma key e um valor padrão. Ele vai retornar o valor da key dentro do dicionário, se ela existir. Se não retorna o valor padrão."
   ]
  },
  {
   "cell_type": "code",
   "execution_count": 17,
   "id": "2028bba4-693c-4dba-b050-0668e70c1f90",
   "metadata": {},
   "outputs": [
    {
     "data": {
      "text/plain": [
       "1"
      ]
     },
     "execution_count": 17,
     "metadata": {},
     "output_type": "execute_result"
    }
   ],
   "source": [
    "get(dicionario, \"key1\", nothing)"
   ]
  },
  {
   "cell_type": "markdown",
   "id": "1bcb6a44-2f4b-45bc-82cc-f48d3b95cec6",
   "metadata": {},
   "source": [
    "Só que em vez do valor padrão podemos passar uma função anónima que só será executada se a key não estiver presente no dicionário. Ou seja, o conteúdo da nossa função anónima é \"atrasado\", pela hipótese de as keys que passarmos estarem presentes no dicionário (pois ele só executado se as keys não tiverem no dicionário).\n",
    "\n",
    "<hr>\n",
    "\n",
    "Podemos fazê-lo com um bloco `do` ou com a função anónima passada como argumento."
   ]
  },
  {
   "cell_type": "code",
   "execution_count": 18,
   "id": "edb6ee98-c4cf-42cc-86ae-bec8ab814812",
   "metadata": {},
   "outputs": [
    {
     "data": {
      "text/plain": [
       "1.621944211525e9"
      ]
     },
     "execution_count": 18,
     "metadata": {},
     "output_type": "execute_result"
    }
   ],
   "source": [
    "# Com o do block\n",
    "get(dicionario, \"key3\") do\n",
    "    time()\n",
    "end"
   ]
  },
  {
   "cell_type": "code",
   "execution_count": 19,
   "id": "c531c121-0bc4-44de-950c-83d2dc3afd8a",
   "metadata": {},
   "outputs": [
    {
     "data": {
      "text/plain": [
       "1.62194442996e9"
      ]
     },
     "execution_count": 19,
     "metadata": {},
     "output_type": "execute_result"
    }
   ],
   "source": [
    "# Com a função anónima\n",
    "get(()->time(), dicionario, \"key3\")"
   ]
  },
  {
   "cell_type": "markdown",
   "id": "5a458863-0dd6-4dc8-97ea-e93ac1d1514c",
   "metadata": {},
   "source": [
    "## Tuplas\n",
    "\n",
    "Eu sei não faz muito sentido estar aqui uma estrutura de dados, sendo este notebook sobre funções ... Mas há uma razão que vão entender mais à frente!\n",
    "\n",
    "Assim como em Python, as tuplas são imutáveis e podem armazenar qualquer tipo de valor. São parecidas com um Array imutável."
   ]
  },
  {
   "cell_type": "code",
   "execution_count": 20,
   "id": "8f39a19a-fddb-460e-a07d-fbff420741ec",
   "metadata": {},
   "outputs": [
    {
     "data": {
      "text/plain": [
       "1"
      ]
     },
     "execution_count": 20,
     "metadata": {},
     "output_type": "execute_result"
    }
   ],
   "source": [
    "tupla = (1,2,3,4)\n",
    "\n",
    "tupla[1]"
   ]
  },
  {
   "cell_type": "code",
   "execution_count": 21,
   "id": "f87ac991-8809-4f9b-9fdf-f40c2274be83",
   "metadata": {},
   "outputs": [
    {
     "ename": "LoadError",
     "evalue": "MethodError: no method matching setindex!(::NTuple{4, Int64}, ::Int64, ::Int64)",
     "output_type": "error",
     "traceback": [
      "MethodError: no method matching setindex!(::NTuple{4, Int64}, ::Int64, ::Int64)",
      "",
      "Stacktrace:",
      " [1] top-level scope",
      "   @ In[21]:2",
      " [2] eval",
      "   @ .\\boot.jl:360 [inlined]",
      " [3] include_string(mapexpr::typeof(REPL.softscope), mod::Module, code::String, filename::String)",
      "   @ Base .\\loading.jl:1094"
     ]
    }
   ],
   "source": [
    "# Vamos tentar mudar um valor\n",
    "tupla[1] = 5"
   ]
  },
  {
   "cell_type": "markdown",
   "id": "b1861590-089f-40ac-9bab-e9feb1c43ea4",
   "metadata": {},
   "source": [
    "Também é possível atribuir nomes aos valores dentro da tupla, algo idêntico a um dicionário."
   ]
  },
  {
   "cell_type": "code",
   "execution_count": 22,
   "id": "ebb22598-b2d4-44e0-8bda-b0a2970b7499",
   "metadata": {},
   "outputs": [
    {
     "name": "stdout",
     "output_type": "stream",
     "text": [
      "1\n",
      "1\n"
     ]
    }
   ],
   "source": [
    "tupla = (a=1,b=2,c=3)\n",
    "\n",
    "# Primeiro valor\n",
    "println( tupla[1] )\n",
    "\n",
    "# Primeiro valor acedido pelo nome\n",
    "println( tupla.a )"
   ]
  },
  {
   "cell_type": "markdown",
   "id": "f3389e89-549a-4fbf-b6c1-628803aeeb2b",
   "metadata": {},
   "source": [
    "E agora vamos para a razão do porquê estarmos a falar de tuplas. Uma função não tem, necessariamente, de retornar somente 1 valor. Ela pode retornar múltiplos valores, basta separá-los por vírgulas no `return`."
   ]
  },
  {
   "cell_type": "code",
   "execution_count": 23,
   "id": "56141296-1049-4134-ba75-674c7fdf8399",
   "metadata": {},
   "outputs": [
    {
     "data": {
      "text/plain": [
       "test (generic function with 1 method)"
      ]
     },
     "execution_count": 23,
     "metadata": {},
     "output_type": "execute_result"
    }
   ],
   "source": [
    "function test(x,y,z)\n",
    "    x += 1\n",
    "    y += 2\n",
    "    z += 3\n",
    "    \n",
    "    return x,y,z\n",
    "end"
   ]
  },
  {
   "cell_type": "code",
   "execution_count": 27,
   "id": "212768fb-1bc1-4d61-9512-99ca98db07dc",
   "metadata": {},
   "outputs": [
    {
     "name": "stdout",
     "output_type": "stream",
     "text": [
      "(2, 4, 6) - Tuple{Int64, Int64, Int64}\n"
     ]
    }
   ],
   "source": [
    "# Vamos ver o que retorna\n",
    "testret = test(1,2,3)\n",
    "\n",
    "println(testret, \" - \", typeof( testret ) )"
   ]
  },
  {
   "cell_type": "markdown",
   "id": "055d2631-d268-45b3-ac01-64f9fc4768c4",
   "metadata": {},
   "source": [
    "Como vimos ela retorna uma tupla com todos os nossos valores! E para voltar a colocar esses valores, em diferentes variáveis, usamos algo chamado de *destructuring*, um nome complexo para algo simples. O que vai acontecer é que vamos múltiplas variáveis para cada uma receber o seu respetivo valor."
   ]
  },
  {
   "cell_type": "code",
   "execution_count": 30,
   "id": "fe79097b-9286-467d-b866-c62c7d785895",
   "metadata": {},
   "outputs": [
    {
     "name": "stdout",
     "output_type": "stream",
     "text": [
      "x = 2, y = 4, z = 6\n"
     ]
    }
   ],
   "source": [
    "x,y,z = testret\n",
    "\n",
    "# Verificar se as nossas variáveis têm os valores corretos\n",
    "println(\"x = $x, y = $y, z = $z\")"
   ]
  },
  {
   "cell_type": "markdown",
   "id": "dd13c029-e59c-4b22-ba0f-827e08b48c61",
   "metadata": {},
   "source": [
    "## Destructuring de argumentos\n",
    "\n",
    "Esta feature também pode ser aplicada para passar argumentos para uma função, **porém a função tem que receber uma tupla e não argumentos individuais.**"
   ]
  },
  {
   "cell_type": "code",
   "execution_count": 36,
   "id": "4efe23e9-7a0b-49e9-b7e9-8fb3e190cd74",
   "metadata": {},
   "outputs": [
    {
     "data": {
      "text/plain": [
       "(3, 4)"
      ]
     },
     "execution_count": 36,
     "metadata": {},
     "output_type": "execute_result"
    }
   ],
   "source": [
    "# Esta função retorna uma tupla com o mínimo e o máximo\n",
    "# dos valores que passarmos\n",
    "minmax(4,3)"
   ]
  },
  {
   "cell_type": "code",
   "execution_count": 40,
   "id": "778bf62f-390f-49c8-9cef-6ed5ee5e70e0",
   "metadata": {},
   "outputs": [
    {
     "data": {
      "text/plain": [
       "1"
      ]
     },
     "execution_count": 40,
     "metadata": {},
     "output_type": "execute_result"
    }
   ],
   "source": [
    "# Vamos receber a tupla e subtrair o máximo pelo mínimo\n",
    "test((min, max)) = max - min\n",
    "\n",
    "test(minmax(4,3))"
   ]
  },
  {
   "cell_type": "markdown",
   "id": "83e11b35-d4cf-44ea-bd6a-82771469a493",
   "metadata": {},
   "source": [
    "## Funções com Varargs\n",
    "\n",
    "Varargs vem de *Número de argumentos variável*, ou seja, é uma função que pode receber $n$ argumentos.\n",
    "\n",
    "Para criar funções deste tipo basta definirmos uma função normal, onde o último argumento leva reticências depois do nome. Na realidade esse último argumento vai ser uma tupla de tamanho $n$ com todos os argumentos passados além dos já definidos."
   ]
  },
  {
   "cell_type": "code",
   "execution_count": 1,
   "id": "a39c334a-bea5-4d5f-a558-a552259f826e",
   "metadata": {},
   "outputs": [
    {
     "data": {
      "text/plain": [
       "test (generic function with 1 method)"
      ]
     },
     "execution_count": 1,
     "metadata": {},
     "output_type": "execute_result"
    }
   ],
   "source": [
    "test(a,b,c...) = (a,b,c)"
   ]
  },
  {
   "cell_type": "code",
   "execution_count": 2,
   "id": "c3979805-a99f-4fd0-8961-72dee6ea37da",
   "metadata": {},
   "outputs": [
    {
     "data": {
      "text/plain": [
       "(6, 7, ())"
      ]
     },
     "execution_count": 2,
     "metadata": {},
     "output_type": "execute_result"
    }
   ],
   "source": [
    "# Passar apenas os argumentos definidos\n",
    "test(6,7)"
   ]
  },
  {
   "cell_type": "code",
   "execution_count": 3,
   "id": "6a21657a-fd61-49a9-ac00-7e95b9908d83",
   "metadata": {},
   "outputs": [
    {
     "data": {
      "text/plain": [
       "(0, 3, (1, 3, 5, 6))"
      ]
     },
     "execution_count": 3,
     "metadata": {},
     "output_type": "execute_result"
    }
   ],
   "source": [
    "# Passar mais argumentos além dos definidos\n",
    "test(0,3,1,3,5,6)"
   ]
  },
  {
   "cell_type": "markdown",
   "id": "80bfac01-749b-4aa0-9161-2b01ab73ab49",
   "metadata": {},
   "source": [
    "No Python temos o unpacking que basicamente extrai todos os valores indivíduais de uma iterable (tupla ou lista). Aqui em Julia podemos fazer utilizando as reticências à frente do nome do iterable, sendo bastante útil para passarmos argumentos de forma individual para a nossa função."
   ]
  },
  {
   "cell_type": "code",
   "execution_count": 4,
   "id": "6c2130ed-1388-4cd8-bdb9-abe586ebff4d",
   "metadata": {},
   "outputs": [
    {
     "data": {
      "text/plain": [
       "(0, 1, (4, 5, 6))"
      ]
     },
     "execution_count": 4,
     "metadata": {},
     "output_type": "execute_result"
    }
   ],
   "source": [
    "y = (4,5,6)\n",
    "\n",
    "# Os valores vão ser passados individualmente\n",
    "test(0,1,y...)"
   ]
  },
  {
   "cell_type": "code",
   "execution_count": 5,
   "id": "58bcca48-28d7-4877-8494-de84401e92f0",
   "metadata": {},
   "outputs": [
    {
     "data": {
      "text/plain": [
       "(0, 1, ((4, 5, 6),))"
      ]
     },
     "execution_count": 5,
     "metadata": {},
     "output_type": "execute_result"
    }
   ],
   "source": [
    "# Exemplo onde os valores NÃO são passados individualmente\n",
    "# mas sim a tupla toda é passada\n",
    "test(0,1,y)"
   ]
  },
  {
   "cell_type": "markdown",
   "id": "730d9a25-7929-4d12-b0ca-14706fb2fa28",
   "metadata": {},
   "source": [
    "Não temos de fazer esse unpacking apenas em tuplas, também pode ser aplicado em arrays.\n",
    "\n",
    "<hr>\n",
    "\n",
    "\n",
    "Se tivermos apenas um função comum (com parâmetros previamente definidos) também podemos utilizar o unpacking, desde que façamos unpack de um número de valores == ao número de parâmetros."
   ]
  },
  {
   "cell_type": "code",
   "execution_count": 7,
   "id": "84d0659f-2e3b-4a49-8647-bea17cf2a8c2",
   "metadata": {},
   "outputs": [
    {
     "data": {
      "text/plain": [
       "(1, 2)"
      ]
     },
     "execution_count": 7,
     "metadata": {},
     "output_type": "execute_result"
    }
   ],
   "source": [
    "test2(a,b) = (a,b)\n",
    "\n",
    "x = [1,2]\n",
    "\n",
    "# Vai funcionar sem problema (a = 1 e b = 2)\n",
    "test2(x...)"
   ]
  },
  {
   "cell_type": "code",
   "execution_count": 8,
   "id": "a3ab6f19-8d80-4431-8ea3-5ba29067c31b",
   "metadata": {},
   "outputs": [
    {
     "ename": "LoadError",
     "evalue": "MethodError: no method matching test2(::Int64, ::Int64, ::Int64)\n\u001b[0mClosest candidates are:\n\u001b[0m  test2(::Any, ::Any) at In[7]:1",
     "output_type": "error",
     "traceback": [
      "MethodError: no method matching test2(::Int64, ::Int64, ::Int64)\n\u001b[0mClosest candidates are:\n\u001b[0m  test2(::Any, ::Any) at In[7]:1",
      "",
      "Stacktrace:",
      " [1] top-level scope",
      "   @ In[8]:4",
      " [2] eval",
      "   @ .\\boot.jl:360 [inlined]",
      " [3] include_string(mapexpr::typeof(REPL.softscope), mod::Module, code::String, filename::String)",
      "   @ Base .\\loading.jl:1094"
     ]
    }
   ],
   "source": [
    "# Vai dar erro porque passámos mais valores do que variáveis que temos\n",
    "x = [1,2,3]\n",
    "\n",
    "test2(x...)"
   ]
  },
  {
   "cell_type": "markdown",
   "id": "8b728344-bca9-448b-9f69-36d7d23c6f93",
   "metadata": {},
   "source": [
    "## Argumentos opcionais e com nomes\n",
    "\n",
    "Por defeito, os argumentos nas funções têm posições específicas: `function test(x,y)` - O argumento `x` tem de ser passado na primeira posição e o `y` na segunda. Será que não há uma forma de poder passar os argumentos na posição que quiserpos ??\n",
    "\n",
    "Há sim! E esses são os tais de *argumentos identificados por nome*, onde nós colocamos um valor padrão neles e separámos eles dos *argumentos identidicados por posição* com um `;`, mas essa separação **é apenas obrigatória quando passamos varargs e argumentos com nomes que sofrem que exigem cálculos em tempo real**. "
   ]
  },
  {
   "cell_type": "code",
   "execution_count": 12,
   "id": "9c93a14f-b502-4586-878c-153b133afa61",
   "metadata": {},
   "outputs": [
    {
     "name": "stdout",
     "output_type": "stream",
     "text": [
      "jhg 43\n"
     ]
    }
   ],
   "source": [
    "function test(x,y; nome=\"asd\", idade=5)\n",
    "    println(nome, \" \", idade)\n",
    "end\n",
    "\n",
    "# Podemos trocar a ordem dos argumentos com nome, sem problema algum\n",
    "test(1,1, idade=43, nome=\"jhg\")"
   ]
  },
  {
   "cell_type": "markdown",
   "id": "83387d06-3667-4c2f-be2b-a3ec50c0e236",
   "metadata": {},
   "source": [
    "Lembrando que esses argumentos que já têm um valor padrão, são opcionais, ou seja, não somos obrigados a definir um valor para eles quando chamamos a função, eles simplesmente usarão os valores que atribuimos como padrão.\n",
    "\n",
    "Porém deixam de ser opcionais se não colocarem um valor padrão, mas mantêm-se *argumentos identificados por nome* se colocarmos o `;` a separar."
   ]
  },
  {
   "cell_type": "code",
   "execution_count": 14,
   "id": "19d008d3-32a5-406b-939b-79d66ef100a3",
   "metadata": {},
   "outputs": [
    {
     "data": {
      "text/plain": [
       "(1, 4)"
      ]
     },
     "execution_count": 14,
     "metadata": {},
     "output_type": "execute_result"
    }
   ],
   "source": [
    "# Usar os valores padrão\n",
    "test2(x; j) = (x,j)\n",
    "\n",
    "# Vai funcionar\n",
    "test2(1; j=4)"
   ]
  },
  {
   "cell_type": "code",
   "execution_count": 15,
   "id": "02c2f439-a462-448d-9250-b26fe7de92fd",
   "metadata": {},
   "outputs": [
    {
     "ename": "LoadError",
     "evalue": "UndefKeywordError: keyword argument j not assigned",
     "output_type": "error",
     "traceback": [
      "UndefKeywordError: keyword argument j not assigned",
      "",
      "Stacktrace:",
      " [1] test2(x::Int64)",
      "   @ Main .\\In[14]:2",
      " [2] top-level scope",
      "   @ In[15]:1",
      " [3] eval",
      "   @ .\\boot.jl:360 [inlined]",
      " [4] include_string(mapexpr::typeof(REPL.softscope), mod::Module, code::String, filename::String)",
      "   @ Base .\\loading.jl:1094"
     ]
    }
   ],
   "source": [
    "# Vai dar um erro\n",
    "test2(1)"
   ]
  }
 ],
 "metadata": {
  "kernelspec": {
   "display_name": "Julia 1.6.1",
   "language": "julia",
   "name": "julia-1.6"
  },
  "language_info": {
   "file_extension": ".jl",
   "mimetype": "application/julia",
   "name": "julia",
   "version": "1.6.1"
  }
 },
 "nbformat": 4,
 "nbformat_minor": 5
}
