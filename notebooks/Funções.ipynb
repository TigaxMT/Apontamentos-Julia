{
 "cells": [
  {
   "cell_type": "markdown",
   "id": "87986572-3825-4576-8f85-ef8b1560227d",
   "metadata": {},
   "source": [
    "# Funções\n",
    "\n",
    "***DISCLAIMER: Este notebook foi escrito com base no que li [neste](https://docs.julialang.org/en/v1/manual/functions/) capítulo do manual***\n",
    "\n",
    "\n",
    "Em Julia as funções são tradicionalmente definidas de forma similar ao Ruby:"
   ]
  },
  {
   "cell_type": "code",
   "execution_count": 19,
   "id": "48f53fda-3fb6-4e47-bb36-66a410dd3950",
   "metadata": {},
   "outputs": [
    {
     "data": {
      "text/plain": [
       "f (generic function with 1 method)"
      ]
     },
     "execution_count": 19,
     "metadata": {},
     "output_type": "execute_result"
    }
   ],
   "source": [
    "function f(x,y)\n",
    "    x * y\n",
    "end"
   ]
  },
  {
   "cell_type": "markdown",
   "id": "6eee6fd5-e249-4fec-837c-a22b7ec2d41e",
   "metadata": {},
   "source": [
    "Porém há uma forma mais simples de definir uma função:"
   ]
  },
  {
   "cell_type": "code",
   "execution_count": 20,
   "id": "df2f4636-6ea4-4083-b1b3-c6f2a30bbc15",
   "metadata": {},
   "outputs": [
    {
     "data": {
      "text/plain": [
       "f (generic function with 1 method)"
      ]
     },
     "execution_count": 20,
     "metadata": {},
     "output_type": "execute_result"
    }
   ],
   "source": [
    "f(x,y) = x * y"
   ]
  },
  {
   "cell_type": "markdown",
   "id": "07190276-4b32-4076-a144-362e7ffb13cf",
   "metadata": {},
   "source": [
    "Ambas fazem a mesma coisa e para funções que fazem coisas simples, como a nossa função `f`, usar esse formato mais simples é bem mais prático."
   ]
  },
  {
   "cell_type": "markdown",
   "id": "fd0033c7-d629-425d-b8aa-b9f48c0cc189",
   "metadata": {},
   "source": [
    "Assim como nas variáveis, podemos definir nomes de funções com Unicode e LaTeX:"
   ]
  },
  {
   "cell_type": "code",
   "execution_count": 21,
   "id": "fe4e1ee9-051d-48c5-a67f-039c5bde7446",
   "metadata": {},
   "outputs": [
    {
     "data": {
      "text/plain": [
       "25"
      ]
     },
     "execution_count": 21,
     "metadata": {},
     "output_type": "execute_result"
    }
   ],
   "source": [
    "λ(x,y) = x * y\n",
    "\n",
    "λ(5,5)"
   ]
  },
  {
   "cell_type": "markdown",
   "id": "0ec23edb-895d-4496-bdc5-8f371092bc55",
   "metadata": {},
   "source": [
    "E no caso de não chamarmos a função, podemos passar a referência para outra variável:\n"
   ]
  },
  {
   "cell_type": "code",
   "execution_count": 22,
   "id": "95e4e2a3-b0e7-455e-9336-8af26bd2d6df",
   "metadata": {},
   "outputs": [
    {
     "data": {
      "text/plain": [
       "25"
      ]
     },
     "execution_count": 22,
     "metadata": {},
     "output_type": "execute_result"
    }
   ],
   "source": [
    "Σ = λ\n",
    "\n",
    "Σ(5,5)"
   ]
  },
  {
   "cell_type": "markdown",
   "id": "4770f51f-9560-4594-9e37-c3a5d8c4bfef",
   "metadata": {},
   "source": [
    "## Como os argumentos são passados?\n",
    "\n",
    "Antes demais vamos relembrar 2 formas de passar um argumento, muito comuns na linguagem C: **por valor** e **por referência**.\n",
    "\n",
    "Quando um argumento era passado **por valor**, então a linguagem fazia uma cópia exata dos dados e se esse dado fosse uma variável, significava que as alterações feitas a essa variável no escopo da função, não impactavam na variável que fora passada como argumento.\n",
    "\n",
    "&#8595; Código em C &#8595;\n",
    "```\n",
    "int funcao(int x){\n",
    "   x = 2;\n",
    "   \n",
    "   return;\n",
    "}\n",
    "\n",
    "int x = 3;\n",
    "\n",
    "funcao(x);\n",
    "\n",
    "// Vai retornar 3\n",
    "printf(x);\n",
    "```\n",
    "\n",
    "Quando um argumento era passado **por referência**, então a linguagem passava como argumento um pointer para a variável, e assim a função tinha acesso direto à variável, fazendo modificações nelas que podiam ser vistas em qualquer escopo dentro do programa (desde que se tivesse acesso a um ponteiro para a variável ou então acesso direto à variável).\n",
    "\n",
    "&#8595; Código em C &#8595;\n",
    "```\n",
    "int funcao(int* x){\n",
    "   *x = 2;\n",
    "   \n",
    "   return;\n",
    "}\n",
    "\n",
    "int x = 3;\n",
    "\n",
    "funcao(&x);\n",
    "\n",
    "// Vai retornar 2\n",
    "printf(x);\n",
    "```"
   ]
  },
  {
   "cell_type": "markdown",
   "id": "34b43612-abfc-4bcc-98d0-b83ed20686fd",
   "metadata": {},
   "source": [
    "Agora que relembrámos um pouco C, vamos voltar para a Julia. Ela usa uma forma de passar argumentos parecida com a passagem por referência, no entanto mistura um pouco orientação a objetos.\n",
    "\n",
    "Julia passa os argumentos **por partilha**. Então, tudo em Julia é um objeto e objetos têm atributos e até mesmo métodos.\n",
    "Quando passamos um objeto como argumento, estamos a passar uma referência, como se fosse um pointer. PORÉM, esse objeto não pode ser atribuido com novos valores, do tipo: `x = 2` - Mas, por exemplo, se for um `Array`, pode ser transformado por um `append` e isso vai-se visto no objeto original!"
   ]
  },
  {
   "cell_type": "code",
   "execution_count": 23,
   "id": "c4d437d9-0d3c-45c1-808f-311280d43edd",
   "metadata": {},
   "outputs": [
    {
     "name": "stdout",
     "output_type": "stream",
     "text": [
      "3"
     ]
    }
   ],
   "source": [
    "# Não vai mudar nada no nosso objeto original\n",
    "function test(a)\n",
    "    a = 2\n",
    "end\n",
    "\n",
    "a = 3\n",
    "\n",
    "test(a)\n",
    "\n",
    "print(a)"
   ]
  },
  {
   "cell_type": "code",
   "execution_count": 24,
   "id": "90e4818e-3252-4189-9ae3-3397263bb75b",
   "metadata": {},
   "outputs": [
    {
     "name": "stdout",
     "output_type": "stream",
     "text": [
      "[1, 2, 1]"
     ]
    }
   ],
   "source": [
    "# Aqui vai-se verificar a mudança no objeto original\n",
    "# pois utilizamos uma função válido que manipula o nosso objeto\n",
    "function test(a)\n",
    "    push!(a, 1)\n",
    "end\n",
    "\n",
    "a = [1,2]\n",
    "\n",
    "test(a)\n",
    "\n",
    "print(a)"
   ]
  },
  {
   "cell_type": "markdown",
   "id": "e1d609f4-cc4c-4272-8de5-96bdd9279960",
   "metadata": {},
   "source": [
    "Resumindo: Se pudermos modificar um objeto através de uma função ou algo que tenha relação com o objeto, a transformação **vai ser observada no objeto original**.\n",
    "\n",
    "Caso tentemos re-atribuir um valor ao objeto passado como argumento, a transformação **não vai ser observada no objeto original**, mantendo-se apenas no escopo local da função.\n",
    "\n",
    "\n",
    "Podem obter mais informações [aqui](https://en.wikipedia.org/wiki/Evaluation_strategy#Call_by_sharing)\n",
    "\n",
    "<hr>"
   ]
  },
  {
   "cell_type": "markdown",
   "id": "1205fe75-c8ed-44f6-bad7-6b0e2dac2039",
   "metadata": {},
   "source": [
    "## Return\n",
    "\n",
    "A palavra reservada `return` serve para retornar algum valor e assim terminar o fluxo de uma função."
   ]
  },
  {
   "cell_type": "code",
   "execution_count": 25,
   "id": "0e0825fd-b8a0-45bd-82f2-7cebb53004e2",
   "metadata": {},
   "outputs": [
    {
     "name": "stdout",
     "output_type": "stream",
     "text": [
      "nothing\n",
      "4\n"
     ]
    }
   ],
   "source": [
    "function somar_pares(x,y)\n",
    "    if x % 2 == 0 && y % 2 == 0\n",
    "        return x + y\n",
    "    end\n",
    "    \n",
    "    return nothing\n",
    "end\n",
    "\n",
    "# Não vai somar pois 3 não é par\n",
    "println( somar_pares(2,3) )\n",
    "\n",
    "println(somar_pares(2,2))"
   ]
  },
  {
   "cell_type": "markdown",
   "id": "a6c85e3a-4b87-4d9c-9395-41c82d245193",
   "metadata": {},
   "source": [
    "***Nota*** &#8595;\n",
    "\n",
    "<hr>\n",
    "\n",
    "O `nothing` é um objeto do tipo `Nothing` e ele é usado em funções quando não queremos retornar nada. \n",
    "\n",
    "Fazer `return nothing` ou `return` é a mesma coisa. \n",
    "\n",
    "<hr>"
   ]
  },
  {
   "cell_type": "markdown",
   "id": "0351a66f-79b0-442d-a064-56c6e5ad17bd",
   "metadata": {},
   "source": [
    "## Retornos tipados\n",
    "\n",
    "Podemos definir o tipo do nosso retorno adicionando um `::Type` no fim da nossa declaração de função."
   ]
  },
  {
   "cell_type": "code",
   "execution_count": 26,
   "id": "4692dad3-2f7c-41bd-b3cb-2d677e57a4ea",
   "metadata": {},
   "outputs": [
    {
     "name": "stdout",
     "output_type": "stream",
     "text": [
      "4\n"
     ]
    },
    {
     "ename": "LoadError",
     "evalue": "InexactError: trunc(UInt8, -1)",
     "output_type": "error",
     "traceback": [
      "InexactError: trunc(UInt8, -1)",
      "",
      "Stacktrace:",
      " [1] throw_inexacterror(f::Symbol, #unused#::Type{UInt8}, val::Int64)",
      "   @ Core .\\boot.jl:602",
      " [2] checked_trunc_uint",
      "   @ .\\boot.jl:632 [inlined]",
      " [3] toUInt8",
      "   @ .\\boot.jl:694 [inlined]",
      " [4] UInt8",
      "   @ .\\boot.jl:754 [inlined]",
      " [5] convert",
      "   @ .\\number.jl:7 [inlined]",
      " [6] test(a::Int64)",
      "   @ Main .\\In[26]:2",
      " [7] top-level scope",
      "   @ In[26]:9",
      " [8] eval",
      "   @ .\\boot.jl:360 [inlined]",
      " [9] include_string(mapexpr::typeof(REPL.softscope), mod::Module, code::String, filename::String)",
      "   @ Base .\\loading.jl:1094"
     ]
    }
   ],
   "source": [
    "function test(a)::UInt8\n",
    "    return a\n",
    "end\n",
    "\n",
    "# Vai retornar 4, pois é um inteiro de 8 bits\n",
    "println( test(4))\n",
    "\n",
    "# Vai retornar um erro, pois passei um número com sinal\n",
    "println( test(-1) )"
   ]
  },
  {
   "cell_type": "markdown",
   "id": "1f8832d7-22f8-4a2c-8890-25e9d3514b56",
   "metadata": {},
   "source": [
    "## Operadores são funções\n",
    "\n",
    "A grande maioria dos operadores são funções (exceto aqueles que precisam que os operadores sejam avaliados antes dos operandos, como o `&&` e o `||`), na realidade quando fazemos: `1 + 2 + 3` - a expressão é parseada e feita uma chamada para a função `+(1,2,3)`."
   ]
  },
  {
   "cell_type": "code",
   "execution_count": 27,
   "id": "6002d461-5447-4e15-a4aa-1bd4e9a933c5",
   "metadata": {},
   "outputs": [
    {
     "data": {
      "text/plain": [
       "6"
      ]
     },
     "execution_count": 27,
     "metadata": {},
     "output_type": "execute_result"
    }
   ],
   "source": [
    "1 + 2 + 3"
   ]
  },
  {
   "cell_type": "code",
   "execution_count": 28,
   "id": "72db4700-f9c5-48eb-bb6b-74cef8d30d54",
   "metadata": {},
   "outputs": [
    {
     "data": {
      "text/plain": [
       "6"
      ]
     },
     "execution_count": 28,
     "metadata": {},
     "output_type": "execute_result"
    }
   ],
   "source": [
    "+(1,2,3)"
   ]
  },
  {
   "cell_type": "markdown",
   "id": "29545c28-e6e1-41e9-949d-c9d5f15b43d9",
   "metadata": {},
   "source": [
    "Se podiamos passar uma referência da nossa função para outra variável, não é diferente com estas funções nativas da Julia. "
   ]
  },
  {
   "cell_type": "code",
   "execution_count": 31,
   "id": "d1b2e5b5-ed6b-48c6-9c75-40f7b0089375",
   "metadata": {},
   "outputs": [
    {
     "data": {
      "text/plain": [
       "6"
      ]
     },
     "execution_count": 31,
     "metadata": {},
     "output_type": "execute_result"
    }
   ],
   "source": [
    "g = +;\n",
    "\n",
    "g(1,2,3)"
   ]
  },
  {
   "cell_type": "markdown",
   "id": "e9fa1391-f3e5-4207-8a7e-86d4395a75d0",
   "metadata": {},
   "source": [
    "## Operadores com nomes especiais\n",
    "\n",
    "Há outros operadores que também são parseados, internamente, para funções. Vamos ver alguns referidos no manual.\n",
    "\n",
    "<table>\n",
    "    <th>Expressão</th>\n",
    "    <th>Função</th>\n",
    "    <th>Explicação</th>\n",
    "    \n",
    "    <tr>\n",
    "        <td>[A B C ...]</td>\n",
    "        <td>hcat</td>\n",
    "        <td>Concatena horizontalmente, ou seja, no caso da expressão mostrada, tornaria o Vector em Vector Coluna</td>\n",
    "    </tr>\n",
    "    \n",
    "    <tr>\n",
    "        <td>[A; B; C; ...]</td>\n",
    "        <td>vcat</td>\n",
    "        <td>Concatena verticalmente, ou seja, no caso da expressão mostrada, tornaria o Vector em Vector Linha</td>\n",
    "    </tr>\n",
    "    <tr>\n",
    "        <td>[A B; C D; ...]</td>\n",
    "        <td>hvcat</td>\n",
    "        <td>Concatena horizontalmente e verticalmente. É bom para converter múltiplos vetores em uma matriz só.</td>\n",
    "    </tr>\n",
    "    \n",
    "    <tr>\n",
    "        <td>[A]'</td>\n",
    "        <td>adjoint</td>\n",
    "        <td>Obtém o conjugado de um número complexo, porém fa-lo recursivamente em vetores e matrizes.</td>\n",
    "    </tr>\n",
    "    \n",
    "    <tr>\n",
    "        <td>A[i]</td>\n",
    "        <td>getindex</td>\n",
    "        <td></td>\n",
    "    </tr>\n",
    "    \n",
    "    <tr>\n",
    "        <td>A[i] = x</td>\n",
    "        <td>setindex!</td>\n",
    "        <td></td>\n",
    "    </tr>\n",
    "    \n",
    "    <tr>\n",
    "        <td>A.n</td>\n",
    "        <td>getproperty</td>\n",
    "        <td></td>\n",
    "    </tr>\n",
    "    \n",
    "    <tr>\n",
    "        <td>A.n = x</td>\n",
    "        <td>setproperty!</td>\n",
    "        <td></td>\n",
    "    </tr>\n",
    "</table>"
   ]
  },
  {
   "cell_type": "code",
   "execution_count": null,
   "id": "7505c09c-cad1-42ae-a14c-54bb776669b4",
   "metadata": {},
   "outputs": [],
   "source": []
  }
 ],
 "metadata": {
  "kernelspec": {
   "display_name": "Julia 1.6.1",
   "language": "julia",
   "name": "julia-1.6"
  },
  "language_info": {
   "file_extension": ".jl",
   "mimetype": "application/julia",
   "name": "julia",
   "version": "1.6.1"
  }
 },
 "nbformat": 4,
 "nbformat_minor": 5
}
