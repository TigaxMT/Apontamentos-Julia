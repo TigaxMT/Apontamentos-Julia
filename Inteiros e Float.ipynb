{
 "cells": [
  {
   "cell_type": "markdown",
   "id": "2ed35fdd-fe6c-42e2-aebb-d736630e7019",
   "metadata": {},
   "source": [
    "# Inteiros e números decimais (Float)\n",
    "\n",
    "Bem aqui lembramos , por exemplo, que números representados no nosso código são *numeric literals*: 1 e 1.0 são numeric literals.\n",
    "Mas as representações como objetos desses mesmos números na memória, são chamados de *numeric primitives*.\n",
    "\n",
    "Aqui temos as primitivas numéricas (prefiro *numeric primitives*) presentes em Julia:\n",
    "* Inteiros\n",
    "    * Int8, Int16, Int32, Int64, Int128\n",
    "    * UInt8, UInt16, UInt32, UInt64, UInt128\n",
    "    * Bool\n",
    "\n",
    "* Decimais\n",
    "    * Float16 (half precision), Float32(single precision), Float64(double precision)\n",
    "    \n",
    "\n",
    "Lembrando que U vem de *<u>unsigned</u>*, o que significa que são primitivas onde só permitem números sem sinal, ou seja, ***números positivos***."
   ]
  },
  {
   "cell_type": "markdown",
   "id": "e6d877be-8b06-41cf-8606-c6f7144b4911",
   "metadata": {},
   "source": [
    " O `typeof` diz-nos o tipo de uma variável/constante/valor, e caso este seja inteiro, a primitiva pode mudar consoante a arquitetura do vosso computador (32 ou 64 bits)."
   ]
  },
  {
   "cell_type": "code",
   "execution_count": 75,
   "id": "d76802d3-3b2a-4461-8b2c-6b6967b17237",
   "metadata": {},
   "outputs": [
    {
     "data": {
      "text/plain": [
       "Int64"
      ]
     },
     "execution_count": 75,
     "metadata": {},
     "output_type": "execute_result"
    }
   ],
   "source": [
    "# No meu caso dará Int64, pois tenho um CPU de 64 bits\n",
    "typeof(1)"
   ]
  },
  {
   "cell_type": "markdown",
   "id": "18c7c86e-4a58-4524-8e83-5e68a567c8c3",
   "metadata": {},
   "source": [
    "Pode-se obter a informação do número de bits usados pelo CPU, utilizando o `Sys.WORD_SIZE`"
   ]
  },
  {
   "cell_type": "code",
   "execution_count": 76,
   "id": "50b8e887-bd4c-4e5e-9662-ff1ff077cbc2",
   "metadata": {},
   "outputs": [
    {
     "data": {
      "text/plain": [
       "64"
      ]
     },
     "execution_count": 76,
     "metadata": {},
     "output_type": "execute_result"
    }
   ],
   "source": [
    "Sys.WORD_SIZE"
   ]
  },
  {
   "cell_type": "markdown",
   "id": "255d7d66-e53d-4e7b-96da-02bcbdb6817e",
   "metadata": {},
   "source": [
    "Também se pode usar os *types* `UInt` e `Int` assim como as restantes primitivas citadas acima. Eles podem inclusive, modificar o tipo das variáveis"
   ]
  },
  {
   "cell_type": "code",
   "execution_count": 77,
   "id": "906e1a04-93e4-4d78-9440-b83f0e173aa0",
   "metadata": {},
   "outputs": [
    {
     "name": "stdout",
     "output_type": "stream",
     "text": [
      "UInt8\n",
      "UInt64\n"
     ]
    }
   ],
   "source": [
    "a = UInt8(245)\n",
    "println( typeof(a) )\n",
    "\n",
    "a = UInt(a)\n",
    "println( typeof(a) )"
   ]
  },
  {
   "cell_type": "markdown",
   "id": "6b5769ac-ec04-44e2-bf2c-66de340c727c",
   "metadata": {},
   "source": [
    "***Nota***: Inteiros que não possa ser representados em 32 bits, são convertidos para 64 bits, independemente da arquitetura.\n",
    "\n",
    "\n",
    "Algo também bastante interessante é que números em representação hexadecimal, octal e binário são sempre representados por primitivas *unsigned*, isto deve-se ao facto de que números negativos são convertidos para uma representação binária [Complemento para dois](https://pt.wikipedia.org/wiki/Complemento_para_dois).\n",
    "\n",
    "A quantidade de números 1 à esquerda, dita o tamanho mínimo necessário para armazenar o número. \n",
    "Por exemplo 0xff pode ser armazenado em `UInt8`, porém 0xfff já será armazenado em `UInt16`."
   ]
  },
  {
   "cell_type": "code",
   "execution_count": 78,
   "id": "cf56bf7a-6686-4de0-a7fc-74535bdd7a91",
   "metadata": {},
   "outputs": [
    {
     "name": "stdout",
     "output_type": "stream",
     "text": [
      "1: Int64\n",
      "-1: Int64\n",
      "0x1: UInt8\n",
      "-0x1: UInt16\n"
     ]
    },
    {
     "data": {
      "text/plain": [
       "0xff"
      ]
     },
     "execution_count": 78,
     "metadata": {},
     "output_type": "execute_result"
    }
   ],
   "source": [
    "println(\"1: \", typeof( 1 ) )\n",
    "println(\"-1: \", typeof( -1 ) )\n",
    "println(\"0x1: \", typeof( 0x1 ) )\n",
    "println(\"-0x1: \", typeof( -0xfff ) )\n",
    "-0x1"
   ]
  },
  {
   "cell_type": "markdown",
   "id": "a2964863-dd90-4f5c-9345-2f72c07734d7",
   "metadata": {},
   "source": [
    "Caso queiramos saber o número mínimo e máximo que uma primitiva pode representar, basta-nos usar as funções `typemin` e `typemax`"
   ]
  },
  {
   "cell_type": "code",
   "execution_count": 79,
   "id": "b66e120e-1eb2-42fe-9090-37c1fb4c9e27",
   "metadata": {},
   "outputs": [
    {
     "data": {
      "text/plain": [
       "-32768"
      ]
     },
     "execution_count": 79,
     "metadata": {},
     "output_type": "execute_result"
    }
   ],
   "source": [
    "typemin(Int16)"
   ]
  },
  {
   "cell_type": "code",
   "execution_count": 80,
   "id": "4348d3ad-d974-4328-8fab-a21ec706c6ef",
   "metadata": {},
   "outputs": [
    {
     "data": {
      "text/plain": [
       "32767"
      ]
     },
     "execution_count": 80,
     "metadata": {},
     "output_type": "execute_result"
    }
   ],
   "source": [
    "typemax(Int16)"
   ]
  },
  {
   "cell_type": "markdown",
   "id": "f3a2a24d",
   "metadata": {},
   "source": [
    "## Overflow\n",
    "\n",
    "Quando tentamos fazer um overflow (armazenar um valor tão grande/pequeno que nenhuma primitiva consegue representar), Julia vai aplicar [aritmética modular](https://en.wikipedia.org/wiki/Modular_arithmetic) fazendo com que os valor volte para o intervalo da primitiva.\n",
    "\n",
    "Caso queiramos pode representar esse número sem usar este 'wraparound', devemos fazer uso do `BigInt`"
   ]
  },
  {
   "cell_type": "code",
   "execution_count": 81,
   "id": "103df5d3",
   "metadata": {},
   "outputs": [
    {
     "data": {
      "text/plain": [
       "9223372036854775807"
      ]
     },
     "execution_count": 81,
     "metadata": {},
     "output_type": "execute_result"
    }
   ],
   "source": [
    "# Integer Overflow (64bits)\n",
    "x = typemax(Int64)"
   ]
  },
  {
   "cell_type": "code",
   "execution_count": 82,
   "id": "3b16822e-fb1a-46da-b86a-8323ed03691f",
   "metadata": {},
   "outputs": [
    {
     "data": {
      "text/plain": [
       "true"
      ]
     },
     "execution_count": 82,
     "metadata": {},
     "output_type": "execute_result"
    }
   ],
   "source": [
    "# Vai transformá-lo no extremo negativo\n",
    "x + 1 == typemin(Int64)"
   ]
  },
  {
   "cell_type": "code",
   "execution_count": 83,
   "id": "ce4793d2-880c-45c3-94dc-53f018392d87",
   "metadata": {},
   "outputs": [
    {
     "data": {
      "text/plain": [
       "9223372036854775808"
      ]
     },
     "execution_count": 83,
     "metadata": {},
     "output_type": "execute_result"
    }
   ],
   "source": [
    "# Contornar esse efeito com o uso do BigInt\n",
    "x = BigInt(typemax(Int64))\n",
    "x + 1"
   ]
  },
  {
   "cell_type": "markdown",
   "id": "4fb7871f-0973-4103-8d6d-4ddc53aa35dc",
   "metadata": {},
   "source": [
    "## Divisões\n",
    "\n",
    "As divisões também são bem interessantes por aqui. Todos sabemos que não podemos dividir por 0 e se usarmos a função `div` ela retornará um erro de divisão, assim como a divisão do menor número possível por -1, como podemos ver abaixo."
   ]
  },
  {
   "cell_type": "code",
   "execution_count": 84,
   "id": "849d4a0f-5465-43e0-8b1a-689d5c1230be",
   "metadata": {},
   "outputs": [
    {
     "ename": "LoadError",
     "evalue": "DivideError: integer division error",
     "output_type": "error",
     "traceback": [
      "DivideError: integer division error",
      "",
      "Stacktrace:",
      " [1] div(x::Int64, y::Int64)",
      "   @ Base .\\int.jl:261",
      " [2] top-level scope",
      "   @ In[84]:2",
      " [3] eval",
      "   @ .\\boot.jl:360 [inlined]",
      " [4] include_string(mapexpr::typeof(REPL.softscope), mod::Module, code::String, filename::String)",
      "   @ Base .\\loading.jl:1094"
     ]
    }
   ],
   "source": [
    "# Dividir 1 por 0\n",
    "div(1, 0)"
   ]
  },
  {
   "cell_type": "code",
   "execution_count": 85,
   "id": "b359c311-3239-4783-93a0-3359119de74e",
   "metadata": {},
   "outputs": [
    {
     "ename": "LoadError",
     "evalue": "DivideError: integer division error",
     "output_type": "error",
     "traceback": [
      "DivideError: integer division error",
      "",
      "Stacktrace:",
      " [1] div(x::Int64, y::Int64)",
      "   @ Base .\\int.jl:261",
      " [2] top-level scope",
      "   @ In[85]:2",
      " [3] eval",
      "   @ .\\boot.jl:360 [inlined]",
      " [4] include_string(mapexpr::typeof(REPL.softscope), mod::Module, code::String, filename::String)",
      "   @ Base .\\loading.jl:1094"
     ]
    }
   ],
   "source": [
    "# Dividir o typemin de u por -1\n",
    "div(typemin(Int64), -1)"
   ]
  },
  {
   "cell_type": "markdown",
   "id": "ebfb1500-a9e1-4093-b2ab-475087533507",
   "metadata": {},
   "source": [
    "Porém se dividirmos um número por 0 sem o uso da função `div`, vamos obter um valor infinito (`Inf`) do tipo `Float`.\n",
    "\n",
    "Para a divisão do menor número negativo por -1 dará um valor próximo do maior número possível."
   ]
  },
  {
   "cell_type": "code",
   "execution_count": 86,
   "id": "05ac1ec4-a08a-4720-8ac7-ac2e81c1cc67",
   "metadata": {},
   "outputs": [
    {
     "name": "stdout",
     "output_type": "stream",
     "text": [
      "DIVIDIR NÚMERO POR 0\n",
      "Inf\n",
      "Float64\n",
      "\n",
      "DIVIDIR MENOR NÚMERO NEGATIVO POR -1\n",
      "true\n",
      "Float64\n"
     ]
    }
   ],
   "source": [
    "println(\"DIVIDIR NÚMERO POR 0\")\n",
    "println( 1/0 )\n",
    "println( typeof( 1/0 ) )\n",
    "println(\"\\nDIVIDIR MENOR NÚMERO NEGATIVO POR -1\")\n",
    "println( typemin(Int64)/-1 ≈ typemax(Int64))\n",
    "println( typeof( typemin(Int64)/-1 ) )"
   ]
  },
  {
   "cell_type": "markdown",
   "id": "812d8484-b162-4f52-87f6-ec27244d3524",
   "metadata": {},
   "source": [
    "Também temos as funções `rem` (resto) e `mod` (resto).\n",
    "\n",
    "A diferença entre elas confude-me um pouco, sei que `rem` é o mesmo que `x % y`, onde o sinal do divisor (y, neste caso) não importa. Quando o dividendo e divisor têm o mesmo sinal, `rem` e `mod` dão o mesmo resultado.\n",
    "\n",
    "Muitas coisas em Julia são iguais ao MATLAB e essas funções confirmam isso! Ao pesquisar um pouco, encontrei uma resposta que ajudou-me a elucidar um pouco.\n",
    "\n",
    "Pensemos então na divisão de $\\frac{5}{-3}$\n",
    "\n",
    "<hr>\n",
    "\n",
    "\n",
    "***Caso do `rem`***\n",
    "\n",
    "Este é o resto normal como se fizéssemos a conta manualmente, ou seja, o resto será ***2***.\n",
    "\n",
    "<hr>\n",
    "\n",
    "***Caso do `mod`***\n",
    "Este é um caso que está relacionado à [aritmética modular](https://en.wikipedia.org/wiki/Modular_arithmetic).\n",
    "\n",
    "Pensemos nos múltiplos do nosso divisor, que no caso é 3 => $-3\\mathbb{Z} = -3\\{...,-3,-2,-1,0,1,2,3,...\\} = \\{...,9,6,3,0,-3,-6,-9,...\\}$\n",
    "\n",
    "O número que mais se proxima de 5 é o 6, logo temos de somar ***-1*** e esse será o nosso resto.\n",
    "\n",
    "<hr>\n",
    "\n",
    "A resposta completa está aqui (em inglês): [rem & mod](https://www.quora.com/I-am-a-beginner-in-MATLAB-programming-What-is-the-difference-between-the-two-operations-rem-and-mod-How-are-both-functionally-different)\n",
    "\n",
    "<hr>\n",
    "\n",
    "****Regra Geral****:\n",
    "\n",
    "* Dividendo e divisor têm o mesmo sinal? Se sim, ambas vão retornar o mesmo.\n",
    "* Para o `rem` só o sinal do dividendo muda o resultado final."
   ]
  },
  {
   "cell_type": "code",
   "execution_count": null,
   "id": "2027fdb7-09af-49db-9c9a-51d7b5d0cd7c",
   "metadata": {},
   "outputs": [],
   "source": []
  }
 ],
 "metadata": {
  "kernelspec": {
   "display_name": "Julia 1.6.1",
   "language": "julia",
   "name": "julia-1.6"
  },
  "language_info": {
   "file_extension": ".jl",
   "mimetype": "application/julia",
   "name": "julia",
   "version": "1.6.1"
  }
 },
 "nbformat": 4,
 "nbformat_minor": 5
}
