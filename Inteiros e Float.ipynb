{
 "cells": [
  {
   "cell_type": "markdown",
   "id": "2ed35fdd-fe6c-42e2-aebb-d736630e7019",
   "metadata": {},
   "source": [
    "# Inteiros e números decimais (Float)\n",
    "\n",
    "***DISCLAIMER: Este notebook foi escrito com base no que li [neste](https://docs.julialang.org/en/v1/manual/integers-and-floating-point-numbers/) capítulo do manual***\n",
    "\n",
    "Bem aqui lembramos , por exemplo, que números representados no nosso código são *numeric literals*: 1 e 1.0 são numeric literals.\n",
    "Mas as representações como objetos desses mesmos números na memória, são chamados de *numeric primitives*.\n",
    "\n",
    "Aqui temos as primitivas numéricas (prefiro *numeric primitives*) presentes em Julia:\n",
    "* Inteiros\n",
    "    * Int8, Int16, Int32, Int64, Int128\n",
    "    * UInt8, UInt16, UInt32, UInt64, UInt128\n",
    "    * Bool\n",
    "\n",
    "* Decimais\n",
    "    * Float16 (half precision), Float32(single precision), Float64(double precision)\n",
    "    \n",
    "\n",
    "Lembrando que U vem de *<u>unsigned</u>*, o que significa que são primitivas onde só permitem números sem sinal, ou seja, ***números positivos***."
   ]
  },
  {
   "cell_type": "markdown",
   "id": "e6d877be-8b06-41cf-8606-c6f7144b4911",
   "metadata": {},
   "source": [
    " O `typeof` diz-nos o tipo de uma variável/constante/valor, e caso este seja inteiro, a primitiva pode mudar consoante a arquitetura do vosso computador (32 ou 64 bits)."
   ]
  },
  {
   "cell_type": "code",
   "execution_count": 63,
   "id": "d76802d3-3b2a-4461-8b2c-6b6967b17237",
   "metadata": {},
   "outputs": [
    {
     "data": {
      "text/plain": [
       "Int64"
      ]
     },
     "execution_count": 63,
     "metadata": {},
     "output_type": "execute_result"
    }
   ],
   "source": [
    "# No meu caso dará Int64, pois tenho um CPU de 64 bits\n",
    "typeof(1)"
   ]
  },
  {
   "cell_type": "markdown",
   "id": "18c7c86e-4a58-4524-8e83-5e68a567c8c3",
   "metadata": {},
   "source": [
    "Pode-se obter a informação do número de bits usados pelo CPU, utilizando o `Sys.WORD_SIZE`"
   ]
  },
  {
   "cell_type": "code",
   "execution_count": 64,
   "id": "50b8e887-bd4c-4e5e-9662-ff1ff077cbc2",
   "metadata": {},
   "outputs": [
    {
     "data": {
      "text/plain": [
       "64"
      ]
     },
     "execution_count": 64,
     "metadata": {},
     "output_type": "execute_result"
    }
   ],
   "source": [
    "Sys.WORD_SIZE"
   ]
  },
  {
   "cell_type": "markdown",
   "id": "255d7d66-e53d-4e7b-96da-02bcbdb6817e",
   "metadata": {},
   "source": [
    "Também se pode usar os *types* `UInt` e `Int` assim como as restantes primitivas citadas acima. Eles podem inclusive, modificar o tipo das variáveis"
   ]
  },
  {
   "cell_type": "code",
   "execution_count": 65,
   "id": "906e1a04-93e4-4d78-9440-b83f0e173aa0",
   "metadata": {},
   "outputs": [
    {
     "name": "stdout",
     "output_type": "stream",
     "text": [
      "UInt8\n",
      "UInt64\n"
     ]
    }
   ],
   "source": [
    "a = UInt8(245)\n",
    "println( typeof(a) )\n",
    "\n",
    "a = UInt(a)\n",
    "println( typeof(a) )"
   ]
  },
  {
   "cell_type": "markdown",
   "id": "6b5769ac-ec04-44e2-bf2c-66de340c727c",
   "metadata": {},
   "source": [
    "***Nota***: Inteiros que não possa ser representados em 32 bits, são convertidos para 64 bits, independemente da arquitetura.\n",
    "\n",
    "\n",
    "Algo também bastante interessante é que números em representação hexadecimal, octal e binário são sempre representados por primitivas *unsigned*, isto deve-se ao facto de que números negativos são convertidos para uma representação binária [Complemento para dois](https://pt.wikipedia.org/wiki/Complemento_para_dois).\n",
    "\n",
    "A quantidade de números 1 à esquerda, dita o tamanho mínimo necessário para armazenar o número. \n",
    "Por exemplo 0xff pode ser armazenado em `UInt8`, porém 0xfff já será armazenado em `UInt16`."
   ]
  },
  {
   "cell_type": "code",
   "execution_count": 66,
   "id": "cf56bf7a-6686-4de0-a7fc-74535bdd7a91",
   "metadata": {},
   "outputs": [
    {
     "name": "stdout",
     "output_type": "stream",
     "text": [
      "1: Int64\n",
      "-1: Int64\n",
      "0x1: UInt8\n",
      "-0x1: UInt16\n"
     ]
    },
    {
     "data": {
      "text/plain": [
       "0xff"
      ]
     },
     "execution_count": 66,
     "metadata": {},
     "output_type": "execute_result"
    }
   ],
   "source": [
    "println(\"1: \", typeof( 1 ) )\n",
    "println(\"-1: \", typeof( -1 ) )\n",
    "println(\"0x1: \", typeof( 0x1 ) )\n",
    "println(\"-0x1: \", typeof( -0xfff ) )\n",
    "-0x1"
   ]
  },
  {
   "cell_type": "markdown",
   "id": "a2964863-dd90-4f5c-9345-2f72c07734d7",
   "metadata": {},
   "source": [
    "Caso queiramos saber o número mínimo e máximo que uma primitiva pode representar, basta-nos usar as funções `typemin` e `typemax`"
   ]
  },
  {
   "cell_type": "code",
   "execution_count": 67,
   "id": "b66e120e-1eb2-42fe-9090-37c1fb4c9e27",
   "metadata": {},
   "outputs": [
    {
     "data": {
      "text/plain": [
       "-32768"
      ]
     },
     "execution_count": 67,
     "metadata": {},
     "output_type": "execute_result"
    }
   ],
   "source": [
    "typemin(Int16)"
   ]
  },
  {
   "cell_type": "code",
   "execution_count": 68,
   "id": "4348d3ad-d974-4328-8fab-a21ec706c6ef",
   "metadata": {},
   "outputs": [
    {
     "data": {
      "text/plain": [
       "32767"
      ]
     },
     "execution_count": 68,
     "metadata": {},
     "output_type": "execute_result"
    }
   ],
   "source": [
    "typemax(Int16)"
   ]
  },
  {
   "cell_type": "markdown",
   "id": "f3a2a24d",
   "metadata": {},
   "source": [
    "## Overflow\n",
    "\n",
    "Quando tentamos fazer um overflow (armazenar um valor tão grande/pequeno que nenhuma primitiva consegue representar), Julia vai aplicar [aritmética modular](https://en.wikipedia.org/wiki/Modular_arithmetic) fazendo com que os valor volte para o intervalo da primitiva.\n",
    "\n",
    "Caso queiramos pode representar esse número sem usar este 'wraparound', devemos fazer uso do `BigInt`"
   ]
  },
  {
   "cell_type": "code",
   "execution_count": 69,
   "id": "103df5d3",
   "metadata": {},
   "outputs": [
    {
     "data": {
      "text/plain": [
       "9223372036854775807"
      ]
     },
     "execution_count": 69,
     "metadata": {},
     "output_type": "execute_result"
    }
   ],
   "source": [
    "# Integer Overflow (64bits)\n",
    "x = typemax(Int64)"
   ]
  },
  {
   "cell_type": "code",
   "execution_count": 70,
   "id": "3b16822e-fb1a-46da-b86a-8323ed03691f",
   "metadata": {},
   "outputs": [
    {
     "data": {
      "text/plain": [
       "true"
      ]
     },
     "execution_count": 70,
     "metadata": {},
     "output_type": "execute_result"
    }
   ],
   "source": [
    "# Vai transformá-lo no extremo negativo\n",
    "x + 1 == typemin(Int64)"
   ]
  },
  {
   "cell_type": "code",
   "execution_count": 71,
   "id": "ce4793d2-880c-45c3-94dc-53f018392d87",
   "metadata": {},
   "outputs": [
    {
     "data": {
      "text/plain": [
       "9223372036854775808"
      ]
     },
     "execution_count": 71,
     "metadata": {},
     "output_type": "execute_result"
    }
   ],
   "source": [
    "# Contornar esse efeito com o uso do BigInt\n",
    "x = BigInt(typemax(Int64))\n",
    "x + 1"
   ]
  },
  {
   "cell_type": "markdown",
   "id": "4fb7871f-0973-4103-8d6d-4ddc53aa35dc",
   "metadata": {},
   "source": [
    "## Divisões\n",
    "\n",
    "As divisões também são bem interessantes por aqui. Todos sabemos que não podemos dividir por 0 e se usarmos a função `div` ela retornará um erro de divisão, assim como a divisão do menor número possível por -1, como podemos ver abaixo."
   ]
  },
  {
   "cell_type": "code",
   "execution_count": 72,
   "id": "849d4a0f-5465-43e0-8b1a-689d5c1230be",
   "metadata": {},
   "outputs": [
    {
     "ename": "LoadError",
     "evalue": "DivideError: integer division error",
     "output_type": "error",
     "traceback": [
      "DivideError: integer division error",
      "",
      "Stacktrace:",
      " [1] div(x::Int64, y::Int64)",
      "   @ Base .\\int.jl:261",
      " [2] top-level scope",
      "   @ In[72]:2",
      " [3] eval",
      "   @ .\\boot.jl:360 [inlined]",
      " [4] include_string(mapexpr::typeof(REPL.softscope), mod::Module, code::String, filename::String)",
      "   @ Base .\\loading.jl:1094"
     ]
    }
   ],
   "source": [
    "# Dividir 1 por 0\n",
    "div(1, 0)"
   ]
  },
  {
   "cell_type": "code",
   "execution_count": 73,
   "id": "b359c311-3239-4783-93a0-3359119de74e",
   "metadata": {},
   "outputs": [
    {
     "ename": "LoadError",
     "evalue": "DivideError: integer division error",
     "output_type": "error",
     "traceback": [
      "DivideError: integer division error",
      "",
      "Stacktrace:",
      " [1] div(x::Int64, y::Int64)",
      "   @ Base .\\int.jl:261",
      " [2] top-level scope",
      "   @ In[73]:2",
      " [3] eval",
      "   @ .\\boot.jl:360 [inlined]",
      " [4] include_string(mapexpr::typeof(REPL.softscope), mod::Module, code::String, filename::String)",
      "   @ Base .\\loading.jl:1094"
     ]
    }
   ],
   "source": [
    "# Dividir o typemin de u por -1\n",
    "div(typemin(Int64), -1)"
   ]
  },
  {
   "cell_type": "markdown",
   "id": "ebfb1500-a9e1-4093-b2ab-475087533507",
   "metadata": {},
   "source": [
    "Porém se dividirmos um número por 0 sem o uso da função `div`, vamos obter um valor infinito (`Inf`) do tipo `Float`.\n",
    "\n",
    "Para a divisão do menor número negativo por -1 dará um valor próximo do maior número possível."
   ]
  },
  {
   "cell_type": "code",
   "execution_count": 74,
   "id": "05ac1ec4-a08a-4720-8ac7-ac2e81c1cc67",
   "metadata": {},
   "outputs": [
    {
     "name": "stdout",
     "output_type": "stream",
     "text": [
      "DIVIDIR NÚMERO POR 0\n",
      "Inf\n",
      "Float64\n",
      "\n",
      "DIVIDIR MENOR NÚMERO NEGATIVO POR -1\n",
      "true\n",
      "Float64\n"
     ]
    }
   ],
   "source": [
    "println(\"DIVIDIR NÚMERO POR 0\")\n",
    "println( 1/0 )\n",
    "println( typeof( 1/0 ) )\n",
    "println(\"\\nDIVIDIR MENOR NÚMERO NEGATIVO POR -1\")\n",
    "println( typemin(Int64)/-1 ≈ typemax(Int64))\n",
    "println( typeof( typemin(Int64)/-1 ) )"
   ]
  },
  {
   "cell_type": "markdown",
   "id": "812d8484-b162-4f52-87f6-ec27244d3524",
   "metadata": {},
   "source": [
    "Também temos as funções `rem` (resto) e `mod` (resto).\n",
    "\n",
    "A diferença entre elas confude-me um pouco, sei que `rem` é o mesmo que `x % y`, onde o sinal do divisor (y, neste caso) não importa. Quando o dividendo e divisor têm o mesmo sinal, `rem` e `mod` dão o mesmo resultado.\n",
    "\n",
    "Muitas coisas em Julia são iguais ao MATLAB e essas funções confirmam isso! Ao pesquisar um pouco, encontrei uma resposta que ajudou-me a elucidar um pouco.\n",
    "\n",
    "Pensemos então na divisão de $\\frac{5}{-3}$\n",
    "\n",
    "<hr>\n",
    "\n",
    "\n",
    "***Caso do `rem`***\n",
    "\n",
    "Este é o resto normal como se fizéssemos a conta manualmente, ou seja, o resto será ***2***.\n",
    "\n",
    "<hr>\n",
    "\n",
    "***Caso do `mod`***\n",
    "Este é um caso que está relacionado à [aritmética modular](https://en.wikipedia.org/wiki/Modular_arithmetic).\n",
    "\n",
    "Pensemos nos múltiplos do nosso divisor, que no caso é 3 => $-3\\mathbb{Z} = -3\\{...,-3,-2,-1,0,1,2,3,...\\} = \\{...,9,6,3,0,-3,-6,-9,...\\}$\n",
    "\n",
    "O número que mais se proxima de 5 é o 6, logo temos de somar ***-1*** e esse será o nosso resto.\n",
    "\n",
    "<hr>\n",
    "\n",
    "A resposta completa está aqui (em inglês): [rem & mod](https://www.quora.com/I-am-a-beginner-in-MATLAB-programming-What-is-the-difference-between-the-two-operations-rem-and-mod-How-are-both-functionally-different)\n",
    "\n",
    "<hr>\n",
    "\n",
    "****Regra Geral****:\n",
    "\n",
    "* Dividendo e divisor têm o mesmo sinal? Se sim, ambas vão retornar o mesmo.\n",
    "* Para o `rem` só o sinal do dividendo muda o resultado final."
   ]
  },
  {
   "cell_type": "markdown",
   "id": "afdf2dee-56a7-4837-bb49-adf7fa17dc94",
   "metadata": {},
   "source": [
    "## Números decimais (Floats)\n",
    "\n",
    "Assim como os hexadecimais são representados pela primitiva `UInt`, os números `Float` que tenham um 'f' são representados pela primitiva `Float32`.\n",
    "\n",
    "***Nota***: O 'f' tem de estar entre os números decimais."
   ]
  },
  {
   "cell_type": "code",
   "execution_count": 75,
   "id": "f7b94e89-24cd-4176-bd5e-593eb12cfe26",
   "metadata": {},
   "outputs": [
    {
     "data": {
      "text/plain": [
       "Float32"
      ]
     },
     "execution_count": 75,
     "metadata": {},
     "output_type": "execute_result"
    }
   ],
   "source": [
    "typeof(1.4f5)"
   ]
  },
  {
   "cell_type": "markdown",
   "id": "1fee3f07-550d-4795-baf0-964f02aa966b",
   "metadata": {},
   "source": [
    "Também podemos definir números em notação científica."
   ]
  },
  {
   "cell_type": "code",
   "execution_count": 76,
   "id": "24af4587-5771-433f-a494-0a737e54ddde",
   "metadata": {},
   "outputs": [
    {
     "data": {
      "text/plain": [
       "0.00012"
      ]
     },
     "execution_count": 76,
     "metadata": {},
     "output_type": "execute_result"
    }
   ],
   "source": [
    "1.2e-4"
   ]
  },
  {
   "cell_type": "markdown",
   "id": "6e190556-dc83-4358-a380-f170cd546070",
   "metadata": {},
   "source": [
    "Floats com representações hexadecimais também são possíveis, basta colocarmos um 'p' entre os número decimais e começar o número com o prefixo que define os hexadecimais: '0x'."
   ]
  },
  {
   "cell_type": "code",
   "execution_count": 77,
   "id": "bd68668d-3149-4eea-bab5-de1dfcc54b66",
   "metadata": {},
   "outputs": [
    {
     "data": {
      "text/plain": [
       "12.0"
      ]
     },
     "execution_count": 77,
     "metadata": {},
     "output_type": "execute_result"
    }
   ],
   "source": [
    "0x1.8p3"
   ]
  },
  {
   "cell_type": "markdown",
   "id": "ae660674-897f-4352-8f36-a2939cb12d79",
   "metadata": {},
   "source": [
    "Algo útil quando trabalhamos com números \"grandes\" é poder separar os dígitos, assim fica mais fácil distinguir as centenas, milhares, milhões etc. Podemos fazer isso utilizando underscores('_')"
   ]
  },
  {
   "cell_type": "code",
   "execution_count": 78,
   "id": "9fa0acc3-907d-4cf4-a5d5-e2c10ac06c8a",
   "metadata": {},
   "outputs": [
    {
     "data": {
      "text/plain": [
       "100000"
      ]
     },
     "execution_count": 78,
     "metadata": {},
     "output_type": "execute_result"
    }
   ],
   "source": [
    "100_000"
   ]
  },
  {
   "cell_type": "markdown",
   "id": "b64958c2-1664-489d-9bf2-b1c17b7e2b39",
   "metadata": {},
   "source": [
    "Floats têm 2 zeros que significam o mesmo, porém na representação binária são representados de forma diferente. Isso deve-se ao que já referi: [Complemento para dois](https://pt.wikipedia.org/wiki/Complemento_para_dois)"
   ]
  },
  {
   "cell_type": "code",
   "execution_count": 79,
   "id": "6737c21c-6b6a-4d31-8585-8d9c8b1a7e49",
   "metadata": {},
   "outputs": [
    {
     "data": {
      "text/plain": [
       "true"
      ]
     },
     "execution_count": 79,
     "metadata": {},
     "output_type": "execute_result"
    }
   ],
   "source": [
    "# Os 2 zerosdo tipo Float \n",
    "0.0 == -0.0"
   ]
  },
  {
   "cell_type": "code",
   "execution_count": 80,
   "id": "fb49f60c-d9df-4e62-b769-ea3193f60d9f",
   "metadata": {},
   "outputs": [
    {
     "data": {
      "text/plain": [
       "\"0000000000000000000000000000000000000000000000000000000000000000\""
      ]
     },
     "execution_count": 80,
     "metadata": {},
     "output_type": "execute_result"
    }
   ],
   "source": [
    "# Representação do 0.0 em binário\n",
    "bitstring(0.0)"
   ]
  },
  {
   "cell_type": "code",
   "execution_count": 81,
   "id": "7f0eeed6-d69f-43da-800c-b32f94ac0c74",
   "metadata": {},
   "outputs": [
    {
     "data": {
      "text/plain": [
       "\"1000000000000000000000000000000000000000000000000000000000000000\""
      ]
     },
     "execution_count": 81,
     "metadata": {},
     "output_type": "execute_result"
    }
   ],
   "source": [
    "# Representação do -0.0 em binário\n",
    "bitstring(-0.0)"
   ]
  },
  {
   "cell_type": "markdown",
   "id": "2b1b52da-0d9f-4c39-8863-bc00503d685e",
   "metadata": {},
   "source": [
    "O máximo e mínimo dos floats são -Inf e Inf, porém esses referem-se a `Float64`, as outras primitivas de Floats têm Infs com sufixo igual ao número de bits: `Inf32`, `Inf16`."
   ]
  },
  {
   "cell_type": "code",
   "execution_count": 82,
   "id": "ffcce893-af81-4240-a153-b4ae6b23a21f",
   "metadata": {},
   "outputs": [
    {
     "data": {
      "text/plain": [
       "-Inf"
      ]
     },
     "execution_count": 82,
     "metadata": {},
     "output_type": "execute_result"
    }
   ],
   "source": [
    "typemin(Float64)"
   ]
  },
  {
   "cell_type": "code",
   "execution_count": 83,
   "id": "b34a81e3-f773-4ea1-a658-e79e5e4e8697",
   "metadata": {},
   "outputs": [
    {
     "data": {
      "text/plain": [
       "Inf"
      ]
     },
     "execution_count": 83,
     "metadata": {},
     "output_type": "execute_result"
    }
   ],
   "source": [
    "typemax(Float64)"
   ]
  },
  {
   "cell_type": "markdown",
   "id": "15773a76-108a-4358-b4f9-297be318a5e8",
   "metadata": {},
   "source": [
    "### Machine Epsilon\n",
    "\n",
    "Entre 2 números haverá uma quantidade de números decimais gigantesca! E apesar destas máquinas denominadas de computadores terem capacidades de cálculo impressionantes, elas têm as suas limitações.\n",
    "\n",
    "Tendo isso em conta, criou-se este tal de *Machine Epsilon*. Ele, basicamente, calcula a distância entre 1.0 e o próximo maior decimal (isto, caso não passemos nenhum argumento). Se passarmos um número decimal como argumento, ele retornará o próximo decimal."
   ]
  },
  {
   "cell_type": "code",
   "execution_count": 84,
   "id": "1e70a07d-32fe-4b33-a9fb-880e13302ef5",
   "metadata": {},
   "outputs": [
    {
     "data": {
      "text/plain": [
       "2.220446049250313e-16"
      ]
     },
     "execution_count": 84,
     "metadata": {},
     "output_type": "execute_result"
    }
   ],
   "source": [
    "eps()"
   ]
  },
  {
   "cell_type": "code",
   "execution_count": 85,
   "id": "65cbcf8c-fd28-4152-bc2e-f365e0a3728f",
   "metadata": {},
   "outputs": [
    {
     "data": {
      "text/plain": [
       "5.0e-324"
      ]
     },
     "execution_count": 85,
     "metadata": {},
     "output_type": "execute_result"
    }
   ],
   "source": [
    "eps(0e14)"
   ]
  },
  {
   "cell_type": "code",
   "execution_count": 86,
   "id": "5b48c021-c278-4a13-a03a-d13e5ef411d7",
   "metadata": {},
   "outputs": [
    {
     "data": {
      "text/plain": [
       "1.5777218104420236e-30"
      ]
     },
     "execution_count": 86,
     "metadata": {},
     "output_type": "execute_result"
    }
   ],
   "source": [
    "eps(1e-14)"
   ]
  },
  {
   "cell_type": "code",
   "execution_count": 87,
   "id": "fc2cb893-b8b8-4e26-b48c-6ba7b4a48aad",
   "metadata": {},
   "outputs": [
    {
     "data": {
      "text/plain": [
       "1.7763568394002505e-15"
      ]
     },
     "execution_count": 87,
     "metadata": {},
     "output_type": "execute_result"
    }
   ],
   "source": [
    "eps(10.0)"
   ]
  },
  {
   "cell_type": "markdown",
   "id": "eb83bb1c-f9ce-455f-ab02-62f3e197cf8b",
   "metadata": {},
   "source": [
    "***Podemos observar que quando mais próximos de zero estiver o nosso número decimal, maior a precisão do `Float`! Ou seja, o número a seguir ao nosso decimal estará muitoooo próximo.***\n",
    "\n",
    "***Já se nos afastarmos de 0, verificamos que a precisão diminui significativamente.***\n",
    "\n",
    "***Nota***: Os métodos `prevfloat` e `nextfloat` retornam os decimais mais próximos (antes e depois, respetivamente)."
   ]
  },
  {
   "cell_type": "markdown",
   "id": "e8287d13-cf82-44e7-9d05-6c0accac4fc0",
   "metadata": {},
   "source": [
    "### Arredondamentos\n",
    "\n",
    "Os arredondamentos são feitos sempre que não haja um representação precisa de um decimal. Utiliza-se então o método `RoundNearest`."
   ]
  },
  {
   "cell_type": "markdown",
   "id": "21a9aa68-b188-454f-9fcf-294fe07a0926",
   "metadata": {},
   "source": [
    "## Aritméticas com Precisão Arbitrária\n",
    "\n",
    "Precisão arbitrária vem do tipo `BigInt`, `BigFloat` etc ... \n",
    "É arbitrária porque não é algo primitivo, é algo 'emulado' pela  linguagem Julia. Por isso é normal cálculos de `BigInt` e de outros tipos de precisão arbitrária, sejam bem mais lentos, do que os tipos primitivos que falei acima.\n",
    "\n",
    "\n",
    "Podemos representar esses números como hexadecimais, octais, binários."
   ]
  },
  {
   "cell_type": "code",
   "execution_count": 88,
   "id": "b43ced45-9588-4678-b44b-0889b721c28b",
   "metadata": {},
   "outputs": [
    {
     "data": {
      "text/plain": [
       "9223372036854775808"
      ]
     },
     "execution_count": 88,
     "metadata": {},
     "output_type": "execute_result"
    }
   ],
   "source": [
    "# Converter um número imenso em BigInt\n",
    "x = BigInt( typemax(Int64) )+1"
   ]
  },
  {
   "cell_type": "code",
   "execution_count": 89,
   "id": "80e69c8a-26c0-4958-9516-a3d02e708ab4",
   "metadata": {},
   "outputs": [
    {
     "data": {
      "text/plain": [
       "9223372036854775808"
      ]
     },
     "execution_count": 89,
     "metadata": {},
     "output_type": "execute_result"
    }
   ],
   "source": [
    "# Transformar uma string desse número em BigInt utilziando a macro/string_literal 'big'\n",
    "x = big\"9223372036854775808\""
   ]
  },
  {
   "cell_type": "markdown",
   "id": "e0122617-ad96-4586-95f4-49c9bcdde68f",
   "metadata": {},
   "source": [
    "***Nota***: Para promover números para `BigInt` e `BigFloat`, precisa de ser de forma ***explícita***!"
   ]
  },
  {
   "cell_type": "markdown",
   "id": "c0b2dded-8841-4a11-8395-05a22c9c2784",
   "metadata": {},
   "source": [
    "### Precisão do BigFloat\n",
    "\n",
    "Podemos mudar a precisão deles <u>globalmente</u> ou <u>localmente</u>. Para isso fazemos uso de `setprecision` e `setrounding`.\n",
    "\n",
    "Para fazê-lo localmente, temos de envolver tudo em um bloco `do`."
   ]
  },
  {
   "cell_type": "code",
   "execution_count": 90,
   "id": "27dffdb0-19bc-4087-a9eb-1f99ef293e0a",
   "metadata": {},
   "outputs": [
    {
     "data": {
      "text/plain": [
       "1.100000000000000000000000000000000000000000000000000000000000000000000000000003"
      ]
     },
     "execution_count": 90,
     "metadata": {},
     "output_type": "execute_result"
    }
   ],
   "source": [
    "# Arredondamento local (arredondamento para cima)\n",
    "setrounding(BigFloat, RoundUp) do\n",
    "    BigFloat(1) + parse(BigFloat, \"0.1\")\n",
    "end"
   ]
  },
  {
   "cell_type": "code",
   "execution_count": 91,
   "id": "9b2b84be-8bb8-464a-9656-985da6d2a2b2",
   "metadata": {},
   "outputs": [
    {
     "data": {
      "text/plain": [
       "3.1000000015"
      ]
     },
     "execution_count": 91,
     "metadata": {},
     "output_type": "execute_result"
    }
   ],
   "source": [
    "# Definir precisão localmente\n",
    "setprecision(30) do\n",
    "    BigFloat(3) + BigFloat(0.1)\n",
    "end"
   ]
  },
  {
   "cell_type": "markdown",
   "id": "081acf0c-8c00-4a86-81e0-7d6174d34d8d",
   "metadata": {},
   "source": [
    "## Coeficientes\n",
    "\n",
    "Em Python uma expressão matemática como esta: $2x^2$ - seria traduzida em `2 * x**2`.\n",
    "\n",
    "Julia permite-nos colocar coeficientes nas nossas variáveis sem termos de explicitamente definir a multiplicação."
   ]
  },
  {
   "cell_type": "code",
   "execution_count": 92,
   "id": "967e84e7-74f6-4949-8cbd-f0ca2936809b",
   "metadata": {},
   "outputs": [
    {
     "data": {
      "text/plain": [
       "18"
      ]
     },
     "execution_count": 92,
     "metadata": {},
     "output_type": "execute_result"
    }
   ],
   "source": [
    "x = 3\n",
    "2x^2"
   ]
  },
  {
   "cell_type": "markdown",
   "id": "487c6eb4-d7f7-43b0-89c1-8dbf78c57e1d",
   "metadata": {},
   "source": [
    "A precedência destes coeficientes são:\n",
    "* Inferiores a operadores unários (como a negação): `-2x` == `(-2) * x`\n",
    "* Mas igualam a precedência com unários quando têm expoente: `2x^3` == `2 * (x^3)`\n",
    "* Têm precedência maior que `*`,`/` e `//`, logo: 6 // 2(2) == `6 / (2*2)`"
   ]
  },
  {
   "cell_type": "code",
   "execution_count": 93,
   "id": "a5244f30-1c66-45db-8e0e-3dd56e5cefe4",
   "metadata": {},
   "outputs": [
    {
     "data": {
      "text/plain": [
       "6"
      ]
     },
     "execution_count": 93,
     "metadata": {},
     "output_type": "execute_result"
    }
   ],
   "source": [
    "# Expressões em parêntesis antes de uma variável, são levadas como coeficientes\n",
    "x = 3\n",
    "(x-1)x"
   ]
  },
  {
   "cell_type": "markdown",
   "id": "e3d427e9-89ef-4135-a012-a2e3238f9cad",
   "metadata": {},
   "source": [
    "***Atenção***\n",
    "\n",
    "Expressões com justaposição como : $x(x+5)$ ou $x^3(x-10)$ - não funcionam e são consideradas como chamadas para alguma função, por exemplo, $x(x+5)$ para Julia estamos a chamar a função x passando `x+5` como argumento."
   ]
  },
  {
   "cell_type": "markdown",
   "id": "678a0f65-8496-4f03-b382-557bfd8846cb",
   "metadata": {},
   "source": [
    "### Problemas com coeficientes\n",
    "\n",
    "Estes coeficientes que funcionam por justposição são bastante úteis! E fazem todo o sentido em uma linguagem científica como Julia, mas como tudo na vida, tem as suas desvantagens.\n",
    "\n",
    "Olhemos para esta representação hexadecimal: `0xff` - pensando no que vimos acima, não parece que 0 está a multiplicar uma variável xff ??\n",
    "\n",
    "\n",
    "Isto pode causar conflitos e é por isso que temos de ter cuidado a nomear variáveis e também ponderar bem quando usar essa sintaxe de justaposição de coeficientes e variáveis!"
   ]
  },
  {
   "cell_type": "markdown",
   "id": "74cf8fc7-73e9-4104-94e5-1d448bec701a",
   "metadata": {},
   "source": [
    "## Zeros e Uns\n",
    "\n",
    "Se nós quisermos obter um 0 ou um 1 representados por uma primitiva ou tipo de precisão arbitrária, podemos fazê-lo com `zero` e `one`."
   ]
  },
  {
   "cell_type": "code",
   "execution_count": 94,
   "id": "95d04aa4-fe26-4022-ae9d-d5a7565036da",
   "metadata": {},
   "outputs": [
    {
     "data": {
      "text/plain": [
       "1"
      ]
     },
     "execution_count": 94,
     "metadata": {},
     "output_type": "execute_result"
    }
   ],
   "source": [
    "one(BigInt)"
   ]
  },
  {
   "cell_type": "code",
   "execution_count": 95,
   "id": "147b757a-df08-405e-903e-ce2ef5aff767",
   "metadata": {},
   "outputs": [
    {
     "data": {
      "text/plain": [
       "Float16(0.0)"
      ]
     },
     "execution_count": 95,
     "metadata": {},
     "output_type": "execute_result"
    }
   ],
   "source": [
    "zero(Float16)"
   ]
  }
 ],
 "metadata": {
  "kernelspec": {
   "display_name": "Julia 1.6.1",
   "language": "julia",
   "name": "julia-1.6"
  },
  "language_info": {
   "file_extension": ".jl",
   "mimetype": "application/julia",
   "name": "julia",
   "version": "1.6.1"
  }
 },
 "nbformat": 4,
 "nbformat_minor": 5
}
