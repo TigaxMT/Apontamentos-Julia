{
 "cells": [
  {
   "cell_type": "markdown",
   "id": "2ed35fdd-fe6c-42e2-aebb-d736630e7019",
   "metadata": {},
   "source": [
    "# Inteiros e números decimais (Float)\n",
    "\n",
    "Bem aqui lembramos , por exemplo, que números representados no nosso código são *numeric literals*: 1 e 1.0 são numeric literals.\n",
    "Mas as representações como objetos desses mesmos números na memória, são chamados de *numeric primitives*.\n",
    "\n",
    "Aqui temos as primitivas numéricas (prefiro *numeric primitives*) presentes em Julia:\n",
    "* Inteiros\n",
    "    * Int8, Int16, Int32, Int64, Int128\n",
    "    * UInt8, UInt16, UInt32, UInt64, UInt128\n",
    "    * Bool\n",
    "\n",
    "* Decimais\n",
    "    * Float16 (half precision), Float32(single precision), Float64(double precision)\n",
    "    \n",
    "\n",
    "Lembrando que U vem de *<u>unsigned</u>*, o que significa que são primitivas onde só permitem números sem sinal, ou seja, ***números positivos***."
   ]
  },
  {
   "cell_type": "markdown",
   "id": "e6d877be-8b06-41cf-8606-c6f7144b4911",
   "metadata": {},
   "source": [
    " O `typeof` diz-nos o tipo de uma variável/constante/valor, e caso este seja inteiro, a primitiva pode mudar consoante a arquitetura do vosso computador (32 ou 64 bits)."
   ]
  },
  {
   "cell_type": "code",
   "execution_count": 2,
   "id": "d76802d3-3b2a-4461-8b2c-6b6967b17237",
   "metadata": {},
   "outputs": [
    {
     "data": {
      "text/plain": [
       "Int64"
      ]
     },
     "execution_count": 2,
     "metadata": {},
     "output_type": "execute_result"
    }
   ],
   "source": [
    "# No meu caso dará Int64, pois tenho um CPU de 64 bits\n",
    "typeof(1)"
   ]
  },
  {
   "cell_type": "markdown",
   "id": "18c7c86e-4a58-4524-8e83-5e68a567c8c3",
   "metadata": {},
   "source": [
    "Pode-se obter a informação do número de bits usados pelo CPU, utilizando o `Sys.WORD_SIZE`"
   ]
  },
  {
   "cell_type": "code",
   "execution_count": 3,
   "id": "50b8e887-bd4c-4e5e-9662-ff1ff077cbc2",
   "metadata": {},
   "outputs": [
    {
     "data": {
      "text/plain": [
       "64"
      ]
     },
     "execution_count": 3,
     "metadata": {},
     "output_type": "execute_result"
    }
   ],
   "source": [
    "Sys.WORD_SIZE"
   ]
  },
  {
   "cell_type": "markdown",
   "id": "255d7d66-e53d-4e7b-96da-02bcbdb6817e",
   "metadata": {},
   "source": [
    "Também se pode usar os *types* `UInt` e `Int` assim como as restantes primitivas citadas acima. Eles podem inclusive, modificar o tipo das variáveis"
   ]
  },
  {
   "cell_type": "code",
   "execution_count": 6,
   "id": "906e1a04-93e4-4d78-9440-b83f0e173aa0",
   "metadata": {},
   "outputs": [
    {
     "name": "stdout",
     "output_type": "stream",
     "text": [
      "UInt8\n",
      "UInt64\n"
     ]
    }
   ],
   "source": [
    "a = UInt8(245)\n",
    "println( typeof(a) )\n",
    "\n",
    "a = UInt(a)\n",
    "println( typeof(a) )"
   ]
  },
  {
   "cell_type": "markdown",
   "id": "6b5769ac-ec04-44e2-bf2c-66de340c727c",
   "metadata": {},
   "source": [
    "***Nota***: Inteiros que não possa ser representados em 32 bits, são convertidos para 64 bits, independemente da arquitetura.\n",
    "\n",
    "\n",
    "Algo também bastante interessante é que números em representação hexadecimal, octal e binário são sempre representados por primitivas *unsigned*, isto deve-se ao facto de que números negativos são convertidos para uma representação binária [Complemento para dois](https://pt.wikipedia.org/wiki/Complemento_para_dois).\n",
    "\n",
    "A quantidade de números 1 à esquerda, dita o tamanho mínimo necessário para armazenar o número. \n",
    "Por exemplo 0xff pode ser armazenado em `UInt8`, porém 0xfff já será armazenado em `UInt16`."
   ]
  },
  {
   "cell_type": "code",
   "execution_count": 29,
   "id": "cf56bf7a-6686-4de0-a7fc-74535bdd7a91",
   "metadata": {},
   "outputs": [
    {
     "name": "stdout",
     "output_type": "stream",
     "text": [
      "1: Int64\n",
      "-1: Int64\n",
      "0x1: UInt8\n",
      "-0x1: UInt16\n"
     ]
    },
    {
     "data": {
      "text/plain": [
       "0xff"
      ]
     },
     "execution_count": 29,
     "metadata": {},
     "output_type": "execute_result"
    }
   ],
   "source": [
    "println(\"1: \", typeof( 1 ) )\n",
    "println(\"-1: \", typeof( -1 ) )\n",
    "println(\"0x1: \", typeof( 0x1 ) )\n",
    "println(\"-0x1: \", typeof( -0xfff ) )\n",
    "-0x1"
   ]
  },
  {
   "cell_type": "markdown",
   "id": "a2964863-dd90-4f5c-9345-2f72c07734d7",
   "metadata": {},
   "source": [
    "Caso queiramos saber o número mínimo e máximo que uma primitiva pode representar, basta-nos usar as funções `typemin` e `typemax`"
   ]
  },
  {
   "cell_type": "code",
   "execution_count": 30,
   "id": "b66e120e-1eb2-42fe-9090-37c1fb4c9e27",
   "metadata": {},
   "outputs": [
    {
     "data": {
      "text/plain": [
       "-32768"
      ]
     },
     "execution_count": 30,
     "metadata": {},
     "output_type": "execute_result"
    }
   ],
   "source": [
    "typemin(Int16)"
   ]
  },
  {
   "cell_type": "code",
   "execution_count": 31,
   "id": "4348d3ad-d974-4328-8fab-a21ec706c6ef",
   "metadata": {},
   "outputs": [
    {
     "data": {
      "text/plain": [
       "32767"
      ]
     },
     "execution_count": 31,
     "metadata": {},
     "output_type": "execute_result"
    }
   ],
   "source": [
    "typemax(Int16)"
   ]
  },
  {
   "cell_type": "code",
   "execution_count": null,
   "id": "67c6b5f1-7ba4-4e70-bd39-71bd2f031948",
   "metadata": {},
   "outputs": [],
   "source": []
  }
 ],
 "metadata": {
  "kernelspec": {
   "display_name": "Julia 1.6.1",
   "language": "julia",
   "name": "julia-1.6"
  },
  "language_info": {
   "file_extension": ".jl",
   "mimetype": "application/julia",
   "name": "julia",
   "version": "1.6.1"
  }
 },
 "nbformat": 4,
 "nbformat_minor": 5
}
