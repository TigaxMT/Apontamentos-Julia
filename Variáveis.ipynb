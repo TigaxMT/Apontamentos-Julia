{
 "cells": [
  {
   "cell_type": "markdown",
   "id": "6581da9f-ec75-48e3-a85e-825a4d90b47d",
   "metadata": {},
   "source": [
    "# Julia Lang\n",
    "\n",
    "Vou apontar tudo que ache importante para aprender e dominar um pouco da linguagem Julia!\n",
    "\n",
    "Tudo o que for aqui apontado, vem do site https://docs.julialang.org/en/v1/, mais especificamente, do Manual da linguagem."
   ]
  },
  {
   "cell_type": "markdown",
   "id": "71351131-2387-4002-b7db-af2e030a0724",
   "metadata": {},
   "source": [
    "# Variáveis\n",
    "\n",
    "***DISCLAIMER: Este notebook foi escrito com base no que li [neste](https://docs.julialang.org/en/v1/manual/variables/) capítulo do manual***\n",
    "\n",
    "Assim como no Python podemos armazenar valores em variáveis"
   ]
  },
  {
   "cell_type": "code",
   "execution_count": 1,
   "id": "caa2c84b-6d99-4251-a5b7-f8cc870c0eea",
   "metadata": {},
   "outputs": [
    {
     "data": {
      "text/plain": [
       "10"
      ]
     },
     "execution_count": 1,
     "metadata": {},
     "output_type": "execute_result"
    }
   ],
   "source": [
    "x = 20 - 10"
   ]
  },
  {
   "cell_type": "markdown",
   "id": "e22604e5-00ca-455f-9b22-6296412a9b63",
   "metadata": {},
   "source": [
    "A parte mais interessante é que podemos definir variáveis com Unicode e LaTex. \n",
    "\n",
    "Para criar nomes de variáveis com LaTeX, usamos o caractere \"\\\\\", seguido do nome do caractere, seguido de um TAB.\n",
    "Por exemplo, o delta seria: ***\\delta + TAB*** = $\\delta$"
   ]
  },
  {
   "cell_type": "code",
   "execution_count": 2,
   "id": "10011d74-132b-41f0-930d-de264dd8f567",
   "metadata": {},
   "outputs": [
    {
     "data": {
      "text/plain": [
       "0.05"
      ]
     },
     "execution_count": 2,
     "metadata": {},
     "output_type": "execute_result"
    }
   ],
   "source": [
    "δ = 0.0001\n",
    "ϕ = 0.05"
   ]
  },
  {
   "cell_type": "markdown",
   "id": "b9a8ea19-7cca-45af-bc64-87631eb4cf17",
   "metadata": {},
   "source": [
    "Podemos redifinir constantes da própria linguagem, por exemplo, $\\pi$"
   ]
  },
  {
   "cell_type": "code",
   "execution_count": 3,
   "id": "97fab4d4-6db3-4a50-b556-9a5205d744ce",
   "metadata": {},
   "outputs": [
    {
     "data": {
      "text/plain": [
       "2.3"
      ]
     },
     "execution_count": 3,
     "metadata": {},
     "output_type": "execute_result"
    }
   ],
   "source": [
    "pi = 2.3"
   ]
  },
  {
   "cell_type": "markdown",
   "id": "e0bf4713-4c56-42c4-a7ce-29bcdd0f462c",
   "metadata": {},
   "source": [
    "***Atenção***: Não é aconselhável fazer isto! E caso eu usasse a constante $\\pi$ e depois tentasse redifini-la, ia dar um erro."
   ]
  },
  {
   "cell_type": "markdown",
   "id": "c3942182-704b-47c6-8295-ae2ec358c5f8",
   "metadata": {},
   "source": [
    "## Nomes permitidos\n",
    "\n",
    "Ao contrário da grande parte das linguagens, Julia permite-nos definir as variáveis como bem entendermos, sendo a principal restrição o uso de nomes de palavras reservadas, como: *else*, *for* etc.\n",
    "\n",
    "Também é possível definir operadores como funções específicas, por exemplo, o nosso método `sum` pode ser associado à variável $\\Sigma$."
   ]
  },
  {
   "cell_type": "code",
   "execution_count": 4,
   "id": "4a512bea-ca17-4582-90eb-09d9eb3064b9",
   "metadata": {},
   "outputs": [
    {
     "data": {
      "text/plain": [
       "15"
      ]
     },
     "execution_count": 4,
     "metadata": {},
     "output_type": "execute_result"
    }
   ],
   "source": [
    "Σ = sum\n",
    "\n",
    "Σ([1,2,3,4,5])"
   ]
  },
  {
   "cell_type": "markdown",
   "id": "edfb4325-7d19-491e-bf6b-27286d02bed5",
   "metadata": {},
   "source": [
    "Assim como posso definir que o operador `+` agora calcule o quadrado do número passado como argumento."
   ]
  },
  {
   "cell_type": "code",
   "execution_count": 5,
   "id": "4f6073d9-9a60-47ce-ba2b-880ab557f8bb",
   "metadata": {},
   "outputs": [
    {
     "data": {
      "text/plain": [
       "225"
      ]
     },
     "execution_count": 5,
     "metadata": {},
     "output_type": "execute_result"
    }
   ],
   "source": [
    "+ = (x -> x^2)\n",
    "\n",
    "+(15)"
   ]
  },
  {
   "cell_type": "markdown",
   "id": "c06bf1f9-81fa-43ec-aa8f-f852865716df",
   "metadata": {},
   "source": [
    "\"Com grande poder vem grande responsabilidade\", levando isso em consideração quando fazemos cálculos é sempre bom deixar um espaço entre operadores e variáveis, para que Julia não pense que estamos a chamar uma variável, cujo nome é a junção do operador e do nome que definimos a variável, por exemplo: `+var`.\n",
    "\n",
    "Resumo:\n",
    "***Deixar sempre espaços entre operadores e variáveis***"
   ]
  },
  {
   "cell_type": "markdown",
   "id": "c954b476-dd4e-4697-9760-a530c09a2cac",
   "metadata": {},
   "source": [
    "## Convenções\n",
    "\n",
    "Linguagens tendem a ter convenções para a nomenclatura de variáveis, funções e classes ... (esqueçam classes em Julia).\n",
    "\n",
    "Aqui vão as convenções citada na [documentação](https://docs.julialang.org/en/v1/manual/variables/):\n",
    "\n",
    "* Nomes de variáveis em minúsculas\n",
    "\n",
    "* Para separar palavras em nomes de variáveis, fazemos uso de underscores ('\\_'), mas é desencorajado o seu uso, a menos que o nome seja tão chato de ler que fique melhor utilizando '_'\n",
    "\n",
    "* Nomes de *Types* e *Modules* começam com letra maiúscula e a separação de palavras é feita com um \"semi-camelCase\" (LetraMaiusculaEmCadaPalavra)\n",
    "\n",
    "* Nomes de *functions* e *macros* são em minúsculas e sem underscores ('_')\n",
    "\n",
    "* Quando funções têm um '!' no fim do nome, siginifica que elas modificam os argumentos diretamente, não necessitando de retornar algo. Equivalente ao parâmetro `inplace` nos métodos da biblioteca Pandas."
   ]
  }
 ],
 "metadata": {
  "kernelspec": {
   "display_name": "Julia 1.6.1",
   "language": "julia",
   "name": "julia-1.6"
  },
  "language_info": {
   "file_extension": ".jl",
   "mimetype": "application/julia",
   "name": "julia",
   "version": "1.6.1"
  }
 },
 "nbformat": 4,
 "nbformat_minor": 5
}
