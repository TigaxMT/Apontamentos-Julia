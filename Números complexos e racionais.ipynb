{
 "cells": [
  {
   "cell_type": "markdown",
   "id": "16d8aed1-84ee-4df3-83b9-e411c4abecaf",
   "metadata": {},
   "source": [
    "# Números complexos e racionais\n",
    "\n",
    "***DISCLAIMER: Este notebook foi escrito com base no que li [neste](https://docs.julialang.org/en/v1/manual/complex-and-rational-numbers//) capítulo do manual***\n",
    "\n",
    "\n",
    "## Números complexos\n",
    "Até hoje nunca necessitei de utilizar números complexos e também nunca tive a oportunidade de os aprender na escola. No entanto, fiquei curioso e encontrei uma playlist incrível no youtube que explica de onde surgiram e como funcionam. Deixo aqui o [link](https://www.youtube.com/playlist?list=PLiaHhY2iBX9g6KIvZ_703G3KJXapKkNaF) e recomendo a todos a verem."
   ]
  },
  {
   "cell_type": "markdown",
   "id": "598ce4c4-80d2-4d28-99dc-1b063385d03e",
   "metadata": {},
   "source": [
    "Se eu tiver este número: $5 + 3i$ - Eu sei que ele é um número complexo e terá uma parte real e outra imaginária. No caso a parte real é o número $5$ e a parte imaginária é o número $3$.\n",
    "\n",
    "Em Julia, em vez do $i$ iremos usar o $im$, referente à parte imaginária que na realidade representa: $\\sqrt{-1}$."
   ]
  },
  {
   "cell_type": "code",
   "execution_count": 1,
   "id": "bcdf601b-b5b5-429a-8884-122dd346cfb5",
   "metadata": {},
   "outputs": [
    {
     "name": "stdout",
     "output_type": "stream",
     "text": [
      "Multiplicação: (4-3im) x (7 + 1im) = 31 - 17im\n",
      "\n",
      "Divisão: (4-3im) / (7 + 1im) = 0.5 - 0.49999999999999994im\n",
      "\n",
      "Adição: (4-3im) + (7 + 1im) = 11 - 2im\n",
      "\n",
      "Subtração: (4-3im) - (7 + 1im) = -3 - 4im\n",
      "\n",
      "Exponenciação: (4-3im)^2 = 7 - 24im\n"
     ]
    }
   ],
   "source": [
    "# Podemos realizar todo o tipo de operação em números complexos\n",
    "\n",
    "println(\"Multiplicação: (4-3im) x (7 + 1im) = \", (4-3im) * (7 + 1im))\n",
    "println(\"\\nDivisão: (4-3im) / (7 + 1im) = \", (4-3im) / (7 + 1im))\n",
    "println(\"\\nAdição: (4-3im) + (7 + 1im) = \", (4-3im) + (7 + 1im))\n",
    "println(\"\\nSubtração: (4-3im) - (7 + 1im) = \", (4-3im) - (7 + 1im))\n",
    "println(\"\\nExponenciação: (4-3im)^2 = \", (4-3im)^2)"
   ]
  },
  {
   "cell_type": "markdown",
   "id": "ee103078-3c6d-48e8-813b-8cb8db5ff76a",
   "metadata": {},
   "source": [
    "Também podem-se fazer operações entre números complexos e reais, Julia encarregar-se-á de promover os operandos de tipos diferentes."
   ]
  },
  {
   "cell_type": "code",
   "execution_count": 2,
   "id": "a9040fa4-d022-43b4-ad66-41baf0e7d16d",
   "metadata": {},
   "outputs": [
    {
     "data": {
      "text/plain": [
       "0.7999999999999998 + 4.0im"
      ]
     },
     "execution_count": 2,
     "metadata": {},
     "output_type": "execute_result"
    }
   ],
   "source": [
    "(4 + 4im) - 3.2"
   ]
  },
  {
   "cell_type": "markdown",
   "id": "4d960bcb-62df-4ad8-bf9c-67073e674fb0",
   "metadata": {},
   "source": [
    "### Funções padrões\n",
    "\n",
    "Ao trabalharmos com números complexos pode ser útil conseguirmos separar a parte real da imaginária e podemos fazê-lo com as funções `real()` e `imag()`."
   ]
  },
  {
   "cell_type": "code",
   "execution_count": 3,
   "id": "bf0505e3-8c6d-4b3a-96bf-01516628df86",
   "metadata": {},
   "outputs": [
    {
     "data": {
      "text/plain": [
       "17"
      ]
     },
     "execution_count": 3,
     "metadata": {},
     "output_type": "execute_result"
    }
   ],
   "source": [
    "real(17 - 4im)"
   ]
  },
  {
   "cell_type": "code",
   "execution_count": 4,
   "id": "06c33665-6612-4c1b-b5cf-ff5c5af97208",
   "metadata": {},
   "outputs": [
    {
     "data": {
      "text/plain": [
       "-9"
      ]
     },
     "execution_count": 4,
     "metadata": {},
     "output_type": "execute_result"
    }
   ],
   "source": [
    "imag(1 - 9im)"
   ]
  },
  {
   "cell_type": "markdown",
   "id": "8bb6b4cb-d76f-4d37-b857-1e907739756e",
   "metadata": {},
   "source": [
    "O conjugado de um número complexo (basicamente é trocar o sinal da parte imaginária, fazendo com que o vetor que representa o número complexo no plano complexo, mantenha a magnitude e que o ângulo fase seja invertido).\n",
    "\n",
    "<img src=\"https://www.electronics-tutorials.ws/wp-content/uploads/2018/05/accircuits-acp62.gif\" alt=\"Imagem ilustrativa do conjugado\">\n",
    "\n",
    "Podemos obtê-lo utilizando a função `conj()`."
   ]
  },
  {
   "cell_type": "code",
   "execution_count": 5,
   "id": "13846f19-fe10-47f7-bf21-92a07a745ef4",
   "metadata": {},
   "outputs": [
    {
     "data": {
      "text/plain": [
       "5 + 4im"
      ]
     },
     "execution_count": 5,
     "metadata": {},
     "output_type": "execute_result"
    }
   ],
   "source": [
    "conj(5 - 4im)"
   ]
  },
  {
   "cell_type": "markdown",
   "id": "670c1e8b-22ed-49bb-943d-804aaf98eaef",
   "metadata": {},
   "source": [
    "O valor absoluto de um número complexo é a magnitude do vetor que representa o número complexo e pode ser calculado através da função `abs()`.\n",
    "\n",
    "Porém a função `abs2()` pode ser útil já que ela faz a raiz quadrada do valor absoluto que irá cortar com a raiz de $\\sqrt{-1}$ do $im$."
   ]
  },
  {
   "cell_type": "code",
   "execution_count": 6,
   "id": "2c7ff728-9979-4893-9395-225a83ff0f62",
   "metadata": {},
   "outputs": [
    {
     "name": "stdout",
     "output_type": "stream",
     "text": [
      "|(3 - 1im)| = 3.1622776601683795\n",
      "|(3 - 1im)|^2 = 10\n"
     ]
    }
   ],
   "source": [
    "println(\"|(3 - 1im)| = \", abs((3 - 1im)))\n",
    "println(\"|(3 - 1im)|^2 = \", abs2((3 - 1im)))"
   ]
  },
  {
   "cell_type": "markdown",
   "id": "0e87399b-4477-460a-af25-7aad798fcb68",
   "metadata": {},
   "source": [
    "Por fim outra função útil é a que retorna o ângulo (também chamado de ângulo fase) formado pelo eixo horizontal (eixo dos números reais) e o vetor do número complexo.\n",
    "\n",
    "Para retornar esse ângulo utilizamos a função `angle()` que retornará o ângulo em radianos."
   ]
  },
  {
   "cell_type": "code",
   "execution_count": 7,
   "id": "50175427-3f41-433b-aceb-104d27fb01ef",
   "metadata": {},
   "outputs": [
    {
     "data": {
      "text/plain": [
       "-0.3217505543966422"
      ]
     },
     "execution_count": 7,
     "metadata": {},
     "output_type": "execute_result"
    }
   ],
   "source": [
    "angle((3 - 1im))"
   ]
  },
  {
   "cell_type": "markdown",
   "id": "a62808c7-8a47-4f82-938c-d135e44bd154",
   "metadata": {},
   "source": [
    "Todas as outras funções mostradas no notebook de \"Operações matemáticas\" funcionam com números complexos.\n",
    "\n",
    "\n",
    "Algo interessante mostrado no manual é que se fizermos: $\\sqrt{-1}$ - dará um erro, pois não há raiz de -1 no domíno dos números reais, $\\mathbb{R}$.\n",
    "\n",
    "Porém $\\sqrt{(-1 + 0im)}$ que é exatamente igual a $\\sqrt{-1}$ (isto porque $0im = 0 \\cdot \\sqrt{-1}$, fazendo com que, no fim, apenas reste o número real $-1$), resultando em: $0.0 + 1.0im$.\n",
    "\n",
    "Ou seja, mesmo que: $-1 = -1 + 0im$ - Julia sabe que quando pedimos para calcular $\\sqrt{-1}$, estamos a trabalhar no domínio dos números $\\mathbb{R}$. E quando pedimos para calcular $\\sqrt{(-1 + 0im)}$, ela sabe que estamos a trabalhar no domínio dos números complexos, $\\mathbb{C}$."
   ]
  },
  {
   "cell_type": "markdown",
   "id": "e070a028-c63f-45d5-baa0-789dc02bf6a9",
   "metadata": {},
   "source": [
    "### Construir números complexos\n",
    "\n",
    "Imaginemos que temos 2 variáveis, em que ambas têm números reais. E agora queremos criar um número complexo com base nos valores de ambas as variáveis. Sendo `a` e `b` as nossas variáveis, fazer `a + bim` não irá funcionar!\n",
    "\n",
    "MAS se fizermos a multiplicação explícita, irá funcionar sim: "
   ]
  },
  {
   "cell_type": "code",
   "execution_count": 8,
   "id": "52087e15-f6e2-436a-9c04-f5bafe0ee8a9",
   "metadata": {},
   "outputs": [
    {
     "data": {
      "text/plain": [
       "2 + 5im"
      ]
     },
     "execution_count": 8,
     "metadata": {},
     "output_type": "execute_result"
    }
   ],
   "source": [
    "a = 2\n",
    "b = 5\n",
    "\n",
    "a + b*im"
   ]
  },
  {
   "cell_type": "markdown",
   "id": "37cc65c0-d74a-4635-906e-941cb1338c73",
   "metadata": {},
   "source": [
    "A forma mais correta de o fazer é utilizando a função `complex()`."
   ]
  },
  {
   "cell_type": "code",
   "execution_count": 9,
   "id": "cc65ec0a-a5b9-41f9-9132-7c9127cf1995",
   "metadata": {},
   "outputs": [
    {
     "data": {
      "text/plain": [
       "2 + 5im"
      ]
     },
     "execution_count": 9,
     "metadata": {},
     "output_type": "execute_result"
    }
   ],
   "source": [
    "complex(a, b)"
   ]
  },
  {
   "cell_type": "markdown",
   "id": "c197233d-1404-43c8-9fe5-59a6f4c32d76",
   "metadata": {},
   "source": [
    "Termino dizendo que é possível construir números complexos com os nossos `Floats` especiais, como `NaN` e `Inf`."
   ]
  },
  {
   "cell_type": "code",
   "execution_count": 10,
   "id": "7ae699f5-385b-44cb-a7d7-384bf721c27b",
   "metadata": {},
   "outputs": [
    {
     "data": {
      "text/plain": [
       "4.0 + Inf*im"
      ]
     },
     "execution_count": 10,
     "metadata": {},
     "output_type": "execute_result"
    }
   ],
   "source": [
    "complex(4, Inf)"
   ]
  },
  {
   "cell_type": "markdown",
   "id": "311cb445-5427-4c39-8b1a-42dc097054cc",
   "metadata": {},
   "source": [
    "## Números Racionais\n",
    "\n",
    "\n",
    "Já tinha referido este tipo de números no notebook \"Operações matemáticas\", referindo o operador `//`.\n",
    "\n",
    "Novamente, digo que esse operador é como o traço de fração que separa o numerador do denominador."
   ]
  },
  {
   "cell_type": "code",
   "execution_count": 11,
   "id": "9de77346-540a-47ac-a5e7-5af5544a54db",
   "metadata": {},
   "outputs": [
    {
     "data": {
      "text/plain": [
       "1//3"
      ]
     },
     "execution_count": 11,
     "metadata": {},
     "output_type": "execute_result"
    }
   ],
   "source": [
    "1//3"
   ]
  },
  {
   "cell_type": "markdown",
   "id": "1fc8d91f-8d77-4205-b4a4-7562b8c4d469",
   "metadata": {},
   "source": [
    "A transformação do racional para a sua forma irredutível é feita automaticamente."
   ]
  },
  {
   "cell_type": "code",
   "execution_count": 12,
   "id": "bf1a4217-919b-4e6a-9953-a81d5ccebc98",
   "metadata": {},
   "outputs": [
    {
     "data": {
      "text/plain": [
       "2//3"
      ]
     },
     "execution_count": 12,
     "metadata": {},
     "output_type": "execute_result"
    }
   ],
   "source": [
    "# 6//9 pode ser reduzido para 2//3\n",
    "6//9"
   ]
  },
  {
   "cell_type": "code",
   "execution_count": 13,
   "id": "aec3e902-fb00-455a-a56c-e84007cc0145",
   "metadata": {},
   "outputs": [
    {
     "data": {
      "text/plain": [
       "true"
      ]
     },
     "execution_count": 13,
     "metadata": {},
     "output_type": "execute_result"
    }
   ],
   "source": [
    "2//3 == 6//9"
   ]
  },
  {
   "cell_type": "markdown",
   "id": "6798c3a5-5d7b-453b-9dc1-8e386f57cc31",
   "metadata": {},
   "source": [
    "Assim como nos números complexos, aqui também podemos obter as \"partes\" do racional, que no caso são o numerador (obtido por `numerator()`) e o denominador (obtido por `denominator()`)."
   ]
  },
  {
   "cell_type": "code",
   "execution_count": 14,
   "id": "d1348ed1-17fe-4df5-846d-a3e562ecedfc",
   "metadata": {},
   "outputs": [
    {
     "data": {
      "text/plain": [
       "2"
      ]
     },
     "execution_count": 14,
     "metadata": {},
     "output_type": "execute_result"
    }
   ],
   "source": [
    "numerator(2//3)"
   ]
  },
  {
   "cell_type": "code",
   "execution_count": 15,
   "id": "0067712e-400c-40c9-ad3b-11e381a589cc",
   "metadata": {},
   "outputs": [
    {
     "data": {
      "text/plain": [
       "3"
      ]
     },
     "execution_count": 15,
     "metadata": {},
     "output_type": "execute_result"
    }
   ],
   "source": [
    "denominator(2//3)"
   ]
  },
  {
   "cell_type": "markdown",
   "id": "d82e0ef2-c55a-4b5f-83bb-f12f2f74329e",
   "metadata": {},
   "source": [
    "Todas as aritméticas que fazemos com a representação literal dos números, podemos aplicá-las aos racionais, assim como as comparações."
   ]
  },
  {
   "cell_type": "code",
   "execution_count": 16,
   "id": "035ef50d-6400-4653-84e9-e244474956c2",
   "metadata": {},
   "outputs": [
    {
     "data": {
      "text/plain": [
       "true"
      ]
     },
     "execution_count": 16,
     "metadata": {},
     "output_type": "execute_result"
    }
   ],
   "source": [
    "1//5 < 1//3"
   ]
  },
  {
   "cell_type": "markdown",
   "id": "0d6a605f-b8ed-452f-8f95-17ad6c5def0e",
   "metadata": {},
   "source": [
    "Também podemos converter racionais, em números decimais (`Floats`), utilizando a função `float()`:"
   ]
  },
  {
   "cell_type": "code",
   "execution_count": 17,
   "id": "f8b132b1-a756-45ad-929f-c51fe3d0d94d",
   "metadata": {},
   "outputs": [
    {
     "data": {
      "text/plain": [
       "0.6666666666666666"
      ]
     },
     "execution_count": 17,
     "metadata": {},
     "output_type": "execute_result"
    }
   ],
   "source": [
    "float(2//3)"
   ]
  },
  {
   "cell_type": "markdown",
   "id": "e97ace6f-d7e1-43f9-858c-2d91913a82e0",
   "metadata": {},
   "source": [
    "Pode-se fazer operações aritméticas entre racionais e outros tipos numéricos, já que Julia fará as devidas promoções de tipos ao longo dos cálculos."
   ]
  }
 ],
 "metadata": {
  "kernelspec": {
   "display_name": "Julia 1.6.1",
   "language": "julia",
   "name": "julia-1.6"
  },
  "language_info": {
   "file_extension": ".jl",
   "mimetype": "application/julia",
   "name": "julia",
   "version": "1.6.1"
  }
 },
 "nbformat": 4,
 "nbformat_minor": 5
}
