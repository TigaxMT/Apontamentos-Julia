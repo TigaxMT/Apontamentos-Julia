{
 "cells": [
  {
   "cell_type": "markdown",
   "id": "859cefbe-74da-4c6c-99e2-c22b683a3fd7",
   "metadata": {},
   "source": [
    "# Operações matemáticas\n",
    "\n",
    "***DISCLAIMER: Este notebook foi escrito com base no que li [neste](https://docs.julialang.org/en/v1/manual/mathematical-operations/) capítulo do manual***\n",
    "\n",
    "Bem aqui não vou falar das operações básicas mas sim daquilo que é novidade para mim.\n",
    "\n",
    "Começando por `//` que no Python simplesmente remove os valores decimais.\n",
    "\n",
    "Aqui em Julia `//` é o mesmo que o traço de fração: $\\frac{numerador}{denominador}$, ou seja, podemos criar racionais.\n",
    "\n",
    "Além disso, Julia já transforma as frações na sua forma irredutível."
   ]
  },
  {
   "cell_type": "code",
   "execution_count": 2,
   "id": "8a1caae1-a9f3-48a0-a305-a4e9f6976159",
   "metadata": {},
   "outputs": [
    {
     "data": {
      "text/plain": [
       "3//2"
      ]
     },
     "execution_count": 2,
     "metadata": {},
     "output_type": "execute_result"
    }
   ],
   "source": [
    "# 6//4 vai virar 3//2, pois é a sua forma irredutível\n",
    "6//4"
   ]
  },
  {
   "cell_type": "code",
   "execution_count": 3,
   "id": "dd7dbb36-7560-4dc9-9a7f-dede379ebe7d",
   "metadata": {},
   "outputs": [
    {
     "data": {
      "text/plain": [
       "Rational{Int64}"
      ]
     },
     "execution_count": 3,
     "metadata": {},
     "output_type": "execute_result"
    }
   ],
   "source": [
    "typeof(6//4)"
   ]
  },
  {
   "cell_type": "markdown",
   "id": "aff4de31-9721-4bbf-ae59-59710b55d892",
   "metadata": {},
   "source": [
    "## Operadores Bitwise\n",
    "\n",
    "Eu não uso muito os operadores bitwise (costumo usar mais o booleanos: `||`,`&&` e `!`), mas há 2 operadores que me chamaram a atenção.\n",
    "\n",
    "O XOR definido por `\\xor+TAB` e o shift lógico `>>>` diferente do shift aritmético à direita `>>`.\n",
    "\n",
    "Para diferenciar os o shift lógico do aritmético, gostei da resposta escolhida [aqui](https://stackoverflow.com/questions/44694957/the-difference-between-logical-shift-right-arithmetic-shift-right-and-rotate-r).\n",
    "\n",
    "É sempre bom lembrar que shift aritmético à esquerda é o mesmo que multiplicar o número por 2. Já o shift aritmético à direita é o mesmo que dividir o número por 2.\n",
    "\n",
    "\n",
    "***Nota: Operações bitwise só funcionam com inteiros!***"
   ]
  },
  {
   "cell_type": "code",
   "execution_count": 4,
   "id": "22e97f4f-eb27-4b10-97d8-d0ae31781a5f",
   "metadata": {},
   "outputs": [
    {
     "name": "stdout",
     "output_type": "stream",
     "text": [
      "6\n",
      "12\n",
      "24\n"
     ]
    }
   ],
   "source": [
    "x = 3\n",
    "\n",
    "# é o mesmo que x * 2\n",
    "println( x << 1)\n",
    "\n",
    "# é o mesmo que x * 2 * 2\n",
    "println( x << 2)\n",
    "\n",
    "# é o mesmo que x * 2 * 2 * 2\n",
    "println( x << 3)"
   ]
  },
  {
   "cell_type": "code",
   "execution_count": 5,
   "id": "d8b77edb-6cd1-4cc7-8981-47db1a94b23a",
   "metadata": {},
   "outputs": [
    {
     "name": "stdout",
     "output_type": "stream",
     "text": [
      "6\n",
      "3\n",
      "1\n"
     ]
    }
   ],
   "source": [
    "x = 12\n",
    "\n",
    "# é o mesmo que x / 2\n",
    "println( x >> 1)\n",
    "\n",
    "# é o mesmo que x / 2 / 2\n",
    "println( x >> 2)\n",
    "\n",
    "# é o mesmo que x / 2 / 2 / 2, \n",
    "# só que aqui a parte decimal é descartada devido a só se trabalhar com inteiros\n",
    "println( x >> 3)"
   ]
  },
  {
   "cell_type": "markdown",
   "id": "3d48d3b8-30af-4e9a-8f41-c40ab2ab4f64",
   "metadata": {},
   "source": [
    "## Operações elemento a elemento\n",
    "\n",
    "\n",
    "Muitas vezes vamos querer fazer certas operações dentro de arrays e matrizes, por exemplo, fazer o quadrado de todos os elementos de um array. Elevar um array ao quadrado vai disparar um erro, pois matematicamente não faz sentido.\n",
    "\n",
    "Porém há algo denominado de *broadcasting*. Isto é, ele pega, neste caso, em um escalar ou número e faz uma dada operação, que neste caso é a exponenciação, em cada elemento do array.\n",
    "\n",
    "`[1,2,3,4] .^ 2` == `[1^2, 2^2, 3^2, 4^2]`\n",
    "\n",
    "\n",
    "O `.` antes de uma operação  siginfica *broadcasting*, também é chamada de \"dot call\"."
   ]
  },
  {
   "cell_type": "code",
   "execution_count": 6,
   "id": "40dee237-8566-4a57-8fa7-3ff397d7a7cc",
   "metadata": {},
   "outputs": [
    {
     "data": {
      "text/plain": [
       "4-element Vector{Int64}:\n",
       "   1\n",
       "  16\n",
       "  81\n",
       " 256"
      ]
     },
     "execution_count": 6,
     "metadata": {},
     "output_type": "execute_result"
    }
   ],
   "source": [
    "x = [1,2,3,4]\n",
    "\n",
    "x .^ 4"
   ]
  },
  {
   "cell_type": "code",
   "execution_count": 7,
   "id": "c11b1098-d6b2-4cf6-bd77-f1fb168c7e30",
   "metadata": {},
   "outputs": [
    {
     "data": {
      "text/plain": [
       "3-element Vector{Vector{Int64}}:\n",
       " [1, 2]\n",
       " [2, 3]\n",
       " [4, 5]"
      ]
     },
     "execution_count": 7,
     "metadata": {},
     "output_type": "execute_result"
    }
   ],
   "source": [
    "M = [\n",
    "    \n",
    "    [1,2],\n",
    "    [2,3],\n",
    "    [4,5]\n",
    "]"
   ]
  },
  {
   "cell_type": "code",
   "execution_count": 8,
   "id": "89b04113-b235-4447-8060-878f721c74c7",
   "metadata": {},
   "outputs": [
    {
     "data": {
      "text/plain": [
       "1-element Vector{Vector{Int64}}:\n",
       " [1, 2]"
      ]
     },
     "execution_count": 8,
     "metadata": {},
     "output_type": "execute_result"
    }
   ],
   "source": [
    "v = [ [1,2] ]"
   ]
  },
  {
   "cell_type": "code",
   "execution_count": 9,
   "id": "b1c83aa1-40e8-4f58-938f-a37cc46043fd",
   "metadata": {},
   "outputs": [
    {
     "data": {
      "text/plain": [
       "3-element Vector{Vector{Int64}}:\n",
       " [2, 4]\n",
       " [3, 5]\n",
       " [5, 7]"
      ]
     },
     "execution_count": 9,
     "metadata": {},
     "output_type": "execute_result"
    }
   ],
   "source": [
    "# Broadcasting entre uma matriz 3x2 e array 1x2\n",
    "# Temos de ter o mesmo número de linhas ou o mesmo número de colunas\n",
    "M .+ v"
   ]
  },
  {
   "cell_type": "markdown",
   "id": "ec45ac71-8a6d-4aa0-a688-5fd02ae19a69",
   "metadata": {},
   "source": [
    "Para verem como o broadcasting é bom demais, imaginem esta expressão:\n",
    "\n",
    "$2 \\cdot A^2 + \\sin {A}, A \\in \\mathbb{R}^{m \\times n}$\n",
    "\n",
    "Já estão a imaginar o loop que vão ter de fazer para aplicar todas as aritméticas a cada elemente da matriz $A$ ... Pois é, não vai ser preciso, pois esta sintaxe \"dos pontos\" `.` (prefiro chamar de broadcasting), pode ser aninhada! Ficaria algo deste género:\n",
    "\n",
    "`2 .* A.^2 .+ sin.(A)`\n",
    "\n",
    "\n",
    "Também podem usar o `@.` ele converte todas as operações de uma expressão em broadcasting:\n",
    "\n",
    "`@. 2A^2 + sin(A)`"
   ]
  },
  {
   "cell_type": "markdown",
   "id": "aa46331f-ca13-43ad-8ad0-329d98982d88",
   "metadata": {},
   "source": [
    "## Comparações com Números decimais \"especiais\"\n",
    "\n",
    "Os nossos amigos `Floats` comportam-se da mesma forma que os inteiros, porém `Inf`, `-Inf` e `NaN` são Floats e têm um comportamento um pouco diferente ... Na realidade o `NaN` é que tem um comportamento diferente.\n",
    "\n",
    "* Comecemos pelos: 0.0 e -0.0, que são iguais mas 0.0 NÃO é maior que -0.0\n",
    "* Inf é maior que qualquer coisa, exceto NaN\n",
    "* -Inf é menor que qualquer coisa, exceto NaN\n",
    "* As comparações com NaN são sempre falsas, incluindo com ele mesmo!\n",
    "\n",
    "\n",
    "Bem isto do `NaN` é estranho, mas gostaria que pensassem um pouco no seu significado ...\n",
    "NaN significa ***Not a Number*** (em português, Não é um Número) e agora pensem, quantas coisas podem não ser um número? Várias! Eu não sou um número (para o governo sou, mas esqueçamos isso), o meu quarto não é um número, o planeta não é um número!\n",
    "\n",
    "Ao dizermos `NaN` podemos estar-nos a referir a qualquer coisa que não é um número, e Julia não sabe, pois só referimo-nos a *NaN*."
   ]
  },
  {
   "cell_type": "code",
   "execution_count": 10,
   "id": "2e01805b-108e-4067-9a50-c63b40031b9b",
   "metadata": {},
   "outputs": [
    {
     "data": {
      "text/plain": [
       "false"
      ]
     },
     "execution_count": 10,
     "metadata": {},
     "output_type": "execute_result"
    }
   ],
   "source": [
    "NaN == NaN"
   ]
  },
  {
   "cell_type": "markdown",
   "id": "0a114594-558a-496b-90b6-ec992fe35ba5",
   "metadata": {},
   "source": [
    "Caso queiram verificar se algo é infinito ou finito:"
   ]
  },
  {
   "cell_type": "code",
   "execution_count": 11,
   "id": "c02339fa-7399-442f-a26b-62ff071fc4f4",
   "metadata": {},
   "outputs": [
    {
     "data": {
      "text/plain": [
       "true"
      ]
     },
     "execution_count": 11,
     "metadata": {},
     "output_type": "execute_result"
    }
   ],
   "source": [
    "# Verificar se número é finito\n",
    "isfinite(2.133333)"
   ]
  },
  {
   "cell_type": "code",
   "execution_count": 12,
   "id": "a3be767c-1b9a-4581-b3fe-cd0eece1e4b5",
   "metadata": {},
   "outputs": [
    {
     "data": {
      "text/plain": [
       "true"
      ]
     },
     "execution_count": 12,
     "metadata": {},
     "output_type": "execute_result"
    }
   ],
   "source": [
    "# Verificar se número é infinito\n",
    "isinf(-Inf)"
   ]
  },
  {
   "cell_type": "markdown",
   "id": "f7f65f6c-9660-4425-ab33-2cf8ceacf733",
   "metadata": {},
   "source": [
    "Também podem saber se algo é NaN."
   ]
  },
  {
   "cell_type": "code",
   "execution_count": 13,
   "id": "bceaf600-9190-4cd9-a339-9592b7463191",
   "metadata": {},
   "outputs": [
    {
     "data": {
      "text/plain": [
       "true"
      ]
     },
     "execution_count": 13,
     "metadata": {},
     "output_type": "execute_result"
    }
   ],
   "source": [
    "isnan(NaN)"
   ]
  },
  {
   "cell_type": "markdown",
   "id": "ab6c341a-d95e-47e8-b87b-c66bf55c68c0",
   "metadata": {},
   "source": [
    "E caso tenham 2 arrays iguais, porém com NaNs dentro, se compararem com `==` vai dar falso, porque como explicado acima `NaN != NaN`. MAS, Julia tem uma função que realmente verifica a semalhança entre 2 objetos (mesmo que tenham NaNs).\n",
    "\n",
    "Ela consegue fazer essa verificação, pois em background ela faz um hash de cada objeto e isso dará hashes diferentes caso haja realmente valores diferentes, se não os hashes serão iguais e, consequentemente, retornará um `true`."
   ]
  },
  {
   "cell_type": "code",
   "execution_count": 14,
   "id": "35539cc2-e4a1-4182-8daa-43055c05d50c",
   "metadata": {},
   "outputs": [
    {
     "data": {
      "text/plain": [
       "false"
      ]
     },
     "execution_count": 14,
     "metadata": {},
     "output_type": "execute_result"
    }
   ],
   "source": [
    "[23,34,NaN] == [23,34,NaN]"
   ]
  },
  {
   "cell_type": "code",
   "execution_count": 17,
   "id": "7ae2d171-3369-40fc-820b-216bdcafa4e3",
   "metadata": {},
   "outputs": [
    {
     "data": {
      "text/plain": [
       "true"
      ]
     },
     "execution_count": 17,
     "metadata": {},
     "output_type": "execute_result"
    }
   ],
   "source": [
    "# Função que verifica se 2 objetos, neste caso arrays, são iguais\n",
    "isequal([23,34,NaN], [23,34,NaN])"
   ]
  },
  {
   "cell_type": "markdown",
   "id": "a1e1b3ac-9be5-4f68-a498-3ed47de322fc",
   "metadata": {},
   "source": [
    "Gostava de referir um operador de comparação que eu acho super útil, o aproximadamente: $\\approx$\n",
    "\n",
    "Ele verifica se 2 valores são aproximados"
   ]
  },
  {
   "cell_type": "code",
   "execution_count": 16,
   "id": "223a323c-2e20-4e81-ae5e-774bc8dfae4c",
   "metadata": {},
   "outputs": [
    {
     "name": "stdout",
     "output_type": "stream",
     "text": [
      "0.30000000000000004\n",
      "false\n",
      "true\n"
     ]
    }
   ],
   "source": [
    "println( 0.1 + 0.2 )\n",
    "\n",
    "# Pelo resultado acima vimos que não é bem igual a 0.3\n",
    "println( 0.1 + 0.2 == 0.3)\n",
    "\n",
    "# Mas é beeeemmm próximo, certo?\n",
    "println( 0.1 + 0.2 ≈ 0.3)"
   ]
  },
  {
   "cell_type": "markdown",
   "id": "ef43473a-72c3-4a86-88a7-172151004c4e",
   "metadata": {},
   "source": [
    "## Cadeia de comparações\n",
    "\n",
    "Podemos encadear várias comparações sem recorrer ao operador boolean0 `&&` ou, em caso de comparações elemento a elemento, ao operador bitwise `&`."
   ]
  },
  {
   "cell_type": "code",
   "execution_count": 18,
   "id": "6525befd-4b0f-46b4-9ff7-bea0fbca071a",
   "metadata": {},
   "outputs": [
    {
     "data": {
      "text/plain": [
       "true"
      ]
     },
     "execution_count": 18,
     "metadata": {},
     "output_type": "execute_result"
    }
   ],
   "source": [
    "3 == 3 > 2 >= 1 == 1"
   ]
  },
  {
   "cell_type": "markdown",
   "id": "a4063867-7b43-4112-821a-5a8876553624",
   "metadata": {},
   "source": [
    "Funciona também com broadcasting"
   ]
  },
  {
   "cell_type": "code",
   "execution_count": 45,
   "id": "1dcad16b-abdb-418e-963d-6afe0ec96823",
   "metadata": {},
   "outputs": [
    {
     "data": {
      "text/plain": [
       "2-element BitVector:\n",
       " 1\n",
       " 1"
      ]
     },
     "execution_count": 45,
     "metadata": {},
     "output_type": "execute_result"
    }
   ],
   "source": [
    "a = [0.999, 0.0001]\n",
    "\n",
    "# Verificar se todos os elementos do array estão no intervalo ]0,1[\n",
    "0 .< a .< 1"
   ]
  },
  {
   "cell_type": "markdown",
   "id": "bd4d9dd2-ebcf-46fa-a8e1-dfba758b4dc4",
   "metadata": {},
   "source": [
    "A ordem das comparações ***Não é certa***"
   ]
  },
  {
   "cell_type": "code",
   "execution_count": 24,
   "id": "16e33a14-1510-4dc4-9a44-4e6acbbf1720",
   "metadata": {},
   "outputs": [
    {
     "name": "stdout",
     "output_type": "stream",
     "text": [
      "2\n",
      "1\n",
      "3\n"
     ]
    },
    {
     "data": {
      "text/plain": [
       "true"
      ]
     },
     "execution_count": 24,
     "metadata": {},
     "output_type": "execute_result"
    }
   ],
   "source": [
    "f(x) = (println(x); x)\n",
    "\n",
    "f(1) < f(2) <= f(3)"
   ]
  },
  {
   "cell_type": "markdown",
   "id": "43d10f66-03b3-4824-9212-ecdf67639736",
   "metadata": {},
   "source": [
    "Para controlar a ordem, deve-se usar explicitamente o  operador `&&`"
   ]
  },
  {
   "cell_type": "code",
   "execution_count": 25,
   "id": "77db3f80-1c1c-43e4-8435-2eb692e43b52",
   "metadata": {},
   "outputs": [
    {
     "name": "stdout",
     "output_type": "stream",
     "text": [
      "1\n",
      "2\n",
      "2\n",
      "3\n"
     ]
    },
    {
     "data": {
      "text/plain": [
       "true"
      ]
     },
     "execution_count": 25,
     "metadata": {},
     "output_type": "execute_result"
    }
   ],
   "source": [
    "f(1) < f(2) && f(2) <= f(3)"
   ]
  },
  {
   "cell_type": "markdown",
   "id": "834530ed-cf39-4af8-b62e-96fa01c4cc77",
   "metadata": {},
   "source": [
    "## Precedências e associatividades\n",
    "\n",
    "Não vou criar aqui uma tabela com as precedências com cada operador, pois isso já está disponível [aqui](https://docs.julialang.org/en/v1/manual/mathematical-operations/#Operator-Precedence-and-Associativity).\n",
    "\n",
    "Porém todos os operadores que estão no `Base` da Julia, podem ser passados para o método `operator_precedence` e assim podemos saber o nível da precedência.\n",
    "\n",
    "***Nota: Quanto maior o número maior precedência***"
   ]
  },
  {
   "cell_type": "code",
   "execution_count": 26,
   "id": "2312f202-e5eb-4474-bf66-bb71a79314f5",
   "metadata": {},
   "outputs": [
    {
     "data": {
      "text/plain": [
       "11"
      ]
     },
     "execution_count": 26,
     "metadata": {},
     "output_type": "execute_result"
    }
   ],
   "source": [
    "# Precedencia do operador +\n",
    "Base.operator_precedence(:+)"
   ]
  },
  {
   "cell_type": "code",
   "execution_count": 27,
   "id": "115012c6-f216-4f32-abfe-6c8a016b9066",
   "metadata": {},
   "outputs": [
    {
     "data": {
      "text/plain": [
       "12"
      ]
     },
     "execution_count": 27,
     "metadata": {},
     "output_type": "execute_result"
    }
   ],
   "source": [
    "# Precedencia do operador *\n",
    "Base.operator_precedence(:*)"
   ]
  },
  {
   "cell_type": "markdown",
   "id": "f2f59053-7482-4e51-80c5-fb401a4cbd54",
   "metadata": {},
   "source": [
    "Além da precedência, podemos verificar a associatividade de cada operador. A associatividade, diz-nos onde o operador precisa ser colocado, por exemplo, eu não posso colocar o `^` (operador de exponenciação) à esquerda do escalar ou da variável, a associatividade dele é à direita: `x ^ 2`.\n",
    "\n",
    "Já o operador + posso colocar à esquerda do número, à direita do número ou entre 2 números, ou seja, não há uma associatividade."
   ]
  },
  {
   "cell_type": "code",
   "execution_count": 29,
   "id": "92379b41-d209-477a-b017-572770cfd7ca",
   "metadata": {},
   "outputs": [
    {
     "data": {
      "text/plain": [
       ":right"
      ]
     },
     "execution_count": 29,
     "metadata": {},
     "output_type": "execute_result"
    }
   ],
   "source": [
    "# Associatividade do operador ^\n",
    "Base.operator_associativity(:^)"
   ]
  },
  {
   "cell_type": "code",
   "execution_count": 31,
   "id": "98dc7d7a-e573-4fa9-bd5d-c983a9715560",
   "metadata": {},
   "outputs": [
    {
     "data": {
      "text/plain": [
       ":none"
      ]
     },
     "execution_count": 31,
     "metadata": {},
     "output_type": "execute_result"
    }
   ],
   "source": [
    "# Associatividade do operador +\n",
    "Base.operator_associativity(:+)"
   ]
  },
  {
   "cell_type": "code",
   "execution_count": 32,
   "id": "93ae1c1c-5de8-44d0-8ecf-a80d3fb76aaa",
   "metadata": {},
   "outputs": [
    {
     "data": {
      "text/plain": [
       ":left"
      ]
     },
     "execution_count": 32,
     "metadata": {},
     "output_type": "execute_result"
    }
   ],
   "source": [
    "# Associatividade do operador -\n",
    "Base.operator_associativity(:-)"
   ]
  },
  {
   "cell_type": "markdown",
   "id": "165d4c66-3e4f-4316-bb48-1c254894af6c",
   "metadata": {},
   "source": [
    "## Conversões\n",
    "\n",
    "Julia tem 3 tipos de conversões possíveis:\n",
    "* O mais comum é chamar a função com o nome do `Type`, por exemplo: `Int32(42)`\n",
    "    * Também pode-se usar o método `convert(Type, variável)`\n",
    "* Pode-se usar o módulo: `x % T` - em que `T` é o `Type` que vai converter o **inteiro** `x` em outro inteiro do tipo `T` (caso o inteiro não dê para armazenar no tipo que queremos, os bits \"a mais\" serão removidos, mudando o valor de x)\n",
    "* As funções do tipo `round(Type, variable)` também podem converter valores (além de arrendonda-los primeiro)."
   ]
  },
  {
   "cell_type": "code",
   "execution_count": 33,
   "id": "5016f1a7-eefd-41b2-a71c-0ccb9f555a4c",
   "metadata": {},
   "outputs": [
    {
     "data": {
      "text/plain": [
       "0x000000000000007f"
      ]
     },
     "execution_count": 33,
     "metadata": {},
     "output_type": "execute_result"
    }
   ],
   "source": [
    "# Converter um inteiro em um inteiro de 8 bits\n",
    "UInt(127)"
   ]
  },
  {
   "cell_type": "code",
   "execution_count": 34,
   "id": "00d828b0-a354-4f36-87b6-730c53731449",
   "metadata": {},
   "outputs": [
    {
     "ename": "LoadError",
     "evalue": "InexactError: trunc(Int8, 234)",
     "output_type": "error",
     "traceback": [
      "InexactError: trunc(Int8, 234)",
      "",
      "Stacktrace:",
      " [1] throw_inexacterror(f::Symbol, #unused#::Type{Int8}, val::Int64)",
      "   @ Core .\\boot.jl:602",
      " [2] checked_trunc_sint",
      "   @ .\\boot.jl:624 [inlined]",
      " [3] toInt8",
      "   @ .\\boot.jl:639 [inlined]",
      " [4] Int8(x::Int64)",
      "   @ Core .\\boot.jl:749",
      " [5] top-level scope",
      "   @ In[34]:2",
      " [6] eval",
      "   @ .\\boot.jl:360 [inlined]",
      " [7] include_string(mapexpr::typeof(REPL.softscope), mod::Module, code::String, filename::String)",
      "   @ Base .\\loading.jl:1094"
     ]
    }
   ],
   "source": [
    "# Converter um inteiro que não pode ser representado em 8 bits\n",
    "Int8(234)"
   ]
  },
  {
   "cell_type": "code",
   "execution_count": 36,
   "id": "94193612-5f6b-4cf5-9a86-9e7c971db2dc",
   "metadata": {},
   "outputs": [
    {
     "data": {
      "text/plain": [
       "-22"
      ]
     },
     "execution_count": 36,
     "metadata": {},
     "output_type": "execute_result"
    }
   ],
   "source": [
    "# Porém se usarmos o módulo, vai funcionar MAS o nosso valor vai ser alterado devido à truncação de bits\n",
    "234 % Int8"
   ]
  },
  {
   "cell_type": "code",
   "execution_count": 37,
   "id": "fdcdac37-3570-48ae-9cbe-ca77f862512f",
   "metadata": {},
   "outputs": [
    {
     "data": {
      "text/plain": [
       "0x0d"
      ]
     },
     "execution_count": 37,
     "metadata": {},
     "output_type": "execute_result"
    }
   ],
   "source": [
    "# Float para Inteiro com a função round\n",
    "round(UInt8, 12.56)"
   ]
  },
  {
   "cell_type": "markdown",
   "id": "e23c57b0-e96d-49f8-baf4-8cad64ce36e9",
   "metadata": {},
   "source": [
    "## Funções matemáticas\n",
    "\n",
    "Assim como na parte de precedências, deixo [aqui](https://docs.julialang.org/en/v1/manual/mathematical-operations/#Rounding-functions) o link para o começo das diferentes listas de funções.\n",
    "\n",
    "Vou citar algumas porque achei-as interessantes:\n",
    "\n",
    "* Tem o `floor(T, x)` para arrendondar para baixo (-Inf) e pode levar o `Type` para converter\n",
    "* Tem o `ceil(T, x)` para arrendondar para cima (Inf) e pode levar o `Type` para converter\n",
    "* O `trunc(T, x)` arredonda no formato \"mais comum\" ( direção a 0) e também pode converter para o `Type` que quisermos\n",
    "\n",
    "\n",
    "* Podemos dividir 2 valores e aplicar diretamente o `floor` ou o `ceil`, com as funções `fld(x,y)` e `cld(x,y)`.\n",
    "* Tem o `div(x,y)` que faz a divisão entre 2 valores (arredonda em direção a zero).\n",
    "* Temos o `rem(x,y)` que dá o nosso resto (podemos utilizar a sintaxe padrão `x % y`).\n",
    "* O `gcd(x,y,...)` retorna o máximo divisor comum dos argumentos.\n",
    "* O `lcm(x,y,...)` retorna o mínimo múltiplo comum dos argumentos.\n",
    "\n",
    "* O `sign(x)` retona -1 se x é negativo, 1 se x é positivo e 0 caso x seja 0.\n",
    "* Já o `signbit(x)` retorna `true` caso o bit de sinal seja 1 (ou seja, se x for negativo), se não retorna `false`.\n",
    "\n",
    "\n",
    "* Tem a função exponencial (`exp(x)`), logarítmo nas diferentes bases(`log(x)` = ln, `log10(x)` = log base 10, `log2(x)` = log base 2).\n",
    "\n",
    "***Nota: Quando precisarem de calcular logaritmos e/ou algo com a função exponencial, onde os vossos valores são extremamente pequenos, usem `expm1` e `log1p`. Caso precisem de calcular hipotenusas onde os valores dos lados do triângulo são muito grandes usem `hypot`. Se seguirem a documentação são referenciados estes 2 pequenos artigos que explicam o porquê:***\n",
    "\n",
    "* [expm1, log1p, erfc](https://www.johndcook.com/blog/2010/06/07/math-library-functions-that-seem-unnecessary/)\n",
    "* [hypot](https://www.johndcook.com/blog/2010/06/02/whats-so-hard-about-finding-a-hypotenuse/)"
   ]
  },
  {
   "cell_type": "markdown",
   "id": "ff55e79e-5a94-4b6b-9645-0ec1d6106291",
   "metadata": {},
   "source": [
    "Temos todas as funções trignométricas, como: `sin`, `cos`, `tan`, `asin`, `acos`, `atan` - onde os resultados vêm em **radianos**.\n",
    "\n",
    "Caso queira-se usar a representação em **graus** tem de se usar as funções com o sufixo `d`: `sind`, `cosd`, `tand`, `asind`, `acosd`, `atand` ...\n",
    "\n",
    "\n",
    "***Nota: Caso queiram calcular senos e cossenos onde: $\\pi \\cdot x$ - usem as funções `sinpi` e `cospi`, pois são mais precisas.***"
   ]
  }
 ],
 "metadata": {
  "kernelspec": {
   "display_name": "Julia 1.6.1",
   "language": "julia",
   "name": "julia-1.6"
  },
  "language_info": {
   "file_extension": ".jl",
   "mimetype": "application/julia",
   "name": "julia",
   "version": "1.6.1"
  }
 },
 "nbformat": 4,
 "nbformat_minor": 5
}
