{
 "cells": [
  {
   "cell_type": "markdown",
   "id": "859cefbe-74da-4c6c-99e2-c22b683a3fd7",
   "metadata": {},
   "source": [
    "# Operações matemáticas\n",
    "\n",
    "***DISCLAIMER: Este notebook foi escrito com base no que li [neste](https://docs.julialang.org/en/v1/manual/mathematical-operations/) capítulo do manual***\n",
    "\n",
    "Bem aqui não vou falar das operações básicas mas sim daquilo que é novidade para mim.\n",
    "\n",
    "Começando por `//` que no Python significa `floor()`, ou seja, simplesmente zerar as os valores decimais.\n",
    "\n",
    "Aqui em Julia `//` é o mesmo que o traço de fração: $\\frac{numerador}{denominador}$, ou seja, podemos criar racionais. \n",
    "\n",
    "Além disso, Julia já transforma as frações na sua forma irredutível."
   ]
  },
  {
   "cell_type": "code",
   "execution_count": 19,
   "id": "8a1caae1-a9f3-48a0-a305-a4e9f6976159",
   "metadata": {},
   "outputs": [
    {
     "data": {
      "text/plain": [
       "3//2"
      ]
     },
     "execution_count": 19,
     "metadata": {},
     "output_type": "execute_result"
    }
   ],
   "source": [
    "# 6//4 vai virar 3//2, pois é a sua forma irredutível\n",
    "6//4"
   ]
  },
  {
   "cell_type": "code",
   "execution_count": 20,
   "id": "dd7dbb36-7560-4dc9-9a7f-dede379ebe7d",
   "metadata": {},
   "outputs": [
    {
     "data": {
      "text/plain": [
       "Rational{Int64}"
      ]
     },
     "execution_count": 20,
     "metadata": {},
     "output_type": "execute_result"
    }
   ],
   "source": [
    "typeof(6//4)"
   ]
  },
  {
   "cell_type": "markdown",
   "id": "aff4de31-9721-4bbf-ae59-59710b55d892",
   "metadata": {},
   "source": [
    "Eu não uso muito os operadores bitwise (costumo usar mais o booleanos: `||`,`&&` e `!`), mas há 2 que me chamaram a atenção.\n",
    "\n",
    "O XOR definido por `\\xor+TAB` e o shift lógico à direita `>>>` diferente do shift aritmético à direita `>>`.\n",
    "\n",
    "Para diferenciar os o shift lógico do aritmético, gostei da resposta escolhida [aqui](https://stackoverflow.com/questions/44694957/the-difference-between-logical-shift-right-arithmetic-shift-right-and-rotate-r)\n",
    "\n",
    "Sempre bom lembrar que shift aritmético à esquerda é o mesmo que multiplicar o número por 2. Já o shift aritmético direito é o mesmo que dividir o número por 2.\n",
    "\n",
    "\n",
    "***Nota: Operações bitwise só funcionam com inteiros!***"
   ]
  },
  {
   "cell_type": "code",
   "execution_count": 27,
   "id": "22e97f4f-eb27-4b10-97d8-d0ae31781a5f",
   "metadata": {},
   "outputs": [
    {
     "name": "stdout",
     "output_type": "stream",
     "text": [
      "6\n",
      "12\n",
      "24\n"
     ]
    }
   ],
   "source": [
    "x = 3\n",
    "\n",
    "# é o mesmo que x * 2\n",
    "println( x << 1)\n",
    "\n",
    "# é o mesmo que x * 2 * 2\n",
    "println( x << 2)\n",
    "\n",
    "# é o mesmo que x * 2 * 2 * 2\n",
    "println( x << 3)"
   ]
  },
  {
   "cell_type": "code",
   "execution_count": 38,
   "id": "d8b77edb-6cd1-4cc7-8981-47db1a94b23a",
   "metadata": {},
   "outputs": [
    {
     "name": "stdout",
     "output_type": "stream",
     "text": [
      "6\n",
      "3\n",
      "1\n"
     ]
    }
   ],
   "source": [
    "x = 12\n",
    "\n",
    "# é o mesmo que x / 2\n",
    "println( x >> 1)\n",
    "\n",
    "# é o mesmo que x / 2 / 2\n",
    "println( x >> 2)\n",
    "\n",
    "# é o mesmo que x / 2 / 2 / 2, \n",
    "# só que aqui a parte decimal é descartada devido a só se trabalhar com inteiros\n",
    "println( x >> 3)"
   ]
  },
  {
   "cell_type": "markdown",
   "id": "3d48d3b8-30af-4e9a-8f41-c40ab2ab4f64",
   "metadata": {},
   "source": [
    "## Operações elemento a elemento\n",
    "\n",
    "\n",
    "Muitas vezes vamos querer fazer certas operações dentro de arrays e matrizes, por exemplo, fazer o quadrado de todos os elementos de um array. Elevar um array ao quadrado vai disparar um erro, pois matemáticamente não faz sentido.\n",
    "\n",
    "Porém há algo denominado de *broadcasting* que basicamente é pegar, neste caso, em um escalar/número e fazer uma dada operação, neste caso exponenciação, em cada elemento do array.\n",
    "\n",
    "`[1,2,3,4] .^ 2` == `[1^2, 2^2, 3^2, 4^2]`\n",
    "\n",
    "\n",
    "O `.` antes de uma operação  siginfica *broadcasting*."
   ]
  },
  {
   "cell_type": "code",
   "execution_count": 42,
   "id": "40dee237-8566-4a57-8fa7-3ff397d7a7cc",
   "metadata": {},
   "outputs": [
    {
     "data": {
      "text/plain": [
       "4-element Vector{Int64}:\n",
       "   1\n",
       "  16\n",
       "  81\n",
       " 256"
      ]
     },
     "execution_count": 42,
     "metadata": {},
     "output_type": "execute_result"
    }
   ],
   "source": [
    "x = [1,2,3,4]\n",
    "\n",
    "x .^ 4"
   ]
  },
  {
   "cell_type": "code",
   "execution_count": 71,
   "id": "c11b1098-d6b2-4cf6-bd77-f1fb168c7e30",
   "metadata": {},
   "outputs": [
    {
     "data": {
      "text/plain": [
       "3-element Vector{Vector{Int64}}:\n",
       " [1, 2]\n",
       " [2, 3]\n",
       " [4, 5]"
      ]
     },
     "execution_count": 71,
     "metadata": {},
     "output_type": "execute_result"
    }
   ],
   "source": [
    "M = [\n",
    "    \n",
    "    [1,2],\n",
    "    [2,3],\n",
    "    [4,5]\n",
    "]"
   ]
  },
  {
   "cell_type": "code",
   "execution_count": 72,
   "id": "89b04113-b235-4447-8060-878f721c74c7",
   "metadata": {},
   "outputs": [
    {
     "data": {
      "text/plain": [
       "1-element Vector{Vector{Int64}}:\n",
       " [1, 2]"
      ]
     },
     "execution_count": 72,
     "metadata": {},
     "output_type": "execute_result"
    }
   ],
   "source": [
    "v = [ [1,2] ]"
   ]
  },
  {
   "cell_type": "code",
   "execution_count": 76,
   "id": "b1c83aa1-40e8-4f58-938f-a37cc46043fd",
   "metadata": {},
   "outputs": [
    {
     "data": {
      "text/plain": [
       "3-element Vector{Vector{Int64}}:\n",
       " [2, 4]\n",
       " [3, 5]\n",
       " [5, 7]"
      ]
     },
     "execution_count": 76,
     "metadata": {},
     "output_type": "execute_result"
    }
   ],
   "source": [
    "# Broadcasting entre uma matriz 3x2 e array 1x2\n",
    "# Temos de ter ou o mesmo número de linhas ou de colunas\n",
    "M .+ v"
   ]
  },
  {
   "cell_type": "markdown",
   "id": "ec45ac71-8a6d-4aa0-a688-5fd02ae19a69",
   "metadata": {},
   "source": [
    "Para verem como o broadcasting é bom demais, imaginem esta expressão:\n",
    "\n",
    "$2 \\cdot A^2 + \\sin {A}, A \\in \\mathbb{R}^{m \\times n}$\n",
    "\n",
    "Já estão a imaginar o loop que vão ter de fazer para aplicar todas as aritméticas a cada elemente da matriz $A$ ... Pois é, não vai ser preciso, pois esta sintaxe dos pontos `.` (prefiro chamar de broadcasting), pode ser aninhada! Ficaria algo deste género:\n",
    "\n",
    "`2 .* A.^2 .+ sin.(A)`\n",
    "\n",
    "\n",
    "Também podem usar o `@.` ele converte todas as operações de uma expressão em broadcasting:\n",
    "\n",
    "`@. 2A^2 + sin(A)`"
   ]
  },
  {
   "cell_type": "markdown",
   "id": "aa46331f-ca13-43ad-8ad0-329d98982d88",
   "metadata": {},
   "source": [
    "## Comparações com Números decimais \"especiais\"\n",
    "\n",
    "Os nossos amigos `Floats` comportam-se da mesma forma que os inteiros, porém `Inf`, `-Inf` e `NaN` são Floats e têm um comportamento um pouco diferente ... Na realidade o `NaN` é que tem um comportamento diferente.\n",
    "\n",
    "* Comecemos pelos 0.0 e -0.0, são iguais mas 0.0 NÃO é maior que -0.0\n",
    "* Inf é maior que qualquer coisa, exceto NaN\n",
    "* -Inf é menor que qualquer coisa, exceto NaN\n",
    "* As comparações com NaN são sempre falsas, incluindo com ele mesmo!\n",
    "\n",
    "\n",
    "Bem isto do `NaN` é estranho, mas gostaria que pensassem um pouco no seu significado ...\n",
    "NaN significa ***Not a Number*** (em português, Não é um Número) e agora pensem, quantas coisas podem não ser um número? Várias! Eu não sou um número (para o governo sou, mas esqueçamos isso), o meu quarto não é um número, o planeta não é um número!\n",
    "\n",
    "Ao dizermos `NaN` podemos estar-nos a referir a qualquer coisa que não é um número, e Julia não sabe, pois só dissemos: NaN"
   ]
  },
  {
   "cell_type": "code",
   "execution_count": 79,
   "id": "2e01805b-108e-4067-9a50-c63b40031b9b",
   "metadata": {},
   "outputs": [
    {
     "data": {
      "text/plain": [
       "false"
      ]
     },
     "execution_count": 79,
     "metadata": {},
     "output_type": "execute_result"
    }
   ],
   "source": [
    "NaN == NaN"
   ]
  },
  {
   "cell_type": "markdown",
   "id": "0a114594-558a-496b-90b6-ec992fe35ba5",
   "metadata": {},
   "source": [
    "Caso queiram verificar se algo é infinito ou finito:"
   ]
  },
  {
   "cell_type": "code",
   "execution_count": 84,
   "id": "c02339fa-7399-442f-a26b-62ff071fc4f4",
   "metadata": {},
   "outputs": [
    {
     "data": {
      "text/plain": [
       "true"
      ]
     },
     "execution_count": 84,
     "metadata": {},
     "output_type": "execute_result"
    }
   ],
   "source": [
    "# Verificar se número é finito\n",
    "isfinite(2.133333)"
   ]
  },
  {
   "cell_type": "code",
   "execution_count": 85,
   "id": "a3be767c-1b9a-4581-b3fe-cd0eece1e4b5",
   "metadata": {},
   "outputs": [
    {
     "data": {
      "text/plain": [
       "true"
      ]
     },
     "execution_count": 85,
     "metadata": {},
     "output_type": "execute_result"
    }
   ],
   "source": [
    "# Verificar se número é infinito\n",
    "isinf(-Inf)"
   ]
  },
  {
   "cell_type": "markdown",
   "id": "f7f65f6c-9660-4425-ab33-2cf8ceacf733",
   "metadata": {},
   "source": [
    "Também podem saber se algo é NaN."
   ]
  },
  {
   "cell_type": "code",
   "execution_count": 86,
   "id": "bceaf600-9190-4cd9-a339-9592b7463191",
   "metadata": {},
   "outputs": [
    {
     "data": {
      "text/plain": [
       "true"
      ]
     },
     "execution_count": 86,
     "metadata": {},
     "output_type": "execute_result"
    }
   ],
   "source": [
    "isnan(NaN)"
   ]
  },
  {
   "cell_type": "markdown",
   "id": "ab6c341a-d95e-47e8-b87b-c66bf55c68c0",
   "metadata": {},
   "source": [
    "E caso tenham 2 arrays iguais, porém com NaNs dentro, se compararem com `==` vai dar falso, porque como explicado acima `NaN != NaN`. MAS, Julia tem uma função que realmente verifica a semalhança entre 2, por exemplo."
   ]
  },
  {
   "cell_type": "code",
   "execution_count": 87,
   "id": "35539cc2-e4a1-4182-8daa-43055c05d50c",
   "metadata": {},
   "outputs": [
    {
     "data": {
      "text/plain": [
       "false"
      ]
     },
     "execution_count": 87,
     "metadata": {},
     "output_type": "execute_result"
    }
   ],
   "source": [
    "[23,34,NaN] == [23,34,NaN]"
   ]
  },
  {
   "cell_type": "code",
   "execution_count": 89,
   "id": "7ae2d171-3369-40fc-820b-216bdcafa4e3",
   "metadata": {},
   "outputs": [
    {
     "data": {
      "text/plain": [
       "true"
      ]
     },
     "execution_count": 89,
     "metadata": {},
     "output_type": "execute_result"
    }
   ],
   "source": [
    "# Função que verifica se 2 arrays, neste caso, são iguais\n",
    "isequal([23,34,NaN], [23,34,NaN])"
   ]
  },
  {
   "cell_type": "markdown",
   "id": "a1e1b3ac-9be5-4f68-a498-3ed47de322fc",
   "metadata": {},
   "source": [
    "Gostava de referir um operador de comparação que eu acho super útil, o aproximadamente: $\\approx$\n",
    "\n",
    "Ele verifica se 2 valores são aproximados"
   ]
  },
  {
   "cell_type": "code",
   "execution_count": 103,
   "id": "223a323c-2e20-4e81-ae5e-774bc8dfae4c",
   "metadata": {},
   "outputs": [
    {
     "name": "stdout",
     "output_type": "stream",
     "text": [
      "0.30000000000000004\n",
      "false\n",
      "true\n"
     ]
    }
   ],
   "source": [
    "println( 0.1 + 0.2 )\n",
    "\n",
    "# Pelo resultado acima vimos que não é bem igual a 0.3\n",
    "println( 0.1 + 0.2 == 0.3)\n",
    "\n",
    "# Mas é beeeemmm próximo, certo?\n",
    "println( 0.1 + 0.2 ≈ 0.3)"
   ]
  }
 ],
 "metadata": {
  "kernelspec": {
   "display_name": "Julia 1.6.1",
   "language": "julia",
   "name": "julia-1.6"
  },
  "language_info": {
   "file_extension": ".jl",
   "mimetype": "application/julia",
   "name": "julia",
   "version": "1.6.1"
  }
 },
 "nbformat": 4,
 "nbformat_minor": 5
}
