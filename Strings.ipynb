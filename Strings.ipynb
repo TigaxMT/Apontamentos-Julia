{
 "cells": [
  {
   "cell_type": "markdown",
   "id": "f1037f77-b062-433c-bdb1-3bc92851b053",
   "metadata": {},
   "source": [
    "# Strings\n",
    "\n",
    "***DISCLAIMER: Este notebook foi escrito com base no que li [neste](https://docs.julialang.org/en/v1/manual/strings/) capítulo do manual***\n",
    "\n",
    "\n",
    "Em outras linguagens é muito comum utilizarmos apenas os caracteres mais básicos, como letras do alfabeto, números e alguns sinais de pontuação, e isso encaixa perfeitamente com o padrão ASCII.\n",
    "\n",
    "Porém já vimos que Julia suporta Unicode e LaTeX na criação de nomes de variáveis, logo podemos supor, e bem, que ela dará suporte a Unicode em strings.\n",
    "\n",
    "Basicamente Julia tem 2 grandes tipos: `AbstractString` e o `AbstractChar` - e daí surge outros subtipos como: `String` e `Char` - onde estes últimos 2 são apenas para strings e caracteres ASCII. \n",
    "\n",
    "Portanto, devemos sempre definir os parâmetros das nossas funções que vão receber strings ou caracteres como um dos grandes tipos."
   ]
  },
  {
   "cell_type": "markdown",
   "id": "d1e5fb39-4b41-4f9c-98de-0b18ca375a0d",
   "metadata": {},
   "source": [
    "## Caracteres\n",
    "\n",
    "Caractere é quando temos apenas uma letra, número, simbolo ou sinal, ou seja, não é um \"\"\"texto\"\"\".\n",
    "\n",
    "Definimos um caracter fazendo o uso de plicas `''`."
   ]
  },
  {
   "cell_type": "code",
   "execution_count": 1,
   "id": "33eaed3b-e4e6-45a5-add8-7b3ba5c4fb3e",
   "metadata": {},
   "outputs": [
    {
     "data": {
      "text/plain": [
       "'A': ASCII/Unicode U+0041 (category Lu: Letter, uppercase)"
      ]
     },
     "execution_count": 1,
     "metadata": {},
     "output_type": "execute_result"
    }
   ],
   "source": [
    "# Atribuir o caracter A à nossa variável\n",
    "caracter = 'A'"
   ]
  },
  {
   "cell_type": "code",
   "execution_count": 2,
   "id": "7c5ed405-da98-4783-a576-d1a1f10f680e",
   "metadata": {},
   "outputs": [
    {
     "data": {
      "text/plain": [
       "Char"
      ]
     },
     "execution_count": 2,
     "metadata": {},
     "output_type": "execute_result"
    }
   ],
   "source": [
    "typeof(caracter)"
   ]
  },
  {
   "cell_type": "markdown",
   "id": "4200432b-7ce1-467a-ad14-ebb0905706eb",
   "metadata": {},
   "source": [
    "Podemos converter caracteres em decimais (o decimal corresponde ao seu **code point**, istoé, a sua posição na tabela ASCII e/ou à sua representação como ponto Unicode)."
   ]
  },
  {
   "cell_type": "code",
   "execution_count": 3,
   "id": "c00953a8-fbc7-43c1-9195-04ae7ecc1986",
   "metadata": {},
   "outputs": [
    {
     "data": {
      "text/plain": [
       "65"
      ]
     },
     "execution_count": 3,
     "metadata": {},
     "output_type": "execute_result"
    }
   ],
   "source": [
    "decimal = Int(caracter)"
   ]
  },
  {
   "cell_type": "markdown",
   "id": "fbe39160-a3a1-450d-bcf0-0b5c313147b1",
   "metadata": {},
   "source": [
    "E podemos reverter isso usando o subtipo `Char`."
   ]
  },
  {
   "cell_type": "code",
   "execution_count": 4,
   "id": "1c301aae-e758-451a-9df8-cac715af2a68",
   "metadata": {},
   "outputs": [
    {
     "data": {
      "text/plain": [
       "'A': ASCII/Unicode U+0041 (category Lu: Letter, uppercase)"
      ]
     },
     "execution_count": 4,
     "metadata": {},
     "output_type": "execute_result"
    }
   ],
   "source": [
    "Char(decimal)"
   ]
  },
  {
   "cell_type": "markdown",
   "id": "8c1621bf-b6e5-4c1b-98f5-0b3ba36e449b",
   "metadata": {},
   "source": [
    "Para verificar se um decimal ou hexadecimal é válido como ASCII/Unicode, utilizamos a função `isvalid`."
   ]
  },
  {
   "cell_type": "code",
   "execution_count": 6,
   "id": "7adc6f9f-1476-4133-803b-e76b6c391251",
   "metadata": {},
   "outputs": [
    {
     "data": {
      "text/plain": [
       "false"
      ]
     },
     "execution_count": 6,
     "metadata": {},
     "output_type": "execute_result"
    }
   ],
   "source": [
    "isvalid(Char, 0x110000)"
   ]
  },
  {
   "cell_type": "code",
   "execution_count": 7,
   "id": "3a1e0c5b-51b1-4286-9827-e4e32ea847bb",
   "metadata": {},
   "outputs": [
    {
     "data": {
      "text/plain": [
       "true"
      ]
     },
     "execution_count": 7,
     "metadata": {},
     "output_type": "execute_result"
    }
   ],
   "source": [
    "isvalid(Char, 0x2200)"
   ]
  },
  {
   "cell_type": "markdown",
   "id": "dde1585b-0b21-4f66-8610-26f288185d03",
   "metadata": {},
   "source": [
    "Para escrevemos um caracter Unicode podemos fazer uso de `'\\u'` "
   ]
  },
  {
   "cell_type": "code",
   "execution_count": 8,
   "id": "0f5e6007-dad3-4279-b3a9-87d820b07ccf",
   "metadata": {},
   "outputs": [
    {
     "data": {
      "text/plain": [
       "'∀': Unicode U+2200 (category Sm: Symbol, math)"
      ]
     },
     "execution_count": 8,
     "metadata": {},
     "output_type": "execute_result"
    }
   ],
   "source": [
    "'\\u2200'"
   ]
  },
  {
   "cell_type": "code",
   "execution_count": 11,
   "id": "0f2854ce-02e5-49aa-a0ca-2e8ced04629a",
   "metadata": {},
   "outputs": [
    {
     "data": {
      "text/plain": [
       "'Σ': Unicode U+03A3 (category Lu: Letter, uppercase)"
      ]
     },
     "execution_count": 11,
     "metadata": {},
     "output_type": "execute_result"
    }
   ],
   "source": [
    "# Sigma maiúsculo\n",
    "'\\u03a3'"
   ]
  },
  {
   "cell_type": "markdown",
   "id": "08d7d3a0-ac2b-474f-b42e-62edeb3ed7ce",
   "metadata": {},
   "source": [
    "Julia sabe se pode printar certos caracteres ou se precisa de recorrer à sua representação Unicode. Isto porque a linguagem tem acesso à linguagem e á região definidas no sistema operativo."
   ]
  },
  {
   "cell_type": "markdown",
   "id": "01219fd4-be5b-4a33-98c7-221dd6383973",
   "metadata": {},
   "source": [
    "# Strings"
   ]
  },
  {
   "cell_type": "code",
   "execution_count": null,
   "id": "74138153-7909-49a1-a869-6778e7653bcd",
   "metadata": {},
   "outputs": [],
   "source": []
  }
 ],
 "metadata": {
  "kernelspec": {
   "display_name": "Julia 1.6.1",
   "language": "julia",
   "name": "julia-1.6"
  },
  "language_info": {
   "file_extension": ".jl",
   "mimetype": "application/julia",
   "name": "julia",
   "version": "1.6.1"
  }
 },
 "nbformat": 4,
 "nbformat_minor": 5
}
