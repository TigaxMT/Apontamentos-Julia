{
 "cells": [
  {
   "cell_type": "markdown",
   "id": "f1037f77-b062-433c-bdb1-3bc92851b053",
   "metadata": {},
   "source": [
    "# Strings\n",
    "\n",
    "***DISCLAIMER: Este notebook foi escrito com base no que li [neste](https://docs.julialang.org/en/v1/manual/strings/) capítulo do manual***\n",
    "\n",
    "\n",
    "Em outras linguagens é muito comum utilizarmos apenas os caracteres mais básicos, como letras do alfabeto, números e alguns sinais de pontuação, e isso encaixa perfeitamente com o padrão ASCII.\n",
    "\n",
    "Porém já vimos que Julia suporta Unicode e LaTeX na criação de nomes de variáveis, logo podemos supor, e bem, que ela dará suporte a Unicode em strings.\n",
    "\n",
    "Basicamente Julia tem 2 grandes tipos: `AbstractString` e o `AbstractChar` - e daí surge outros subtipos como: `String` e `Char` - onde estes últimos 2 são apenas para strings e caracteres ASCII. \n",
    "\n",
    "Portanto, devemos sempre definir os parâmetros das nossas funções que vão receber strings ou caracteres como um dos grandes tipos."
   ]
  },
  {
   "cell_type": "markdown",
   "id": "d1e5fb39-4b41-4f9c-98de-0b18ca375a0d",
   "metadata": {},
   "source": [
    "## Caracteres\n",
    "\n",
    "Caractere é quando temos apenas uma letra, número, simbolo ou sinal, ou seja, não é um \"\"\"texto\"\"\".\n",
    "\n",
    "Definimos um caracter fazendo o uso de plicas `''`."
   ]
  },
  {
   "cell_type": "code",
   "execution_count": 7,
   "id": "33eaed3b-e4e6-45a5-add8-7b3ba5c4fb3e",
   "metadata": {},
   "outputs": [
    {
     "data": {
      "text/plain": [
       "'A': ASCII/Unicode U+0041 (category Lu: Letter, uppercase)"
      ]
     },
     "execution_count": 7,
     "metadata": {},
     "output_type": "execute_result"
    }
   ],
   "source": [
    "# Atribuir o caracter A à nossa variável\n",
    "caracter = 'A'"
   ]
  },
  {
   "cell_type": "code",
   "execution_count": 8,
   "id": "7c5ed405-da98-4783-a576-d1a1f10f680e",
   "metadata": {},
   "outputs": [
    {
     "data": {
      "text/plain": [
       "Char"
      ]
     },
     "execution_count": 8,
     "metadata": {},
     "output_type": "execute_result"
    }
   ],
   "source": [
    "typeof(caracter)"
   ]
  },
  {
   "cell_type": "markdown",
   "id": "4200432b-7ce1-467a-ad14-ebb0905706eb",
   "metadata": {},
   "source": [
    "Podemos converter caracteres em decimais (o decimal corresponde ao seu **code point**, istoé, a sua posição na tabela ASCII e/ou à sua representação como ponto Unicode)."
   ]
  },
  {
   "cell_type": "code",
   "execution_count": 9,
   "id": "c00953a8-fbc7-43c1-9195-04ae7ecc1986",
   "metadata": {},
   "outputs": [
    {
     "data": {
      "text/plain": [
       "65"
      ]
     },
     "execution_count": 9,
     "metadata": {},
     "output_type": "execute_result"
    }
   ],
   "source": [
    "decimal = Int(caracter)"
   ]
  },
  {
   "cell_type": "markdown",
   "id": "fbe39160-a3a1-450d-bcf0-0b5c313147b1",
   "metadata": {},
   "source": [
    "E podemos reverter isso usando o subtipo `Char`."
   ]
  },
  {
   "cell_type": "code",
   "execution_count": 10,
   "id": "1c301aae-e758-451a-9df8-cac715af2a68",
   "metadata": {},
   "outputs": [
    {
     "data": {
      "text/plain": [
       "'A': ASCII/Unicode U+0041 (category Lu: Letter, uppercase)"
      ]
     },
     "execution_count": 10,
     "metadata": {},
     "output_type": "execute_result"
    }
   ],
   "source": [
    "Char(decimal)"
   ]
  },
  {
   "cell_type": "markdown",
   "id": "8c1621bf-b6e5-4c1b-98f5-0b3ba36e449b",
   "metadata": {},
   "source": [
    "Para verificar se um decimal ou hexadecimal é válido como ASCII/Unicode, utilizamos a função `isvalid`."
   ]
  },
  {
   "cell_type": "code",
   "execution_count": 11,
   "id": "7adc6f9f-1476-4133-803b-e76b6c391251",
   "metadata": {},
   "outputs": [
    {
     "data": {
      "text/plain": [
       "false"
      ]
     },
     "execution_count": 11,
     "metadata": {},
     "output_type": "execute_result"
    }
   ],
   "source": [
    "isvalid(Char, 0x110000)"
   ]
  },
  {
   "cell_type": "code",
   "execution_count": 12,
   "id": "3a1e0c5b-51b1-4286-9827-e4e32ea847bb",
   "metadata": {},
   "outputs": [
    {
     "data": {
      "text/plain": [
       "true"
      ]
     },
     "execution_count": 12,
     "metadata": {},
     "output_type": "execute_result"
    }
   ],
   "source": [
    "isvalid(Char, 0x2200)"
   ]
  },
  {
   "cell_type": "markdown",
   "id": "dde1585b-0b21-4f66-8610-26f288185d03",
   "metadata": {},
   "source": [
    "Para escrevemos um caracter Unicode podemos fazer uso de `'\\u'` "
   ]
  },
  {
   "cell_type": "code",
   "execution_count": 13,
   "id": "0f5e6007-dad3-4279-b3a9-87d820b07ccf",
   "metadata": {},
   "outputs": [
    {
     "data": {
      "text/plain": [
       "'∀': Unicode U+2200 (category Sm: Symbol, math)"
      ]
     },
     "execution_count": 13,
     "metadata": {},
     "output_type": "execute_result"
    }
   ],
   "source": [
    "'\\u2200'"
   ]
  },
  {
   "cell_type": "code",
   "execution_count": 14,
   "id": "0f2854ce-02e5-49aa-a0ca-2e8ced04629a",
   "metadata": {},
   "outputs": [
    {
     "data": {
      "text/plain": [
       "'Σ': Unicode U+03A3 (category Lu: Letter, uppercase)"
      ]
     },
     "execution_count": 14,
     "metadata": {},
     "output_type": "execute_result"
    }
   ],
   "source": [
    "# Sigma maiúsculo\n",
    "'\\u03a3'"
   ]
  },
  {
   "cell_type": "markdown",
   "id": "08d7d3a0-ac2b-474f-b42e-62edeb3ed7ce",
   "metadata": {},
   "source": [
    "Julia sabe se pode printar certos caracteres ou se precisa de recorrer à sua representação Unicode. Isto porque a linguagem tem acesso à linguagem e á região definidas no sistema operativo."
   ]
  },
  {
   "cell_type": "markdown",
   "id": "01219fd4-be5b-4a33-98c7-221dd6383973",
   "metadata": {},
   "source": [
    "# Strings\n",
    "\n",
    "Para criar strings utilizamos as aspas `\"\"`. E caso queiramos utilizar as aspas dentro da strings temos que fazer um scape `\\`."
   ]
  },
  {
   "cell_type": "code",
   "execution_count": 15,
   "id": "e9341dc5-4c80-4931-b44c-27c9c5e1a2f5",
   "metadata": {},
   "outputs": [
    {
     "name": "stdout",
     "output_type": "stream",
     "text": [
      "Sou uma string\n"
     ]
    }
   ],
   "source": [
    "println(\"Sou uma string\")"
   ]
  },
  {
   "cell_type": "code",
   "execution_count": 16,
   "id": "fc8ec1b4-50b5-4ece-9866-ca79ba951e02",
   "metadata": {},
   "outputs": [
    {
     "name": "stdout",
     "output_type": "stream",
     "text": [
      "Sou uma string com \"aspas\"\n"
     ]
    }
   ],
   "source": [
    "println(\"Sou uma string com \\\"aspas\\\"\")"
   ]
  },
  {
   "cell_type": "markdown",
   "id": "c57dcc78-0384-4f7e-925f-6ace4e068268",
   "metadata": {},
   "source": [
    "Para extrair caracteres de uma string, podemos tratá-la como um array e acedemos através dos índices.\n",
    "\n",
    "Caso queiramos o primeiro ou último caracter utilizamos as palavras reservadas `begin` e `end` como índices.\n",
    "\n",
    "Porém essas palavras são apenas um shorthand, um \"atalho\" para as funções `firstindex(str)` e `lastindex(str)`."
   ]
  },
  {
   "cell_type": "code",
   "execution_count": 17,
   "id": "416f1270-bd01-4425-9c49-eade134d6f9b",
   "metadata": {},
   "outputs": [
    {
     "data": {
      "text/plain": [
       "'S': ASCII/Unicode U+0053 (category Lu: Letter, uppercase)"
      ]
     },
     "execution_count": 17,
     "metadata": {},
     "output_type": "execute_result"
    }
   ],
   "source": [
    "str = \"Sou um teste\"\n",
    "\n",
    "str[begin]"
   ]
  },
  {
   "cell_type": "code",
   "execution_count": 18,
   "id": "f2fa326a-b712-4a6a-8756-d62125b176d5",
   "metadata": {},
   "outputs": [
    {
     "data": {
      "text/plain": [
       "'S': ASCII/Unicode U+0053 (category Lu: Letter, uppercase)"
      ]
     },
     "execution_count": 18,
     "metadata": {},
     "output_type": "execute_result"
    }
   ],
   "source": [
    "str[begin]"
   ]
  },
  {
   "cell_type": "code",
   "execution_count": 19,
   "id": "00956e85-b57b-4a30-aa90-9b21105816fa",
   "metadata": {},
   "outputs": [
    {
     "data": {
      "text/plain": [
       "'S': ASCII/Unicode U+0053 (category Lu: Letter, uppercase)"
      ]
     },
     "execution_count": 19,
     "metadata": {},
     "output_type": "execute_result"
    }
   ],
   "source": [
    "str[1]"
   ]
  },
  {
   "cell_type": "markdown",
   "id": "00f30ebd-0242-4bce-ac56-5a309f8d66e2",
   "metadata": {},
   "source": [
    "***Já devem ter reparado que Julia tem algo igual ao MATLAB ... A indexação.***\n",
    "\n",
    "***Portanto os índices não começam em 0 mas sim em 1. Estes pormenores e outros que já apareceram ou vão aparecer mais à frente, são consequência de Julia ser uma linguagem voltada para a área científica (matemática).***"
   ]
  },
  {
   "cell_type": "markdown",
   "id": "335bc84a-9ca9-4f77-9357-9b1c7f13a7b7",
   "metadata": {},
   "source": [
    "Assim como no Python, podemos extrair substrings utilizando: `[indice_inicio:indice_fim]`"
   ]
  },
  {
   "cell_type": "code",
   "execution_count": 20,
   "id": "84935774-c1fa-484f-bd66-1652d497ebeb",
   "metadata": {},
   "outputs": [
    {
     "data": {
      "text/plain": [
       "\"Sou\""
      ]
     },
     "execution_count": 20,
     "metadata": {},
     "output_type": "execute_result"
    }
   ],
   "source": [
    "str[1:3]"
   ]
  },
  {
   "cell_type": "markdown",
   "id": "b9c74cb8-2796-4c01-89c1-d0f37c9919d4",
   "metadata": {},
   "source": [
    "***MAS*** o senhor Python habitua-nos muito mal, pois quando o usamos se definirmos string com `''` é o mesmo que definir com `\"\"` e tudo é considerado string.\n",
    "\n",
    "Pois é ... aqui em Julia isto `str[6]` é diferente disto `str[6:6]`, porque `str[6]` está-nos a retornar o caracter no índice 6, porém `str[6:6]` está a retornar uma string que começa no índice 6 e termina no índice 6. Resumo um é do tipo `Char` e o outro é do tipo `String`."
   ]
  },
  {
   "cell_type": "code",
   "execution_count": 21,
   "id": "5393230a-d2ac-4cc3-81bb-414723ba7a0c",
   "metadata": {},
   "outputs": [
    {
     "data": {
      "text/plain": [
       "Char"
      ]
     },
     "execution_count": 21,
     "metadata": {},
     "output_type": "execute_result"
    }
   ],
   "source": [
    "typeof( str[6] )"
   ]
  },
  {
   "cell_type": "code",
   "execution_count": 22,
   "id": "0b193ca3-816c-4cc1-9f92-097c819872a9",
   "metadata": {},
   "outputs": [
    {
     "data": {
      "text/plain": [
       "String"
      ]
     },
     "execution_count": 22,
     "metadata": {},
     "output_type": "execute_result"
    }
   ],
   "source": [
    "typeof( str[6:6] )"
   ]
  },
  {
   "cell_type": "markdown",
   "id": "647827de-ff75-4308-b9c7-a2ae024a662c",
   "metadata": {},
   "source": [
    "Também se pode obter substrings através do tipo `SubString`, fazendo com que tenhamos um objeto desse tipo e não do tipo `String`."
   ]
  },
  {
   "cell_type": "code",
   "execution_count": 23,
   "id": "dd5a714a-af17-4b60-9aa8-b4ef9de1f192",
   "metadata": {},
   "outputs": [
    {
     "data": {
      "text/plain": [
       "SubString{String}"
      ]
     },
     "execution_count": 23,
     "metadata": {},
     "output_type": "execute_result"
    }
   ],
   "source": [
    "sub = SubString(str, 1, 4)\n",
    "\n",
    "typeof(sub)"
   ]
  },
  {
   "cell_type": "markdown",
   "id": "643e8ed3-bd73-4641-92a1-6f1c60361ed4",
   "metadata": {},
   "source": [
    "# Unicode\n",
    "\n",
    "Quando definimos alguma string utilizando o `\\u`, ela será codificada em UTF-8 o que faz com que cada caracter possa ocupar um número de bytes superior a 1 (<u>normalmente do decimal(code point) 128 para cima, os caracteres ocupam mais que 1 byte</u>).\n",
    "\n",
    "\n",
    "Isto fará com que quando tentamos aceder a um caracter de índice $n$, nem sempre será válido, pois podemos apanhar algum byte referente ao caracter do índice anterior."
   ]
  },
  {
   "cell_type": "code",
   "execution_count": 24,
   "id": "a15fa9c5-0e54-42f2-aa8e-5a46a40c0126",
   "metadata": {},
   "outputs": [
    {
     "data": {
      "text/plain": [
       "7"
      ]
     },
     "execution_count": 24,
     "metadata": {},
     "output_type": "execute_result"
    }
   ],
   "source": [
    "s = \"\\u2200 x \\u2203 y\"\n",
    "\n",
    "length(s)"
   ]
  },
  {
   "cell_type": "code",
   "execution_count": 25,
   "id": "a2f88b2a-2e4a-4bc4-9f99-ef8f5a8f605a",
   "metadata": {},
   "outputs": [
    {
     "data": {
      "text/plain": [
       "'∀': Unicode U+2200 (category Sm: Symbol, math)"
      ]
     },
     "execution_count": 25,
     "metadata": {},
     "output_type": "execute_result"
    }
   ],
   "source": [
    "# O primeiro índice representará o primeiro caracter\n",
    "s[1]"
   ]
  },
  {
   "cell_type": "code",
   "execution_count": 26,
   "id": "d0d3b87a-decf-43d4-a265-27cf26f42c45",
   "metadata": {},
   "outputs": [
    {
     "ename": "LoadError",
     "evalue": "StringIndexError: invalid index [2], valid nearby indices [1]=>'∀', [4]=>' '",
     "output_type": "error",
     "traceback": [
      "StringIndexError: invalid index [2], valid nearby indices [1]=>'∀', [4]=>' '",
      "",
      "Stacktrace:",
      " [1] string_index_err(s::String, i::Int64)",
      "   @ Base .\\strings\\string.jl:12",
      " [2] getindex_continued(s::String, i::Int64, u::UInt32)",
      "   @ Base .\\strings\\string.jl:233",
      " [3] getindex(s::String, i::Int64)",
      "   @ Base .\\strings\\string.jl:226",
      " [4] top-level scope",
      "   @ In[26]:2",
      " [5] eval",
      "   @ .\\boot.jl:360 [inlined]",
      " [6] include_string(mapexpr::typeof(REPL.softscope), mod::Module, code::String, filename::String)",
      "   @ Base .\\loading.jl:1094"
     ]
    }
   ],
   "source": [
    "# Como o caracter anterior é um Unicode com code point > 128, este índice ainda pertence a ele\n",
    "s[2]"
   ]
  },
  {
   "cell_type": "code",
   "execution_count": 27,
   "id": "42d398d6-da13-4261-81f3-19d4933f2238",
   "metadata": {},
   "outputs": [
    {
     "ename": "LoadError",
     "evalue": "StringIndexError: invalid index [3], valid nearby indices [1]=>'∀', [4]=>' '",
     "output_type": "error",
     "traceback": [
      "StringIndexError: invalid index [3], valid nearby indices [1]=>'∀', [4]=>' '",
      "",
      "Stacktrace:",
      " [1] string_index_err(s::String, i::Int64)",
      "   @ Base .\\strings\\string.jl:12",
      " [2] getindex_continued(s::String, i::Int64, u::UInt32)",
      "   @ Base .\\strings\\string.jl:233",
      " [3] getindex(s::String, i::Int64)",
      "   @ Base .\\strings\\string.jl:226",
      " [4] top-level scope",
      "   @ In[27]:1",
      " [5] eval",
      "   @ .\\boot.jl:360 [inlined]",
      " [6] include_string(mapexpr::typeof(REPL.softscope), mod::Module, code::String, filename::String)",
      "   @ Base .\\loading.jl:1094"
     ]
    }
   ],
   "source": [
    "s[3]"
   ]
  },
  {
   "cell_type": "markdown",
   "id": "179439c2-337f-462a-ad05-5fe6ce158fb9",
   "metadata": {},
   "source": [
    "Bem o caracter ∀ ocupou 3 bytes da nossa string, mas se repararmos Julia avisa, no erro, qual o próximo caracter válido para printar: `StringIndexError: invalid index [3], valid nearby indices [1]=>'∀', [4]=>' '\n",
    "` - Neste caso o índice 4 é o próximo índice válido."
   ]
  },
  {
   "cell_type": "code",
   "execution_count": 28,
   "id": "c58139e6-2224-4314-a6cf-972586a33876",
   "metadata": {},
   "outputs": [
    {
     "data": {
      "text/plain": [
       "' ': ASCII/Unicode U+0020 (category Zs: Separator, space)"
      ]
     },
     "execution_count": 28,
     "metadata": {},
     "output_type": "execute_result"
    }
   ],
   "source": [
    "s[4]"
   ]
  },
  {
   "cell_type": "markdown",
   "id": "571549e9-e440-43a9-ae38-14a2e413dd41",
   "metadata": {},
   "source": [
    "Para evitarmos ter que verificar todos os índices e olhar para a mensagem de erro, podemos utilizar a função `nextind(str, indice)`, onde o `indice` é o índice a partir do qual queremos verificar o próximo índice válido. Por exemplo, se eu passa-se a nossa string `s` e o índice $1$, a função retornaria $4$.\n",
    "\n",
    "\n",
    "Também há a `prevind(string, indice)` caso queiramos ver de trás para a frente, ou seja, o índice válido anterior ao que passámos como argumento.\n",
    "\n",
    "Podemos passar um argumento opcional, sendo esse o valor válido que queremos. Por exemplo, se eu quiser o índice válido a seguir ao primeiro índice, faço: `nextind(s, firstindex(s))` - MAS, se eu quiser não o valor a seguir, mas o valor ... a seguir ao a seguir, ou seja, o segundo valor válido depois do primeiro índice, faço: `nextind(s, firstindex(s), 2)`."
   ]
  },
  {
   "cell_type": "code",
   "execution_count": 29,
   "id": "0092d4d6-4214-4832-b7e1-494411f52cb0",
   "metadata": {},
   "outputs": [
    {
     "data": {
      "text/plain": [
       "4"
      ]
     },
     "execution_count": 29,
     "metadata": {},
     "output_type": "execute_result"
    }
   ],
   "source": [
    "# índice do valor válido a seguir ao primeiro indice\n",
    "nextind(s, firstindex(s))"
   ]
  },
  {
   "cell_type": "code",
   "execution_count": 30,
   "id": "ea4fe232-1537-4823-8910-9caaed7b2aeb",
   "metadata": {},
   "outputs": [
    {
     "data": {
      "text/plain": [
       "5"
      ]
     },
     "execution_count": 30,
     "metadata": {},
     "output_type": "execute_result"
    }
   ],
   "source": [
    "# índice do segundo valor válido a seguir ao primeiro indice\n",
    "nextind(s, firstindex(s), 2)"
   ]
  },
  {
   "cell_type": "markdown",
   "id": "693be6db-6b54-4450-8f16-84a7c2843820",
   "metadata": {},
   "source": [
    "***Nota: `length(string) <= lastindex(s)` - pois o length vai contar como se cada caracter ocupasse apenas 1 byte, apenas 1 índice.***"
   ]
  },
  {
   "cell_type": "markdown",
   "id": "9addf6cd-95b3-4973-aa5e-06376779e57b",
   "metadata": {},
   "source": [
    "Por fim, se quisermos iterar por todos os possíveis índices em uma string, utilizamos a função `eachindex(string)` que já fará de forma otimizada.\n",
    "\n",
    "\n",
    "***Nota:*** Ela retornará um objeto do tipo `EachStringIndex` que não é a melhor forma de visualizar os índices. Para isso precisamos converter o objeto em um array/vector de valores (que no caso são índices) utilizando uma outra função `collect(object)`. "
   ]
  },
  {
   "cell_type": "code",
   "execution_count": 31,
   "id": "38e4e266-8c15-46fc-8d47-9f37b3678eb2",
   "metadata": {},
   "outputs": [
    {
     "data": {
      "text/plain": [
       "7-element Vector{Int64}:\n",
       "  1\n",
       "  4\n",
       "  5\n",
       "  6\n",
       "  7\n",
       " 10\n",
       " 11"
      ]
     },
     "execution_count": 31,
     "metadata": {},
     "output_type": "execute_result"
    }
   ],
   "source": [
    "collect( eachindex(s) )"
   ]
  },
  {
   "cell_type": "markdown",
   "id": "e00a0ce8-5bcc-4d95-bfc9-73a2991c144f",
   "metadata": {},
   "source": [
    "Podemos ver a code unit crua (representação do(s) byte(s)) de um dado caracter utilizando o `codeunit(string, indice)`. \n",
    "\n",
    "Podemos mostrar todos os code units usando `codeunits(string)`. "
   ]
  },
  {
   "cell_type": "code",
   "execution_count": 32,
   "id": "ff75f879-c070-43aa-8bd7-36ae6913668c",
   "metadata": {},
   "outputs": [
    {
     "data": {
      "text/plain": [
       "0x88"
      ]
     },
     "execution_count": 32,
     "metadata": {},
     "output_type": "execute_result"
    }
   ],
   "source": [
    "# Code unit do valor no índice 2\n",
    "codeunit(s, 2)"
   ]
  },
  {
   "cell_type": "code",
   "execution_count": 33,
   "id": "d2697733-0463-4691-91ca-f93e0c99d431",
   "metadata": {},
   "outputs": [
    {
     "data": {
      "text/plain": [
       "11-element Base.CodeUnits{UInt8, String}:\n",
       " 0xe2\n",
       " 0x88\n",
       " 0x80\n",
       " 0x20\n",
       " 0x78\n",
       " 0x20\n",
       " 0xe2\n",
       " 0x88\n",
       " 0x83\n",
       " 0x20\n",
       " 0x79"
      ]
     },
     "execution_count": 33,
     "metadata": {},
     "output_type": "execute_result"
    }
   ],
   "source": [
    "codeunits(s)"
   ]
  },
  {
   "cell_type": "markdown",
   "id": "5f3277c8-2f71-420c-a59d-26ea42a6c604",
   "metadata": {},
   "source": [
    "Julia aceita qualquer sequência de unit codes, mesmo que contenham UTF-8 codes inválidos. Isso porque ela faz uma verificação da seguinte forma:\n",
    "* Divide a sequência em sub sequências de 8-bit code units\n",
    "* Verifica cada uma dessas sub sequências (cada uma delas deve ou não referir-se a um caracter)\n",
    "* Essas verificação é feita comparando com alguns padrões\n",
    "* Caso não bata com os padrões Julia dirá se é uma caracter inválido por má formação ou por ter uma sub sequência de code units muito elevado, por exemplo."
   ]
  },
  {
   "cell_type": "code",
   "execution_count": 34,
   "id": "2e394e9b-be34-45bb-a728-c6791caf4087",
   "metadata": {},
   "outputs": [
    {
     "data": {
      "text/plain": [
       "\"\\xc0\\xa0\\xe2\\x88\\xe2|\""
      ]
     },
     "execution_count": 34,
     "metadata": {},
     "output_type": "execute_result"
    }
   ],
   "source": [
    "# Exemplo mostrado no manual de uma sequência de code units\n",
    "s = \"\\xc0\\xa0\\xe2\\x88\\xe2|\""
   ]
  },
  {
   "cell_type": "code",
   "execution_count": 35,
   "id": "3ea24e06-52b6-46d3-b9d9-9388bfa175d1",
   "metadata": {},
   "outputs": [
    {
     "data": {
      "text/plain": [
       "'\\xc0\\xa0': [overlong] ASCII/Unicode U+0020 (category Zs: Separator, space)"
      ]
     },
     "metadata": {},
     "output_type": "display_data"
    },
    {
     "data": {
      "text/plain": [
       "'\\xe2\\x88': Malformed UTF-8 (category Ma: Malformed, bad data)"
      ]
     },
     "metadata": {},
     "output_type": "display_data"
    },
    {
     "data": {
      "text/plain": [
       "'\\xe2': Malformed UTF-8 (category Ma: Malformed, bad data)"
      ]
     },
     "metadata": {},
     "output_type": "display_data"
    },
    {
     "data": {
      "text/plain": [
       "'|': ASCII/Unicode U+007C (category Sm: Symbol, math)"
      ]
     },
     "metadata": {},
     "output_type": "display_data"
    }
   ],
   "source": [
    "# Iteramos por todas as sequências de 8-bit code units (caracteres)\n",
    "foreach(display, s)"
   ]
  },
  {
   "cell_type": "markdown",
   "id": "b176d484-3971-47a7-b38d-759cb3b11bff",
   "metadata": {},
   "source": [
    "Isto não é algo que eu domine muito, mas baseado na documentação vimos que:\n",
    "* `'\\xc0\\xa0'` são code units muito altos para representar o caracter espaço ' '\n",
    "* `'\\xe2\\x88'` apesar de válidos, o próximo code unit (`'\\xe2'`) torna esta sub sequência inválida\n",
    "* `'\\xe2'` este além de fazer á sub sequência anterior inválida, também é inválido, pois `|` não é uma continuação válida.\n",
    "* `'|'` é um caracter normal\n",
    "\n",
    "\n",
    "***Nota: O `foreach` é uma forma de loop onde, basicamente, iteramos sobre um objeto e passamos ele para uma função. O `display` é uma função que permite printar o valor de um objeto e ainda obter algumas informações acerca dele.***\n",
    "\n",
    "Novamente, para não termos de nos basear em erros para verificar o que cada sub sequência tem ou não errado, podemos usar a função `isvalid.(array/vector)` com a nossa `String`.\n",
    "\n",
    "***Nota***: O `.` depois de `isvalid` significa broadcasting, ou seja, queremos verificar que cada elemento no array é válido(1) ou não(0)."
   ]
  },
  {
   "cell_type": "code",
   "execution_count": 36,
   "id": "c8cd0d6d-5bca-4bec-a215-be99ea756092",
   "metadata": {},
   "outputs": [
    {
     "data": {
      "text/plain": [
       "4-element BitVector:\n",
       " 0\n",
       " 0\n",
       " 0\n",
       " 1"
      ]
     },
     "execution_count": 36,
     "metadata": {},
     "output_type": "execute_result"
    }
   ],
   "source": [
    "isvalid.(collect(s))"
   ]
  },
  {
   "cell_type": "markdown",
   "id": "14872292-e63d-4d92-96bc-370ef3566f67",
   "metadata": {},
   "source": [
    "Um método útil na nossa jornada é o `transcode(Type, string)`, ele permite-nos converter as nossa strings para outros encoders."
   ]
  },
  {
   "cell_type": "markdown",
   "id": "7097dd75-28fa-4664-bcb3-b744c551c3cf",
   "metadata": {},
   "source": [
    "# Concatenação\n",
    "\n",
    "Comecemos já por avisar que concatenar strings que possuem sequências de code units inválidas podem gerar outros caracteres.\n",
    "\n",
    "Mas para mim a parte mais interessante é o operador utilizado para concatenar strings. Em Python usamos o `+` para concatenar strings, porém em Julia usamos o `*`.\n",
    "\n",
    "Mas porquê ?? Na realidade, faz bastante sentido matematicamente! Quando nós adicionamos 2 matrizes de tamanhos iguais, nós definimos que essa operação é comutativa, porque: $A + B == B + A$- mas, e se em vez de números fossem strings?\n",
    "\n",
    "$\"Jupyter\" + \"Notebook\" \\neq \"Notebook\" + \"Jupyter\"$ - logo concatenar strings adicionando não faz sentido, MAS utilizando o operador de multiplicação `*` FAZ! Pois multiplicação de 2 matrizes não é algo comutativo: $A \\cdot B \\neq B \\cdot A$.\n",
    "\n",
    "Lembrem-se que Julia é uma linguagem com escopo científico, então sempre haverá relações com matemática."
   ]
  },
  {
   "cell_type": "code",
   "execution_count": 37,
   "id": "eddbad4e-fa87-4311-b5f7-bbe099f9bbd0",
   "metadata": {},
   "outputs": [
    {
     "data": {
      "text/plain": [
       "\"Jupyter Notebook\""
      ]
     },
     "execution_count": 37,
     "metadata": {},
     "output_type": "execute_result"
    }
   ],
   "source": [
    "# Uma simples concatenação\n",
    "\"Jupyter \" * \"Notebook\""
   ]
  }
 ],
 "metadata": {
  "kernelspec": {
   "display_name": "Julia 1.6.1",
   "language": "julia",
   "name": "julia-1.6"
  },
  "language_info": {
   "file_extension": ".jl",
   "mimetype": "application/julia",
   "name": "julia",
   "version": "1.6.1"
  }
 },
 "nbformat": 4,
 "nbformat_minor": 5
}
